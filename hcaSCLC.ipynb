{
 "cells": [
  {
   "cell_type": "code",
   "execution_count": 125,
   "id": "5341d4fd-d8ee-4b38-930c-0d8ee04cebbf",
   "metadata": {},
   "outputs": [],
   "source": [
    "import pandas as pd"
   ]
  },
  {
   "cell_type": "code",
   "execution_count": 127,
   "id": "9895b0ef-cfb0-4e1e-bd1f-2cd243760a5d",
   "metadata": {},
   "outputs": [
    {
     "name": "stderr",
     "output_type": "stream",
     "text": [
      "/var/folders/9p/ps1qpy4n2jx7h5tvpztxhjkc0000gn/T/ipykernel_36555/384180939.py:1: DtypeWarning:\n",
      "\n",
      "Columns (9) have mixed types. Specify dtype option on import or set low_memory=False.\n",
      "\n"
     ]
    }
   ],
   "source": [
    "file = pd.read_csv(r\"/Users/anikarzzk/Downloads/deidentified_hca_employees.csv\")"
   ]
  },
  {
   "cell_type": "code",
   "execution_count": 128,
   "id": "d98d2b42-9cb4-43c1-97fd-b1345113c0e1",
   "metadata": {},
   "outputs": [
    {
     "data": {
      "text/html": [
       "<div>\n",
       "<style scoped>\n",
       "    .dataframe tbody tr th:only-of-type {\n",
       "        vertical-align: middle;\n",
       "    }\n",
       "\n",
       "    .dataframe tbody tr th {\n",
       "        vertical-align: top;\n",
       "    }\n",
       "\n",
       "    .dataframe thead th {\n",
       "        text-align: right;\n",
       "    }\n",
       "</style>\n",
       "<table border=\"1\" class=\"dataframe\">\n",
       "  <thead>\n",
       "    <tr style=\"text-align: right;\">\n",
       "      <th></th>\n",
       "      <th>Emp34Id</th>\n",
       "      <th>EmpLastName</th>\n",
       "      <th>EmpFirstName</th>\n",
       "      <th>EmpProcessLevelDesc</th>\n",
       "      <th>EmpLegCoid</th>\n",
       "      <th>EmpLocationDesc</th>\n",
       "      <th>facility_city</th>\n",
       "      <th>facility_state</th>\n",
       "      <th>facility_zip</th>\n",
       "      <th>EmpDepartment</th>\n",
       "      <th>EmpDepartmentName</th>\n",
       "      <th>EmpPositionDesc</th>\n",
       "      <th>MgrName</th>\n",
       "      <th>MgrTitle</th>\n",
       "      <th>Mgr34Id</th>\n",
       "      <th>EmpAnnivDate</th>\n",
       "      <th>EmpPositionIsSuper</th>\n",
       "      <th>EmpRNExperienceDate</th>\n",
       "    </tr>\n",
       "  </thead>\n",
       "  <tbody>\n",
       "    <tr>\n",
       "      <th>0</th>\n",
       "      <td>742ec4ef-20f8-420b-ae7e-2bfcffe55cae</td>\n",
       "      <td>Heaney</td>\n",
       "      <td>Bg-lynnezee</td>\n",
       "      <td>HCA Florida Pasadena Hospital</td>\n",
       "      <td>26536</td>\n",
       "      <td>HCA Florida Pasadena Hospital</td>\n",
       "      <td>Petersburg</td>\n",
       "      <td>FL</td>\n",
       "      <td>33707</td>\n",
       "      <td>75410</td>\n",
       "      <td>Respiratory Therapy</td>\n",
       "      <td>Supv Respiratory Therapy</td>\n",
       "      <td>Jahbari, Deckow</td>\n",
       "      <td>Dir Critical Care</td>\n",
       "      <td>9d39e232-d133-4ce4-bf6d-276cc5a7e364</td>\n",
       "      <td>10/15/12</td>\n",
       "      <td>Y</td>\n",
       "      <td>NaN</td>\n",
       "    </tr>\n",
       "    <tr>\n",
       "      <th>1</th>\n",
       "      <td>509d3309-ebad-4a78-b0e0-e61824802ce0</td>\n",
       "      <td>Corwin</td>\n",
       "      <td>Amarda</td>\n",
       "      <td>Lawson Group - Officers</td>\n",
       "      <td>27610</td>\n",
       "      <td>Mission Hospital</td>\n",
       "      <td>Ashville</td>\n",
       "      <td>NC</td>\n",
       "      <td>28801</td>\n",
       "      <td>27610</td>\n",
       "      <td>Mission Hospital</td>\n",
       "      <td>CEO Mission Hospital</td>\n",
       "      <td>Derek, Kling</td>\n",
       "      <td>Div President North Carolina</td>\n",
       "      <td>65aecf22-f6fd-490d-9a2b-52c02e001790</td>\n",
       "      <td>9/9/13</td>\n",
       "      <td>Y</td>\n",
       "      <td>NaN</td>\n",
       "    </tr>\n",
       "    <tr>\n",
       "      <th>2</th>\n",
       "      <td>35616aa4-c019-494a-bae1-fc749d87246b</td>\n",
       "      <td>Schultz</td>\n",
       "      <td>Jahmei</td>\n",
       "      <td>Swedish Medical Center</td>\n",
       "      <td>27100</td>\n",
       "      <td>Swedish Medical Center</td>\n",
       "      <td>Englewood</td>\n",
       "      <td>CO</td>\n",
       "      <td>80110</td>\n",
       "      <td>90217</td>\n",
       "      <td>Finance</td>\n",
       "      <td>Controller</td>\n",
       "      <td>Steven, Parisian</td>\n",
       "      <td>CFO</td>\n",
       "      <td>d72a0182-66af-4f1b-8e89-b2e26c361f78</td>\n",
       "      <td>3/10/08</td>\n",
       "      <td>Y</td>\n",
       "      <td>NaN</td>\n",
       "    </tr>\n",
       "    <tr>\n",
       "      <th>3</th>\n",
       "      <td>a8974b25-7330-4b16-b6b0-1e512cc93815</td>\n",
       "      <td>Lynch</td>\n",
       "      <td>Artur</td>\n",
       "      <td>Parkridge Medical Center</td>\n",
       "      <td>34224</td>\n",
       "      <td>Parkridge Medical Center</td>\n",
       "      <td>Chattanooga</td>\n",
       "      <td>TN</td>\n",
       "      <td>37404</td>\n",
       "      <td>78338</td>\n",
       "      <td>Employee Health</td>\n",
       "      <td>Mgr EE Health</td>\n",
       "      <td>NaN</td>\n",
       "      <td>Mkt VP HR</td>\n",
       "      <td>NaN</td>\n",
       "      <td>8/28/06</td>\n",
       "      <td>Y</td>\n",
       "      <td>9/12/94</td>\n",
       "    </tr>\n",
       "    <tr>\n",
       "      <th>4</th>\n",
       "      <td>10ae639a-e858-42fa-909f-60e8abba0787</td>\n",
       "      <td>Torphy</td>\n",
       "      <td>Tamand</td>\n",
       "      <td>Lawson IT&amp;S</td>\n",
       "      <td>26249</td>\n",
       "      <td>1100 MLK (Capitol View)</td>\n",
       "      <td>Nashville</td>\n",
       "      <td>TN</td>\n",
       "      <td>37203</td>\n",
       "      <td>650D2</td>\n",
       "      <td>HT IEO &amp; Shared Services</td>\n",
       "      <td>Mgr Integration</td>\n",
       "      <td>Kasmin, Hauck</td>\n",
       "      <td>Dir Integration Svcs</td>\n",
       "      <td>fb123e32-71a8-42a2-a46b-608b127e719e</td>\n",
       "      <td>2/14/00</td>\n",
       "      <td>Y</td>\n",
       "      <td>NaN</td>\n",
       "    </tr>\n",
       "    <tr>\n",
       "      <th>5</th>\n",
       "      <td>43bca7a9-19cc-4117-83b7-49a09950b710</td>\n",
       "      <td>Buckridge</td>\n",
       "      <td>Omowunmi</td>\n",
       "      <td>Capital Supply Chain</td>\n",
       "      <td>7848</td>\n",
       "      <td>LewisGale Medical Center</td>\n",
       "      <td>Richmond</td>\n",
       "      <td>VA</td>\n",
       "      <td>23236</td>\n",
       "      <td>87404</td>\n",
       "      <td>Lewis Gale Med Ctr</td>\n",
       "      <td>Dir SC Ops E</td>\n",
       "      <td>Mcewen, Wiegand</td>\n",
       "      <td>COO SC CAD</td>\n",
       "      <td>9156c06b-01a5-42cd-96ed-4610dacc3474</td>\n",
       "      <td>4/30/90</td>\n",
       "      <td>Y</td>\n",
       "      <td>NaN</td>\n",
       "    </tr>\n",
       "    <tr>\n",
       "      <th>6</th>\n",
       "      <td>00442916-7285-4338-afb8-750d7d29394a</td>\n",
       "      <td>Osinski</td>\n",
       "      <td>Wensky</td>\n",
       "      <td>Capital Division Inc</td>\n",
       "      <td>25061</td>\n",
       "      <td>HCA Florida Brandon Hospital</td>\n",
       "      <td>Richmond</td>\n",
       "      <td>VA</td>\n",
       "      <td>23220</td>\n",
       "      <td>90021</td>\n",
       "      <td>Division Employees</td>\n",
       "      <td>Div Mgr Denial Prevention WFH</td>\n",
       "      <td>NaN</td>\n",
       "      <td>Dir Utilization Review</td>\n",
       "      <td>NaN</td>\n",
       "      <td>8/14/86</td>\n",
       "      <td>NaN</td>\n",
       "      <td>NaN</td>\n",
       "    </tr>\n",
       "    <tr>\n",
       "      <th>7</th>\n",
       "      <td>8169ba3b-ac30-4ecb-a5c7-f70aa1eadf0d</td>\n",
       "      <td>Hoppe</td>\n",
       "      <td>Jucelyn</td>\n",
       "      <td>Lawson Group - Officers</td>\n",
       "      <td>34630</td>\n",
       "      <td>LewisGale Medical Center</td>\n",
       "      <td>Salem</td>\n",
       "      <td>VA</td>\n",
       "      <td>24153</td>\n",
       "      <td>34630</td>\n",
       "      <td>Lewis-Gale Med Ctr</td>\n",
       "      <td>CFO Lewis Gale Med Ctr</td>\n",
       "      <td>Marie, Connelly</td>\n",
       "      <td>Div President Capital</td>\n",
       "      <td>5d03953d-4a06-478b-9c0f-dd7cc491302b</td>\n",
       "      <td>7/29/96</td>\n",
       "      <td>NaN</td>\n",
       "      <td>NaN</td>\n",
       "    </tr>\n",
       "    <tr>\n",
       "      <th>8</th>\n",
       "      <td>4eb9bf4b-0c79-444e-aa46-c177c1d0f686</td>\n",
       "      <td>Schneider</td>\n",
       "      <td>Keanu</td>\n",
       "      <td>Medical City Green Oaks Hospit</td>\n",
       "      <td>7126</td>\n",
       "      <td>Medical City Green Oaks Hospit</td>\n",
       "      <td>Dallas</td>\n",
       "      <td>TX</td>\n",
       "      <td>75251</td>\n",
       "      <td>91713</td>\n",
       "      <td>Quality</td>\n",
       "      <td>VP Operations</td>\n",
       "      <td>Changyou, Hoppe</td>\n",
       "      <td>CEO</td>\n",
       "      <td>64f441d2-cf5f-4694-b15f-8ce4be9dd343</td>\n",
       "      <td>7/8/93</td>\n",
       "      <td>Y</td>\n",
       "      <td>6/20/17</td>\n",
       "    </tr>\n",
       "    <tr>\n",
       "      <th>9</th>\n",
       "      <td>c1e34a78-7914-4886-9e22-4c95358b0637</td>\n",
       "      <td>Bailey</td>\n",
       "      <td>Jerrylynn</td>\n",
       "      <td>Lawson IT&amp;S</td>\n",
       "      <td>14203</td>\n",
       "      <td>Corporate Campus(5950 only)</td>\n",
       "      <td>Nashville</td>\n",
       "      <td>TN</td>\n",
       "      <td>37202</td>\n",
       "      <td>70150</td>\n",
       "      <td>IS Finance &amp; Admin</td>\n",
       "      <td>Controller/AVP</td>\n",
       "      <td>Earving, Christiansen</td>\n",
       "      <td>CFO/VP</td>\n",
       "      <td>5f3ddebd-fee2-47d2-9de1-19ffcd427f3a</td>\n",
       "      <td>9/21/98</td>\n",
       "      <td>Y</td>\n",
       "      <td>NaN</td>\n",
       "    </tr>\n",
       "    <tr>\n",
       "      <th>10</th>\n",
       "      <td>fa45a7f6-b323-49cd-be71-ed2b872c00cb</td>\n",
       "      <td>Macejkovic</td>\n",
       "      <td>Legrande</td>\n",
       "      <td>Lawson Group - Officers</td>\n",
       "      <td>34318</td>\n",
       "      <td>Med City Fort Worth</td>\n",
       "      <td>Ft. Worth</td>\n",
       "      <td>TX</td>\n",
       "      <td>76104</td>\n",
       "      <td>34318</td>\n",
       "      <td>Plaza Med Ctr of Ft Worth</td>\n",
       "      <td>CFO MC Fort Worth/Weatherford</td>\n",
       "      <td>Elison, Rodriguez</td>\n",
       "      <td>CEO Med City Fort Worth</td>\n",
       "      <td>05983df9-419f-4b37-b8ac-6350f47246f8</td>\n",
       "      <td>8/25/08</td>\n",
       "      <td>NaN</td>\n",
       "      <td>NaN</td>\n",
       "    </tr>\n",
       "    <tr>\n",
       "      <th>11</th>\n",
       "      <td>53feb224-0b62-4b02-a649-c35c65c7fa45</td>\n",
       "      <td>Robel</td>\n",
       "      <td>Okoyo</td>\n",
       "      <td>HCA Florida Citrus Hospital</td>\n",
       "      <td>26670</td>\n",
       "      <td>HCA Florida Citrus Hospital</td>\n",
       "      <td>Inverness</td>\n",
       "      <td>FL</td>\n",
       "      <td>33763</td>\n",
       "      <td>90210</td>\n",
       "      <td>Accounting</td>\n",
       "      <td>Controller</td>\n",
       "      <td>Maysen, Greenholt</td>\n",
       "      <td>CFO</td>\n",
       "      <td>73b5c666-5712-42d2-8a46-512eb39d45b3</td>\n",
       "      <td>8/13/97</td>\n",
       "      <td>Y</td>\n",
       "      <td>NaN</td>\n",
       "    </tr>\n",
       "    <tr>\n",
       "      <th>12</th>\n",
       "      <td>e2517cf0-b8ba-422e-af1f-000310c0f346</td>\n",
       "      <td>Dibbert</td>\n",
       "      <td>Srikanth</td>\n",
       "      <td>Regional Med Ctr of San Jose</td>\n",
       "      <td>8385</td>\n",
       "      <td>Regional Med Ctr of San Jose</td>\n",
       "      <td>San Jose</td>\n",
       "      <td>CA</td>\n",
       "      <td>95116</td>\n",
       "      <td>90326</td>\n",
       "      <td>Accounting Decision Support</td>\n",
       "      <td>Asst Controller</td>\n",
       "      <td>NaN</td>\n",
       "      <td>CFO</td>\n",
       "      <td>NaN</td>\n",
       "      <td>9/25/89</td>\n",
       "      <td>NaN</td>\n",
       "      <td>NaN</td>\n",
       "    </tr>\n",
       "    <tr>\n",
       "      <th>13</th>\n",
       "      <td>74f88157-a84e-4718-a1f8-0b1728fd0eff</td>\n",
       "      <td>Doyle</td>\n",
       "      <td>Yata</td>\n",
       "      <td>Lawson Group - Officers</td>\n",
       "      <td>34630</td>\n",
       "      <td>LewisGale Medical Center</td>\n",
       "      <td>Salem</td>\n",
       "      <td>VA</td>\n",
       "      <td>24153</td>\n",
       "      <td>34630</td>\n",
       "      <td>Lewis-Gale Med Ctr</td>\n",
       "      <td>CEO LewisGale Medical Center</td>\n",
       "      <td>Marie, Connelly</td>\n",
       "      <td>Div President Capital</td>\n",
       "      <td>5d03953d-4a06-478b-9c0f-dd7cc491302b</td>\n",
       "      <td>10/10/95</td>\n",
       "      <td>NaN</td>\n",
       "      <td>NaN</td>\n",
       "    </tr>\n",
       "    <tr>\n",
       "      <th>14</th>\n",
       "      <td>37657990-3e14-4512-9bbd-c80845e2a504</td>\n",
       "      <td>Treutel</td>\n",
       "      <td>Kee'von</td>\n",
       "      <td>Lawson IT&amp;S</td>\n",
       "      <td>14203</td>\n",
       "      <td>Corporate Campus(5950 only)</td>\n",
       "      <td>Nashville</td>\n",
       "      <td>TN</td>\n",
       "      <td>37202</td>\n",
       "      <td>71250</td>\n",
       "      <td>Network Services</td>\n",
       "      <td>Dir UC Implementation</td>\n",
       "      <td>Juaquina, Beier</td>\n",
       "      <td>AVP Enterprise Network Service</td>\n",
       "      <td>2b212b55-a142-4afe-8dc7-cdad343bc32a</td>\n",
       "      <td>4/21/97</td>\n",
       "      <td>Y</td>\n",
       "      <td>NaN</td>\n",
       "    </tr>\n",
       "  </tbody>\n",
       "</table>\n",
       "</div>"
      ],
      "text/plain": [
       "                                 Emp34Id EmpLastName EmpFirstName  \\\n",
       "0   742ec4ef-20f8-420b-ae7e-2bfcffe55cae      Heaney  Bg-lynnezee   \n",
       "1   509d3309-ebad-4a78-b0e0-e61824802ce0      Corwin       Amarda   \n",
       "2   35616aa4-c019-494a-bae1-fc749d87246b     Schultz       Jahmei   \n",
       "3   a8974b25-7330-4b16-b6b0-1e512cc93815       Lynch        Artur   \n",
       "4   10ae639a-e858-42fa-909f-60e8abba0787      Torphy       Tamand   \n",
       "5   43bca7a9-19cc-4117-83b7-49a09950b710   Buckridge     Omowunmi   \n",
       "6   00442916-7285-4338-afb8-750d7d29394a     Osinski       Wensky   \n",
       "7   8169ba3b-ac30-4ecb-a5c7-f70aa1eadf0d       Hoppe      Jucelyn   \n",
       "8   4eb9bf4b-0c79-444e-aa46-c177c1d0f686   Schneider        Keanu   \n",
       "9   c1e34a78-7914-4886-9e22-4c95358b0637      Bailey    Jerrylynn   \n",
       "10  fa45a7f6-b323-49cd-be71-ed2b872c00cb  Macejkovic     Legrande   \n",
       "11  53feb224-0b62-4b02-a649-c35c65c7fa45       Robel        Okoyo   \n",
       "12  e2517cf0-b8ba-422e-af1f-000310c0f346     Dibbert     Srikanth   \n",
       "13  74f88157-a84e-4718-a1f8-0b1728fd0eff       Doyle         Yata   \n",
       "14  37657990-3e14-4512-9bbd-c80845e2a504     Treutel      Kee'von   \n",
       "\n",
       "               EmpProcessLevelDesc  EmpLegCoid  \\\n",
       "0    HCA Florida Pasadena Hospital       26536   \n",
       "1          Lawson Group - Officers       27610   \n",
       "2           Swedish Medical Center       27100   \n",
       "3         Parkridge Medical Center       34224   \n",
       "4                      Lawson IT&S       26249   \n",
       "5             Capital Supply Chain        7848   \n",
       "6             Capital Division Inc       25061   \n",
       "7          Lawson Group - Officers       34630   \n",
       "8   Medical City Green Oaks Hospit        7126   \n",
       "9                      Lawson IT&S       14203   \n",
       "10         Lawson Group - Officers       34318   \n",
       "11     HCA Florida Citrus Hospital       26670   \n",
       "12    Regional Med Ctr of San Jose        8385   \n",
       "13         Lawson Group - Officers       34630   \n",
       "14                     Lawson IT&S       14203   \n",
       "\n",
       "                   EmpLocationDesc facility_city facility_state  facility_zip  \\\n",
       "0    HCA Florida Pasadena Hospital    Petersburg             FL         33707   \n",
       "1                 Mission Hospital      Ashville             NC         28801   \n",
       "2           Swedish Medical Center     Englewood             CO         80110   \n",
       "3         Parkridge Medical Center   Chattanooga             TN         37404   \n",
       "4          1100 MLK (Capitol View)     Nashville             TN         37203   \n",
       "5         LewisGale Medical Center      Richmond             VA         23236   \n",
       "6     HCA Florida Brandon Hospital      Richmond             VA         23220   \n",
       "7         LewisGale Medical Center         Salem             VA         24153   \n",
       "8   Medical City Green Oaks Hospit        Dallas             TX         75251   \n",
       "9      Corporate Campus(5950 only)     Nashville             TN         37202   \n",
       "10             Med City Fort Worth     Ft. Worth             TX         76104   \n",
       "11     HCA Florida Citrus Hospital     Inverness             FL         33763   \n",
       "12    Regional Med Ctr of San Jose      San Jose             CA         95116   \n",
       "13        LewisGale Medical Center         Salem             VA         24153   \n",
       "14     Corporate Campus(5950 only)     Nashville             TN         37202   \n",
       "\n",
       "   EmpDepartment            EmpDepartmentName                EmpPositionDesc  \\\n",
       "0          75410          Respiratory Therapy       Supv Respiratory Therapy   \n",
       "1          27610             Mission Hospital           CEO Mission Hospital   \n",
       "2          90217                      Finance                     Controller   \n",
       "3          78338              Employee Health                  Mgr EE Health   \n",
       "4          650D2     HT IEO & Shared Services                Mgr Integration   \n",
       "5          87404           Lewis Gale Med Ctr                   Dir SC Ops E   \n",
       "6          90021           Division Employees  Div Mgr Denial Prevention WFH   \n",
       "7          34630           Lewis-Gale Med Ctr         CFO Lewis Gale Med Ctr   \n",
       "8          91713                      Quality                  VP Operations   \n",
       "9          70150           IS Finance & Admin                 Controller/AVP   \n",
       "10         34318    Plaza Med Ctr of Ft Worth  CFO MC Fort Worth/Weatherford   \n",
       "11         90210                   Accounting                     Controller   \n",
       "12         90326  Accounting Decision Support                Asst Controller   \n",
       "13         34630           Lewis-Gale Med Ctr   CEO LewisGale Medical Center   \n",
       "14         71250             Network Services          Dir UC Implementation   \n",
       "\n",
       "                  MgrName                        MgrTitle  \\\n",
       "0         Jahbari, Deckow               Dir Critical Care   \n",
       "1            Derek, Kling    Div President North Carolina   \n",
       "2        Steven, Parisian                             CFO   \n",
       "3                     NaN                       Mkt VP HR   \n",
       "4           Kasmin, Hauck            Dir Integration Svcs   \n",
       "5         Mcewen, Wiegand                      COO SC CAD   \n",
       "6                     NaN          Dir Utilization Review   \n",
       "7         Marie, Connelly           Div President Capital   \n",
       "8         Changyou, Hoppe                             CEO   \n",
       "9   Earving, Christiansen                          CFO/VP   \n",
       "10      Elison, Rodriguez         CEO Med City Fort Worth   \n",
       "11      Maysen, Greenholt                             CFO   \n",
       "12                    NaN                             CFO   \n",
       "13        Marie, Connelly           Div President Capital   \n",
       "14        Juaquina, Beier  AVP Enterprise Network Service   \n",
       "\n",
       "                                 Mgr34Id EmpAnnivDate EmpPositionIsSuper  \\\n",
       "0   9d39e232-d133-4ce4-bf6d-276cc5a7e364     10/15/12                  Y   \n",
       "1   65aecf22-f6fd-490d-9a2b-52c02e001790       9/9/13                  Y   \n",
       "2   d72a0182-66af-4f1b-8e89-b2e26c361f78      3/10/08                  Y   \n",
       "3                                    NaN      8/28/06                  Y   \n",
       "4   fb123e32-71a8-42a2-a46b-608b127e719e      2/14/00                  Y   \n",
       "5   9156c06b-01a5-42cd-96ed-4610dacc3474      4/30/90                  Y   \n",
       "6                                    NaN      8/14/86                NaN   \n",
       "7   5d03953d-4a06-478b-9c0f-dd7cc491302b      7/29/96                NaN   \n",
       "8   64f441d2-cf5f-4694-b15f-8ce4be9dd343       7/8/93                  Y   \n",
       "9   5f3ddebd-fee2-47d2-9de1-19ffcd427f3a      9/21/98                  Y   \n",
       "10  05983df9-419f-4b37-b8ac-6350f47246f8      8/25/08                NaN   \n",
       "11  73b5c666-5712-42d2-8a46-512eb39d45b3      8/13/97                  Y   \n",
       "12                                   NaN      9/25/89                NaN   \n",
       "13  5d03953d-4a06-478b-9c0f-dd7cc491302b     10/10/95                NaN   \n",
       "14  2b212b55-a142-4afe-8dc7-cdad343bc32a      4/21/97                  Y   \n",
       "\n",
       "   EmpRNExperienceDate  \n",
       "0                  NaN  \n",
       "1                  NaN  \n",
       "2                  NaN  \n",
       "3              9/12/94  \n",
       "4                  NaN  \n",
       "5                  NaN  \n",
       "6                  NaN  \n",
       "7                  NaN  \n",
       "8              6/20/17  \n",
       "9                  NaN  \n",
       "10                 NaN  \n",
       "11                 NaN  \n",
       "12                 NaN  \n",
       "13                 NaN  \n",
       "14                 NaN  "
      ]
     },
     "execution_count": 128,
     "metadata": {},
     "output_type": "execute_result"
    }
   ],
   "source": [
    "file.head(15)"
   ]
  },
  {
   "cell_type": "code",
   "execution_count": 129,
   "id": "fb145d24-7277-4e94-b258-c7a7dfdb9ac4",
   "metadata": {},
   "outputs": [
    {
     "name": "stdout",
     "output_type": "stream",
     "text": [
      "Emp34Id                object\n",
      "EmpLastName            object\n",
      "EmpFirstName           object\n",
      "EmpProcessLevelDesc    object\n",
      "EmpLegCoid              int64\n",
      "EmpLocationDesc        object\n",
      "facility_city          object\n",
      "facility_state         object\n",
      "facility_zip            int64\n",
      "EmpDepartment          object\n",
      "EmpDepartmentName      object\n",
      "EmpPositionDesc        object\n",
      "MgrName                object\n",
      "MgrTitle               object\n",
      "Mgr34Id                object\n",
      "EmpAnnivDate           object\n",
      "EmpPositionIsSuper     object\n",
      "EmpRNExperienceDate    object\n",
      "dtype: object\n"
     ]
    }
   ],
   "source": [
    "print(file.dtypes)"
   ]
  },
  {
   "cell_type": "code",
   "execution_count": 130,
   "id": "05ee9225-c3d5-477d-bb4b-daa04702dce6",
   "metadata": {},
   "outputs": [],
   "source": [
    "file[\"EmpAnnivDate\"] = pd.to_datetime(file[\"EmpAnnivDate\"], format=\"%m/%d/%y\", errors=\"coerce\")\n",
    "file[\"EmpRNExperienceDate\"] = pd.to_datetime(file[\"EmpRNExperienceDate\"], format=\"%m/%d/%y\", errors=\"coerce\")"
   ]
  },
  {
   "cell_type": "code",
   "execution_count": 131,
   "id": "7d91ec33-0f86-4863-a27e-30bd4cf523dc",
   "metadata": {},
   "outputs": [
    {
     "name": "stderr",
     "output_type": "stream",
     "text": [
      "/var/folders/9p/ps1qpy4n2jx7h5tvpztxhjkc0000gn/T/ipykernel_36555/1311113150.py:1: FutureWarning:\n",
      "\n",
      "Downcasting object dtype arrays on .fillna, .ffill, .bfill is deprecated and will change in a future version. Call result.infer_objects(copy=False) instead. To opt-in to the future behavior, set `pd.set_option('future.no_silent_downcasting', True)`\n",
      "\n"
     ]
    }
   ],
   "source": [
    "file[\"EmpPositionIsSuper\"] = file[\"EmpPositionIsSuper\"].replace({\"Y\": True}).fillna(False).astype(\"boolean\")"
   ]
  },
  {
   "cell_type": "code",
   "execution_count": 132,
   "id": "382ca114-5c06-4138-83c8-1155719fe599",
   "metadata": {},
   "outputs": [
    {
     "name": "stdout",
     "output_type": "stream",
     "text": [
      "Emp34Id                        object\n",
      "EmpLastName                    object\n",
      "EmpFirstName                   object\n",
      "EmpProcessLevelDesc            object\n",
      "EmpLegCoid                      int64\n",
      "EmpLocationDesc                object\n",
      "facility_city                  object\n",
      "facility_state                 object\n",
      "facility_zip                    int64\n",
      "EmpDepartment                  object\n",
      "EmpDepartmentName              object\n",
      "EmpPositionDesc                object\n",
      "MgrName                        object\n",
      "MgrTitle                       object\n",
      "Mgr34Id                        object\n",
      "EmpAnnivDate           datetime64[ns]\n",
      "EmpPositionIsSuper            boolean\n",
      "EmpRNExperienceDate    datetime64[ns]\n",
      "dtype: object\n"
     ]
    }
   ],
   "source": [
    "print(file.dtypes)"
   ]
  },
  {
   "cell_type": "code",
   "execution_count": 133,
   "id": "beb60f24-425f-402d-a487-63791071d294",
   "metadata": {},
   "outputs": [],
   "source": [
    "file[\"facility_state\"] = file[\"facility_state\"].astype(\"category\")"
   ]
  },
  {
   "cell_type": "code",
   "execution_count": 134,
   "id": "c48bf361-7037-446b-a8b1-b853e6798a6e",
   "metadata": {},
   "outputs": [
    {
     "name": "stdout",
     "output_type": "stream",
     "text": [
      "Emp34Id                        object\n",
      "EmpLastName                    object\n",
      "EmpFirstName                   object\n",
      "EmpProcessLevelDesc            object\n",
      "EmpLegCoid                      int64\n",
      "EmpLocationDesc                object\n",
      "facility_city                  object\n",
      "facility_state               category\n",
      "facility_zip                    int64\n",
      "EmpDepartment                  object\n",
      "EmpDepartmentName              object\n",
      "EmpPositionDesc                object\n",
      "MgrName                        object\n",
      "MgrTitle                       object\n",
      "Mgr34Id                        object\n",
      "EmpAnnivDate           datetime64[ns]\n",
      "EmpPositionIsSuper            boolean\n",
      "EmpRNExperienceDate    datetime64[ns]\n",
      "dtype: object\n"
     ]
    }
   ],
   "source": [
    "print(file.dtypes)"
   ]
  },
  {
   "cell_type": "code",
   "execution_count": 135,
   "id": "df9bba4f-0bf1-44a3-9022-dfad02227fac",
   "metadata": {},
   "outputs": [
    {
     "name": "stdout",
     "output_type": "stream",
     "text": [
      "156\n",
      "facility_city\n",
      "San Antonio    10278\n",
      "Nashville       9143\n",
      "Richmond        8548\n",
      "Las Vegas       7927\n",
      "Houston         7653\n",
      "Austin          7264\n",
      "Ashville        4771\n",
      "Gainesville     4769\n",
      "Fort Pierce     4196\n",
      "Atlantis        4092\n",
      "Name: count, dtype: int64\n"
     ]
    }
   ],
   "source": [
    "print(file[\"facility_city\"].nunique())  # count of unique entries\n",
    "print(file[\"facility_city\"].value_counts().head(10)) "
   ]
  },
  {
   "cell_type": "code",
   "execution_count": 136,
   "id": "fdd5ae9c-5c8d-4fb2-9d78-818e4a52d773",
   "metadata": {},
   "outputs": [],
   "source": [
    "file[\"facility_city\"] = file[\"facility_city\"].astype(\"category\")"
   ]
  },
  {
   "cell_type": "code",
   "execution_count": 137,
   "id": "f729fe8e-9e65-4156-a238-13fa2d55fadf",
   "metadata": {},
   "outputs": [
    {
     "name": "stdout",
     "output_type": "stream",
     "text": [
      "Emp34Id                        object\n",
      "EmpLastName                    object\n",
      "EmpFirstName                   object\n",
      "EmpProcessLevelDesc            object\n",
      "EmpLegCoid                      int64\n",
      "EmpLocationDesc                object\n",
      "facility_city                category\n",
      "facility_state               category\n",
      "facility_zip                    int64\n",
      "EmpDepartment                  object\n",
      "EmpDepartmentName              object\n",
      "EmpPositionDesc                object\n",
      "MgrName                        object\n",
      "MgrTitle                       object\n",
      "Mgr34Id                        object\n",
      "EmpAnnivDate           datetime64[ns]\n",
      "EmpPositionIsSuper            boolean\n",
      "EmpRNExperienceDate    datetime64[ns]\n",
      "dtype: object\n"
     ]
    }
   ],
   "source": [
    "print(file.dtypes)"
   ]
  },
  {
   "cell_type": "code",
   "execution_count": 138,
   "id": "8af8c319-c452-4bd1-9db2-2a6a57a6ec1e",
   "metadata": {},
   "outputs": [
    {
     "data": {
      "text/html": [
       "<div>\n",
       "<style scoped>\n",
       "    .dataframe tbody tr th:only-of-type {\n",
       "        vertical-align: middle;\n",
       "    }\n",
       "\n",
       "    .dataframe tbody tr th {\n",
       "        vertical-align: top;\n",
       "    }\n",
       "\n",
       "    .dataframe thead th {\n",
       "        text-align: right;\n",
       "    }\n",
       "</style>\n",
       "<table border=\"1\" class=\"dataframe\">\n",
       "  <thead>\n",
       "    <tr style=\"text-align: right;\">\n",
       "      <th></th>\n",
       "      <th>Emp34Id</th>\n",
       "      <th>EmpLastName</th>\n",
       "      <th>EmpFirstName</th>\n",
       "      <th>EmpProcessLevelDesc</th>\n",
       "      <th>EmpLegCoid</th>\n",
       "      <th>EmpLocationDesc</th>\n",
       "      <th>facility_city</th>\n",
       "      <th>facility_state</th>\n",
       "      <th>facility_zip</th>\n",
       "      <th>EmpDepartment</th>\n",
       "      <th>EmpDepartmentName</th>\n",
       "      <th>EmpPositionDesc</th>\n",
       "      <th>MgrName</th>\n",
       "      <th>MgrTitle</th>\n",
       "      <th>Mgr34Id</th>\n",
       "      <th>EmpAnnivDate</th>\n",
       "      <th>EmpPositionIsSuper</th>\n",
       "      <th>EmpRNExperienceDate</th>\n",
       "    </tr>\n",
       "  </thead>\n",
       "  <tbody>\n",
       "    <tr>\n",
       "      <th>10803</th>\n",
       "      <td>f34b1e81-5f8c-4a71-b6c6-634402ef3677</td>\n",
       "      <td>Quigley</td>\n",
       "      <td>Brace</td>\n",
       "      <td>Lawson Shared Svcs - HTI</td>\n",
       "      <td>26346</td>\n",
       "      <td>Continental Unassigned</td>\n",
       "      <td>Denver</td>\n",
       "      <td>CO</td>\n",
       "      <td>80247</td>\n",
       "      <td>9.00E+03</td>\n",
       "      <td>Continental Supply Chain Svcs.</td>\n",
       "      <td>CEO Supply Chain</td>\n",
       "      <td>NaN</td>\n",
       "      <td>CEO Group Supply Chain</td>\n",
       "      <td>NaN</td>\n",
       "      <td>2020-12-07</td>\n",
       "      <td>True</td>\n",
       "      <td>NaT</td>\n",
       "    </tr>\n",
       "  </tbody>\n",
       "</table>\n",
       "</div>"
      ],
      "text/plain": [
       "                                    Emp34Id EmpLastName EmpFirstName  \\\n",
       "10803  f34b1e81-5f8c-4a71-b6c6-634402ef3677     Quigley        Brace   \n",
       "\n",
       "            EmpProcessLevelDesc  EmpLegCoid         EmpLocationDesc  \\\n",
       "10803  Lawson Shared Svcs - HTI       26346  Continental Unassigned   \n",
       "\n",
       "      facility_city facility_state  facility_zip EmpDepartment  \\\n",
       "10803        Denver             CO         80247      9.00E+03   \n",
       "\n",
       "                    EmpDepartmentName   EmpPositionDesc MgrName  \\\n",
       "10803  Continental Supply Chain Svcs.  CEO Supply Chain     NaN   \n",
       "\n",
       "                     MgrTitle Mgr34Id EmpAnnivDate  EmpPositionIsSuper  \\\n",
       "10803  CEO Group Supply Chain     NaN   2020-12-07                True   \n",
       "\n",
       "      EmpRNExperienceDate  \n",
       "10803                 NaT  "
      ]
     },
     "metadata": {},
     "output_type": "display_data"
    }
   ],
   "source": [
    "row = file.query('EmpFirstName == \"Brace\" and EmpLastName == \"Quigley\"')\n",
    "display(row.head())  "
   ]
  },
  {
   "cell_type": "code",
   "execution_count": 139,
   "id": "4af88a0c-8112-401c-9842-0b3401771dfe",
   "metadata": {},
   "outputs": [
    {
     "data": {
      "text/html": [
       "<div>\n",
       "<style scoped>\n",
       "    .dataframe tbody tr th:only-of-type {\n",
       "        vertical-align: middle;\n",
       "    }\n",
       "\n",
       "    .dataframe tbody tr th {\n",
       "        vertical-align: top;\n",
       "    }\n",
       "\n",
       "    .dataframe thead th {\n",
       "        text-align: right;\n",
       "    }\n",
       "</style>\n",
       "<table border=\"1\" class=\"dataframe\">\n",
       "  <thead>\n",
       "    <tr style=\"text-align: right;\">\n",
       "      <th></th>\n",
       "      <th>Emp34Id</th>\n",
       "      <th>EmpLastName</th>\n",
       "      <th>EmpFirstName</th>\n",
       "      <th>EmpProcessLevelDesc</th>\n",
       "      <th>EmpLegCoid</th>\n",
       "      <th>EmpLocationDesc</th>\n",
       "      <th>facility_city</th>\n",
       "      <th>facility_state</th>\n",
       "      <th>facility_zip</th>\n",
       "      <th>EmpDepartment</th>\n",
       "      <th>EmpDepartmentName</th>\n",
       "      <th>EmpPositionDesc</th>\n",
       "      <th>MgrName</th>\n",
       "      <th>MgrTitle</th>\n",
       "      <th>Mgr34Id</th>\n",
       "      <th>EmpAnnivDate</th>\n",
       "      <th>EmpPositionIsSuper</th>\n",
       "      <th>EmpRNExperienceDate</th>\n",
       "    </tr>\n",
       "  </thead>\n",
       "  <tbody>\n",
       "    <tr>\n",
       "      <th>0</th>\n",
       "      <td>742ec4ef-20f8-420b-ae7e-2bfcffe55cae</td>\n",
       "      <td>Heaney</td>\n",
       "      <td>Bg-lynnezee</td>\n",
       "      <td>HCA Florida Pasadena Hospital</td>\n",
       "      <td>26536</td>\n",
       "      <td>HCA Florida Pasadena Hospital</td>\n",
       "      <td>Petersburg</td>\n",
       "      <td>FL</td>\n",
       "      <td>33707</td>\n",
       "      <td>75410</td>\n",
       "      <td>Respiratory Therapy</td>\n",
       "      <td>Supv Respiratory Therapy</td>\n",
       "      <td>Jahbari, Deckow</td>\n",
       "      <td>Dir Critical Care</td>\n",
       "      <td>9d39e232-d133-4ce4-bf6d-276cc5a7e364</td>\n",
       "      <td>2012-10-15</td>\n",
       "      <td>True</td>\n",
       "      <td>NaT</td>\n",
       "    </tr>\n",
       "    <tr>\n",
       "      <th>1</th>\n",
       "      <td>509d3309-ebad-4a78-b0e0-e61824802ce0</td>\n",
       "      <td>Corwin</td>\n",
       "      <td>Amarda</td>\n",
       "      <td>Lawson Group - Officers</td>\n",
       "      <td>27610</td>\n",
       "      <td>Mission Hospital</td>\n",
       "      <td>Ashville</td>\n",
       "      <td>NC</td>\n",
       "      <td>28801</td>\n",
       "      <td>27610</td>\n",
       "      <td>Mission Hospital</td>\n",
       "      <td>CEO Mission Hospital</td>\n",
       "      <td>Derek, Kling</td>\n",
       "      <td>Div President North Carolina</td>\n",
       "      <td>65aecf22-f6fd-490d-9a2b-52c02e001790</td>\n",
       "      <td>2013-09-09</td>\n",
       "      <td>True</td>\n",
       "      <td>NaT</td>\n",
       "    </tr>\n",
       "    <tr>\n",
       "      <th>2</th>\n",
       "      <td>35616aa4-c019-494a-bae1-fc749d87246b</td>\n",
       "      <td>Schultz</td>\n",
       "      <td>Jahmei</td>\n",
       "      <td>Swedish Medical Center</td>\n",
       "      <td>27100</td>\n",
       "      <td>Swedish Medical Center</td>\n",
       "      <td>Englewood</td>\n",
       "      <td>CO</td>\n",
       "      <td>80110</td>\n",
       "      <td>90217</td>\n",
       "      <td>Finance</td>\n",
       "      <td>Controller</td>\n",
       "      <td>Steven, Parisian</td>\n",
       "      <td>CFO</td>\n",
       "      <td>d72a0182-66af-4f1b-8e89-b2e26c361f78</td>\n",
       "      <td>2008-03-10</td>\n",
       "      <td>True</td>\n",
       "      <td>NaT</td>\n",
       "    </tr>\n",
       "    <tr>\n",
       "      <th>3</th>\n",
       "      <td>a8974b25-7330-4b16-b6b0-1e512cc93815</td>\n",
       "      <td>Lynch</td>\n",
       "      <td>Artur</td>\n",
       "      <td>Parkridge Medical Center</td>\n",
       "      <td>34224</td>\n",
       "      <td>Parkridge Medical Center</td>\n",
       "      <td>Chattanooga</td>\n",
       "      <td>TN</td>\n",
       "      <td>37404</td>\n",
       "      <td>78338</td>\n",
       "      <td>Employee Health</td>\n",
       "      <td>Mgr EE Health</td>\n",
       "      <td>NaN</td>\n",
       "      <td>Mkt VP HR</td>\n",
       "      <td>NaN</td>\n",
       "      <td>2006-08-28</td>\n",
       "      <td>True</td>\n",
       "      <td>1994-09-12</td>\n",
       "    </tr>\n",
       "    <tr>\n",
       "      <th>4</th>\n",
       "      <td>10ae639a-e858-42fa-909f-60e8abba0787</td>\n",
       "      <td>Torphy</td>\n",
       "      <td>Tamand</td>\n",
       "      <td>Lawson IT&amp;S</td>\n",
       "      <td>26249</td>\n",
       "      <td>1100 MLK (Capitol View)</td>\n",
       "      <td>Nashville</td>\n",
       "      <td>TN</td>\n",
       "      <td>37203</td>\n",
       "      <td>650D2</td>\n",
       "      <td>HT IEO &amp; Shared Services</td>\n",
       "      <td>Mgr Integration</td>\n",
       "      <td>Kasmin, Hauck</td>\n",
       "      <td>Dir Integration Svcs</td>\n",
       "      <td>fb123e32-71a8-42a2-a46b-608b127e719e</td>\n",
       "      <td>2000-02-14</td>\n",
       "      <td>True</td>\n",
       "      <td>NaT</td>\n",
       "    </tr>\n",
       "    <tr>\n",
       "      <th>5</th>\n",
       "      <td>43bca7a9-19cc-4117-83b7-49a09950b710</td>\n",
       "      <td>Buckridge</td>\n",
       "      <td>Omowunmi</td>\n",
       "      <td>Capital Supply Chain</td>\n",
       "      <td>7848</td>\n",
       "      <td>LewisGale Medical Center</td>\n",
       "      <td>Richmond</td>\n",
       "      <td>VA</td>\n",
       "      <td>23236</td>\n",
       "      <td>87404</td>\n",
       "      <td>Lewis Gale Med Ctr</td>\n",
       "      <td>Dir SC Ops E</td>\n",
       "      <td>Mcewen, Wiegand</td>\n",
       "      <td>COO SC CAD</td>\n",
       "      <td>9156c06b-01a5-42cd-96ed-4610dacc3474</td>\n",
       "      <td>1990-04-30</td>\n",
       "      <td>True</td>\n",
       "      <td>NaT</td>\n",
       "    </tr>\n",
       "    <tr>\n",
       "      <th>6</th>\n",
       "      <td>00442916-7285-4338-afb8-750d7d29394a</td>\n",
       "      <td>Osinski</td>\n",
       "      <td>Wensky</td>\n",
       "      <td>Capital Division Inc</td>\n",
       "      <td>25061</td>\n",
       "      <td>HCA Florida Brandon Hospital</td>\n",
       "      <td>Richmond</td>\n",
       "      <td>VA</td>\n",
       "      <td>23220</td>\n",
       "      <td>90021</td>\n",
       "      <td>Division Employees</td>\n",
       "      <td>Div Mgr Denial Prevention WFH</td>\n",
       "      <td>NaN</td>\n",
       "      <td>Dir Utilization Review</td>\n",
       "      <td>NaN</td>\n",
       "      <td>1986-08-14</td>\n",
       "      <td>False</td>\n",
       "      <td>NaT</td>\n",
       "    </tr>\n",
       "    <tr>\n",
       "      <th>7</th>\n",
       "      <td>8169ba3b-ac30-4ecb-a5c7-f70aa1eadf0d</td>\n",
       "      <td>Hoppe</td>\n",
       "      <td>Jucelyn</td>\n",
       "      <td>Lawson Group - Officers</td>\n",
       "      <td>34630</td>\n",
       "      <td>LewisGale Medical Center</td>\n",
       "      <td>Salem</td>\n",
       "      <td>VA</td>\n",
       "      <td>24153</td>\n",
       "      <td>34630</td>\n",
       "      <td>Lewis-Gale Med Ctr</td>\n",
       "      <td>CFO Lewis Gale Med Ctr</td>\n",
       "      <td>Marie, Connelly</td>\n",
       "      <td>Div President Capital</td>\n",
       "      <td>5d03953d-4a06-478b-9c0f-dd7cc491302b</td>\n",
       "      <td>1996-07-29</td>\n",
       "      <td>False</td>\n",
       "      <td>NaT</td>\n",
       "    </tr>\n",
       "    <tr>\n",
       "      <th>8</th>\n",
       "      <td>4eb9bf4b-0c79-444e-aa46-c177c1d0f686</td>\n",
       "      <td>Schneider</td>\n",
       "      <td>Keanu</td>\n",
       "      <td>Medical City Green Oaks Hospit</td>\n",
       "      <td>7126</td>\n",
       "      <td>Medical City Green Oaks Hospit</td>\n",
       "      <td>Dallas</td>\n",
       "      <td>TX</td>\n",
       "      <td>75251</td>\n",
       "      <td>91713</td>\n",
       "      <td>Quality</td>\n",
       "      <td>VP Operations</td>\n",
       "      <td>Changyou, Hoppe</td>\n",
       "      <td>CEO</td>\n",
       "      <td>64f441d2-cf5f-4694-b15f-8ce4be9dd343</td>\n",
       "      <td>1993-07-08</td>\n",
       "      <td>True</td>\n",
       "      <td>2017-06-20</td>\n",
       "    </tr>\n",
       "    <tr>\n",
       "      <th>9</th>\n",
       "      <td>c1e34a78-7914-4886-9e22-4c95358b0637</td>\n",
       "      <td>Bailey</td>\n",
       "      <td>Jerrylynn</td>\n",
       "      <td>Lawson IT&amp;S</td>\n",
       "      <td>14203</td>\n",
       "      <td>Corporate Campus(5950 only)</td>\n",
       "      <td>Nashville</td>\n",
       "      <td>TN</td>\n",
       "      <td>37202</td>\n",
       "      <td>70150</td>\n",
       "      <td>IS Finance &amp; Admin</td>\n",
       "      <td>Controller/AVP</td>\n",
       "      <td>Earving, Christiansen</td>\n",
       "      <td>CFO/VP</td>\n",
       "      <td>5f3ddebd-fee2-47d2-9de1-19ffcd427f3a</td>\n",
       "      <td>1998-09-21</td>\n",
       "      <td>True</td>\n",
       "      <td>NaT</td>\n",
       "    </tr>\n",
       "  </tbody>\n",
       "</table>\n",
       "</div>"
      ],
      "text/plain": [
       "                                Emp34Id EmpLastName EmpFirstName  \\\n",
       "0  742ec4ef-20f8-420b-ae7e-2bfcffe55cae      Heaney  Bg-lynnezee   \n",
       "1  509d3309-ebad-4a78-b0e0-e61824802ce0      Corwin       Amarda   \n",
       "2  35616aa4-c019-494a-bae1-fc749d87246b     Schultz       Jahmei   \n",
       "3  a8974b25-7330-4b16-b6b0-1e512cc93815       Lynch        Artur   \n",
       "4  10ae639a-e858-42fa-909f-60e8abba0787      Torphy       Tamand   \n",
       "5  43bca7a9-19cc-4117-83b7-49a09950b710   Buckridge     Omowunmi   \n",
       "6  00442916-7285-4338-afb8-750d7d29394a     Osinski       Wensky   \n",
       "7  8169ba3b-ac30-4ecb-a5c7-f70aa1eadf0d       Hoppe      Jucelyn   \n",
       "8  4eb9bf4b-0c79-444e-aa46-c177c1d0f686   Schneider        Keanu   \n",
       "9  c1e34a78-7914-4886-9e22-4c95358b0637      Bailey    Jerrylynn   \n",
       "\n",
       "              EmpProcessLevelDesc  EmpLegCoid                 EmpLocationDesc  \\\n",
       "0   HCA Florida Pasadena Hospital       26536   HCA Florida Pasadena Hospital   \n",
       "1         Lawson Group - Officers       27610                Mission Hospital   \n",
       "2          Swedish Medical Center       27100          Swedish Medical Center   \n",
       "3        Parkridge Medical Center       34224        Parkridge Medical Center   \n",
       "4                     Lawson IT&S       26249         1100 MLK (Capitol View)   \n",
       "5            Capital Supply Chain        7848        LewisGale Medical Center   \n",
       "6            Capital Division Inc       25061    HCA Florida Brandon Hospital   \n",
       "7         Lawson Group - Officers       34630        LewisGale Medical Center   \n",
       "8  Medical City Green Oaks Hospit        7126  Medical City Green Oaks Hospit   \n",
       "9                     Lawson IT&S       14203     Corporate Campus(5950 only)   \n",
       "\n",
       "  facility_city facility_state  facility_zip EmpDepartment  \\\n",
       "0    Petersburg             FL         33707         75410   \n",
       "1      Ashville             NC         28801         27610   \n",
       "2     Englewood             CO         80110         90217   \n",
       "3   Chattanooga             TN         37404         78338   \n",
       "4     Nashville             TN         37203         650D2   \n",
       "5      Richmond             VA         23236         87404   \n",
       "6      Richmond             VA         23220         90021   \n",
       "7         Salem             VA         24153         34630   \n",
       "8        Dallas             TX         75251         91713   \n",
       "9     Nashville             TN         37202         70150   \n",
       "\n",
       "          EmpDepartmentName                EmpPositionDesc  \\\n",
       "0       Respiratory Therapy       Supv Respiratory Therapy   \n",
       "1          Mission Hospital           CEO Mission Hospital   \n",
       "2                   Finance                     Controller   \n",
       "3           Employee Health                  Mgr EE Health   \n",
       "4  HT IEO & Shared Services                Mgr Integration   \n",
       "5        Lewis Gale Med Ctr                   Dir SC Ops E   \n",
       "6        Division Employees  Div Mgr Denial Prevention WFH   \n",
       "7        Lewis-Gale Med Ctr         CFO Lewis Gale Med Ctr   \n",
       "8                   Quality                  VP Operations   \n",
       "9        IS Finance & Admin                 Controller/AVP   \n",
       "\n",
       "                 MgrName                      MgrTitle  \\\n",
       "0        Jahbari, Deckow             Dir Critical Care   \n",
       "1           Derek, Kling  Div President North Carolina   \n",
       "2       Steven, Parisian                           CFO   \n",
       "3                    NaN                     Mkt VP HR   \n",
       "4          Kasmin, Hauck          Dir Integration Svcs   \n",
       "5        Mcewen, Wiegand                    COO SC CAD   \n",
       "6                    NaN        Dir Utilization Review   \n",
       "7        Marie, Connelly         Div President Capital   \n",
       "8        Changyou, Hoppe                           CEO   \n",
       "9  Earving, Christiansen                        CFO/VP   \n",
       "\n",
       "                                Mgr34Id EmpAnnivDate  EmpPositionIsSuper  \\\n",
       "0  9d39e232-d133-4ce4-bf6d-276cc5a7e364   2012-10-15                True   \n",
       "1  65aecf22-f6fd-490d-9a2b-52c02e001790   2013-09-09                True   \n",
       "2  d72a0182-66af-4f1b-8e89-b2e26c361f78   2008-03-10                True   \n",
       "3                                   NaN   2006-08-28                True   \n",
       "4  fb123e32-71a8-42a2-a46b-608b127e719e   2000-02-14                True   \n",
       "5  9156c06b-01a5-42cd-96ed-4610dacc3474   1990-04-30                True   \n",
       "6                                   NaN   1986-08-14               False   \n",
       "7  5d03953d-4a06-478b-9c0f-dd7cc491302b   1996-07-29               False   \n",
       "8  64f441d2-cf5f-4694-b15f-8ce4be9dd343   1993-07-08                True   \n",
       "9  5f3ddebd-fee2-47d2-9de1-19ffcd427f3a   1998-09-21                True   \n",
       "\n",
       "  EmpRNExperienceDate  \n",
       "0                 NaT  \n",
       "1                 NaT  \n",
       "2                 NaT  \n",
       "3          1994-09-12  \n",
       "4                 NaT  \n",
       "5                 NaT  \n",
       "6                 NaT  \n",
       "7                 NaT  \n",
       "8          2017-06-20  \n",
       "9                 NaT  "
      ]
     },
     "execution_count": 139,
     "metadata": {},
     "output_type": "execute_result"
    }
   ],
   "source": [
    "file.head(10)"
   ]
  },
  {
   "cell_type": "code",
   "execution_count": 141,
   "id": "9be4fcbb-2ef4-4849-a473-8edc7ca6d865",
   "metadata": {},
   "outputs": [
    {
     "name": "stdout",
     "output_type": "stream",
     "text": [
      "Emp34Id                        object\n",
      "EmpLastName                    object\n",
      "EmpFirstName                   object\n",
      "EmpProcessLevelDesc            object\n",
      "EmpLegCoid                      int64\n",
      "EmpLocationDesc                object\n",
      "facility_city                category\n",
      "facility_state               category\n",
      "facility_zip                    int64\n",
      "EmpDepartment                  object\n",
      "EmpDepartmentName              object\n",
      "EmpPositionDesc                object\n",
      "MgrName                        object\n",
      "MgrTitle                       object\n",
      "Mgr34Id                        object\n",
      "EmpAnnivDate           datetime64[ns]\n",
      "EmpPositionIsSuper            boolean\n",
      "EmpRNExperienceDate    datetime64[ns]\n",
      "dtype: object\n"
     ]
    }
   ],
   "source": [
    "print(file.dtypes)"
   ]
  },
  {
   "cell_type": "code",
   "execution_count": 142,
   "id": "7154cb9b-9f72-4e6e-8092-ae32eedf03f5",
   "metadata": {},
   "outputs": [
    {
     "name": "stdout",
     "output_type": "stream",
     "text": [
      "209077\n"
     ]
    }
   ],
   "source": [
    "print(file[\"Emp34Id\"].nunique())"
   ]
  },
  {
   "cell_type": "code",
   "execution_count": 144,
   "id": "3033635e-fa91-425e-b9c0-c8062abc50fe",
   "metadata": {},
   "outputs": [
    {
     "name": "stdout",
     "output_type": "stream",
     "text": [
      "238\n"
     ]
    }
   ],
   "source": [
    "print(file[\"EmpLegCoid\"].nunique())"
   ]
  },
  {
   "cell_type": "code",
   "execution_count": 146,
   "id": "12e8b766-9319-41bc-af3e-f73785bceefa",
   "metadata": {},
   "outputs": [
    {
     "name": "stdout",
     "output_type": "stream",
     "text": [
      "210\n",
      "facility_zip\n",
      "78229    5936\n",
      "32605    4769\n",
      "28801    4593\n",
      "34954    4196\n",
      "33462    4092\n",
      "89109    3996\n",
      "37203    3885\n",
      "23235    3634\n",
      "31404    3302\n",
      "75230    3180\n",
      "Name: count, dtype: int64\n"
     ]
    }
   ],
   "source": [
    "print(file[\"facility_zip\"].nunique())  # number of unique entries\n",
    "print(file[\"facility_zip\"].value_counts().head(10))  # common ZIP codes"
   ]
  },
  {
   "cell_type": "code",
   "execution_count": 147,
   "id": "7e4e38fb-fc62-4711-80b2-028a3b38f297",
   "metadata": {},
   "outputs": [],
   "source": [
    "file[\"facility_zip\"] = file[\"facility_zip\"].astype(\"category\")"
   ]
  },
  {
   "cell_type": "code",
   "execution_count": 148,
   "id": "afd30e81-6fd3-49bf-95b6-cd36a49117cb",
   "metadata": {},
   "outputs": [
    {
     "name": "stdout",
     "output_type": "stream",
     "text": [
      "Emp34Id                        object\n",
      "EmpLastName                    object\n",
      "EmpFirstName                   object\n",
      "EmpProcessLevelDesc            object\n",
      "EmpLegCoid                      int64\n",
      "EmpLocationDesc                object\n",
      "facility_city                category\n",
      "facility_state               category\n",
      "facility_zip                 category\n",
      "EmpDepartment                  object\n",
      "EmpDepartmentName              object\n",
      "EmpPositionDesc                object\n",
      "MgrName                        object\n",
      "MgrTitle                       object\n",
      "Mgr34Id                        object\n",
      "EmpAnnivDate           datetime64[ns]\n",
      "EmpPositionIsSuper            boolean\n",
      "EmpRNExperienceDate    datetime64[ns]\n",
      "dtype: object\n"
     ]
    }
   ],
   "source": [
    "print(file.dtypes)"
   ]
  },
  {
   "cell_type": "code",
   "execution_count": 149,
   "id": "98173203-a397-44b9-a41a-295bdf23d295",
   "metadata": {},
   "outputs": [
    {
     "name": "stdout",
     "output_type": "stream",
     "text": [
      "Emp34Id                     0\n",
      "EmpLastName                 0\n",
      "EmpFirstName                4\n",
      "EmpProcessLevelDesc         0\n",
      "EmpLegCoid                  0\n",
      "EmpLocationDesc             0\n",
      "facility_city               0\n",
      "facility_state              0\n",
      "facility_zip                0\n",
      "EmpDepartment               0\n",
      "EmpDepartmentName           0\n",
      "EmpPositionDesc             0\n",
      "MgrName                 18952\n",
      "MgrTitle                  213\n",
      "Mgr34Id                 18952\n",
      "EmpAnnivDate                0\n",
      "EmpPositionIsSuper          0\n",
      "EmpRNExperienceDate    149072\n",
      "dtype: int64\n"
     ]
    }
   ],
   "source": [
    "print(file.isnull().sum())  "
   ]
  },
  {
   "cell_type": "code",
   "execution_count": 150,
   "id": "2e646470-14c8-4ec9-8bcb-5ecb2607400f",
   "metadata": {},
   "outputs": [
    {
     "data": {
      "text/html": [
       "<div>\n",
       "<style scoped>\n",
       "    .dataframe tbody tr th:only-of-type {\n",
       "        vertical-align: middle;\n",
       "    }\n",
       "\n",
       "    .dataframe tbody tr th {\n",
       "        vertical-align: top;\n",
       "    }\n",
       "\n",
       "    .dataframe thead th {\n",
       "        text-align: right;\n",
       "    }\n",
       "</style>\n",
       "<table border=\"1\" class=\"dataframe\">\n",
       "  <thead>\n",
       "    <tr style=\"text-align: right;\">\n",
       "      <th></th>\n",
       "      <th>Emp34Id</th>\n",
       "      <th>EmpLastName</th>\n",
       "      <th>EmpFirstName</th>\n",
       "      <th>EmpProcessLevelDesc</th>\n",
       "      <th>EmpLegCoid</th>\n",
       "      <th>EmpLocationDesc</th>\n",
       "      <th>facility_city</th>\n",
       "      <th>facility_state</th>\n",
       "      <th>facility_zip</th>\n",
       "      <th>EmpDepartment</th>\n",
       "      <th>EmpDepartmentName</th>\n",
       "      <th>EmpPositionDesc</th>\n",
       "      <th>MgrName</th>\n",
       "      <th>MgrTitle</th>\n",
       "      <th>Mgr34Id</th>\n",
       "      <th>EmpAnnivDate</th>\n",
       "      <th>EmpPositionIsSuper</th>\n",
       "      <th>EmpRNExperienceDate</th>\n",
       "    </tr>\n",
       "  </thead>\n",
       "  <tbody>\n",
       "    <tr>\n",
       "      <th>107065</th>\n",
       "      <td>93164eaf-76c1-4fde-8e36-05d57f0447ed</td>\n",
       "      <td>Schuster</td>\n",
       "      <td>NaN</td>\n",
       "      <td>HCA Florida North Florida Hosp</td>\n",
       "      <td>30916</td>\n",
       "      <td>HCA Florida North Florida Hosp</td>\n",
       "      <td>Gainesville</td>\n",
       "      <td>FL</td>\n",
       "      <td>32605</td>\n",
       "      <td>79201</td>\n",
       "      <td>SHC-Crown Pointe</td>\n",
       "      <td>RN Clinic</td>\n",
       "      <td>Aly, Carroll</td>\n",
       "      <td>Mgr Clinics RN</td>\n",
       "      <td>16e5e5f5-4814-4eb6-a280-9b665e60b9ae</td>\n",
       "      <td>2014-07-21</td>\n",
       "      <td>False</td>\n",
       "      <td>NaT</td>\n",
       "    </tr>\n",
       "    <tr>\n",
       "      <th>136374</th>\n",
       "      <td>cb06aa46-cf99-4410-8974-964f9aa98882</td>\n",
       "      <td>Kutch</td>\n",
       "      <td>NaN</td>\n",
       "      <td>CJW Medical Center</td>\n",
       "      <td>34632</td>\n",
       "      <td>CJW Medical Center</td>\n",
       "      <td>Richmond</td>\n",
       "      <td>VA</td>\n",
       "      <td>23235</td>\n",
       "      <td>70307</td>\n",
       "      <td>CMC Cardiov Surgery</td>\n",
       "      <td>RN</td>\n",
       "      <td>Rahsaan, Simonis</td>\n",
       "      <td>Admin Dir Ancillary Svcs</td>\n",
       "      <td>18a35a5e-d2df-4fc1-afd5-78f16a7654f3</td>\n",
       "      <td>1980-10-06</td>\n",
       "      <td>False</td>\n",
       "      <td>NaT</td>\n",
       "    </tr>\n",
       "    <tr>\n",
       "      <th>152353</th>\n",
       "      <td>9f7edcf2-bc2b-4493-8faf-a5f17d928566</td>\n",
       "      <td>Harvey</td>\n",
       "      <td>NaN</td>\n",
       "      <td>Swedish Medical Center</td>\n",
       "      <td>27100</td>\n",
       "      <td>Swedish Medical Center</td>\n",
       "      <td>Englewood</td>\n",
       "      <td>CO</td>\n",
       "      <td>80110</td>\n",
       "      <td>60617</td>\n",
       "      <td>Patient Safety Attendants</td>\n",
       "      <td>Patient Safety Attendant</td>\n",
       "      <td>Obidiah, Hermann</td>\n",
       "      <td>Dir Clinical Operations</td>\n",
       "      <td>be71ed25-1d93-4c80-890c-1db375060992</td>\n",
       "      <td>2022-06-20</td>\n",
       "      <td>False</td>\n",
       "      <td>NaT</td>\n",
       "    </tr>\n",
       "    <tr>\n",
       "      <th>177872</th>\n",
       "      <td>bccb49e5-4493-4e2f-800e-8dc9c55a7f9a</td>\n",
       "      <td>Mohr</td>\n",
       "      <td>NaN</td>\n",
       "      <td>Medical City Dallas</td>\n",
       "      <td>34325</td>\n",
       "      <td>Medical City Dallas</td>\n",
       "      <td>Dallas</td>\n",
       "      <td>TX</td>\n",
       "      <td>75230</td>\n",
       "      <td>60509</td>\n",
       "      <td>Sitter</td>\n",
       "      <td>Patient Safety Attendant</td>\n",
       "      <td>Salenna, Nader</td>\n",
       "      <td>Dir Clinical Operations</td>\n",
       "      <td>901fa74b-d24e-4242-ba9e-a956b2b60e77</td>\n",
       "      <td>2024-04-08</td>\n",
       "      <td>False</td>\n",
       "      <td>NaT</td>\n",
       "    </tr>\n",
       "  </tbody>\n",
       "</table>\n",
       "</div>"
      ],
      "text/plain": [
       "                                     Emp34Id EmpLastName EmpFirstName  \\\n",
       "107065  93164eaf-76c1-4fde-8e36-05d57f0447ed    Schuster          NaN   \n",
       "136374  cb06aa46-cf99-4410-8974-964f9aa98882       Kutch          NaN   \n",
       "152353  9f7edcf2-bc2b-4493-8faf-a5f17d928566      Harvey          NaN   \n",
       "177872  bccb49e5-4493-4e2f-800e-8dc9c55a7f9a        Mohr          NaN   \n",
       "\n",
       "                   EmpProcessLevelDesc  EmpLegCoid  \\\n",
       "107065  HCA Florida North Florida Hosp       30916   \n",
       "136374              CJW Medical Center       34632   \n",
       "152353          Swedish Medical Center       27100   \n",
       "177872             Medical City Dallas       34325   \n",
       "\n",
       "                       EmpLocationDesc facility_city facility_state  \\\n",
       "107065  HCA Florida North Florida Hosp   Gainesville             FL   \n",
       "136374              CJW Medical Center      Richmond             VA   \n",
       "152353          Swedish Medical Center     Englewood             CO   \n",
       "177872             Medical City Dallas        Dallas             TX   \n",
       "\n",
       "       facility_zip EmpDepartment          EmpDepartmentName  \\\n",
       "107065        32605         79201           SHC-Crown Pointe   \n",
       "136374        23235         70307        CMC Cardiov Surgery   \n",
       "152353        80110         60617  Patient Safety Attendants   \n",
       "177872        75230         60509                     Sitter   \n",
       "\n",
       "                 EmpPositionDesc           MgrName                  MgrTitle  \\\n",
       "107065                 RN Clinic      Aly, Carroll            Mgr Clinics RN   \n",
       "136374                        RN  Rahsaan, Simonis  Admin Dir Ancillary Svcs   \n",
       "152353  Patient Safety Attendant  Obidiah, Hermann   Dir Clinical Operations   \n",
       "177872  Patient Safety Attendant    Salenna, Nader   Dir Clinical Operations   \n",
       "\n",
       "                                     Mgr34Id EmpAnnivDate  EmpPositionIsSuper  \\\n",
       "107065  16e5e5f5-4814-4eb6-a280-9b665e60b9ae   2014-07-21               False   \n",
       "136374  18a35a5e-d2df-4fc1-afd5-78f16a7654f3   1980-10-06               False   \n",
       "152353  be71ed25-1d93-4c80-890c-1db375060992   2022-06-20               False   \n",
       "177872  901fa74b-d24e-4242-ba9e-a956b2b60e77   2024-04-08               False   \n",
       "\n",
       "       EmpRNExperienceDate  \n",
       "107065                 NaT  \n",
       "136374                 NaT  \n",
       "152353                 NaT  \n",
       "177872                 NaT  "
      ]
     },
     "execution_count": 150,
     "metadata": {},
     "output_type": "execute_result"
    }
   ],
   "source": [
    "file[file.EmpFirstName.isna()]"
   ]
  },
  {
   "cell_type": "code",
   "execution_count": 151,
   "id": "c95a63e3-e416-4704-a5ba-58b5def6adc3",
   "metadata": {},
   "outputs": [
    {
     "data": {
      "text/html": [
       "<div>\n",
       "<style scoped>\n",
       "    .dataframe tbody tr th:only-of-type {\n",
       "        vertical-align: middle;\n",
       "    }\n",
       "\n",
       "    .dataframe tbody tr th {\n",
       "        vertical-align: top;\n",
       "    }\n",
       "\n",
       "    .dataframe thead th {\n",
       "        text-align: right;\n",
       "    }\n",
       "</style>\n",
       "<table border=\"1\" class=\"dataframe\">\n",
       "  <thead>\n",
       "    <tr style=\"text-align: right;\">\n",
       "      <th></th>\n",
       "      <th>Emp34Id</th>\n",
       "      <th>EmpLastName</th>\n",
       "      <th>EmpFirstName</th>\n",
       "      <th>EmpProcessLevelDesc</th>\n",
       "      <th>EmpLegCoid</th>\n",
       "      <th>EmpLocationDesc</th>\n",
       "      <th>facility_city</th>\n",
       "      <th>facility_state</th>\n",
       "      <th>facility_zip</th>\n",
       "      <th>EmpDepartment</th>\n",
       "      <th>EmpDepartmentName</th>\n",
       "      <th>EmpPositionDesc</th>\n",
       "      <th>MgrName</th>\n",
       "      <th>MgrTitle</th>\n",
       "      <th>Mgr34Id</th>\n",
       "      <th>EmpAnnivDate</th>\n",
       "      <th>EmpPositionIsSuper</th>\n",
       "      <th>EmpRNExperienceDate</th>\n",
       "    </tr>\n",
       "  </thead>\n",
       "  <tbody>\n",
       "    <tr>\n",
       "      <th>78</th>\n",
       "      <td>9b0c232c-f7f0-4053-a755-f140bfe5fc26</td>\n",
       "      <td>Frami</td>\n",
       "      <td>Julio</td>\n",
       "      <td>StoneSprings Hospital Center</td>\n",
       "      <td>26630</td>\n",
       "      <td>StoneSprings Hospital Center</td>\n",
       "      <td>Dulles</td>\n",
       "      <td>VA</td>\n",
       "      <td>20166</td>\n",
       "      <td>70109</td>\n",
       "      <td>Surgery</td>\n",
       "      <td>Dir Surgical Svcs</td>\n",
       "      <td>NaN</td>\n",
       "      <td>NaN</td>\n",
       "      <td>NaN</td>\n",
       "      <td>2024-08-19</td>\n",
       "      <td>True</td>\n",
       "      <td>NaT</td>\n",
       "    </tr>\n",
       "    <tr>\n",
       "      <th>79</th>\n",
       "      <td>9b0c232c-f7f0-4053-a755-f140bfe5fc26</td>\n",
       "      <td>Hudson</td>\n",
       "      <td>Hylind</td>\n",
       "      <td>StoneSprings Hospital Center</td>\n",
       "      <td>26630</td>\n",
       "      <td>StoneSprings Hospital Center</td>\n",
       "      <td>Dulles</td>\n",
       "      <td>VA</td>\n",
       "      <td>20166</td>\n",
       "      <td>70109</td>\n",
       "      <td>Surgery</td>\n",
       "      <td>Dir Surgical Svcs</td>\n",
       "      <td>NaN</td>\n",
       "      <td>NaN</td>\n",
       "      <td>NaN</td>\n",
       "      <td>2024-08-19</td>\n",
       "      <td>True</td>\n",
       "      <td>NaT</td>\n",
       "    </tr>\n",
       "    <tr>\n",
       "      <th>316</th>\n",
       "      <td>0dc4b97a-081d-4666-bae8-5f01b748db2b</td>\n",
       "      <td>Kertzmann</td>\n",
       "      <td>Deaminique</td>\n",
       "      <td>HCA FL South Tampa Hospital</td>\n",
       "      <td>26537</td>\n",
       "      <td>HCA FL South Tampa Hospital</td>\n",
       "      <td>Tampa</td>\n",
       "      <td>FL</td>\n",
       "      <td>33609</td>\n",
       "      <td>78020</td>\n",
       "      <td>Emergency Services</td>\n",
       "      <td>Dir Emergency Svcs</td>\n",
       "      <td>NaN</td>\n",
       "      <td>NaN</td>\n",
       "      <td>NaN</td>\n",
       "      <td>2019-11-04</td>\n",
       "      <td>True</td>\n",
       "      <td>2000-03-15</td>\n",
       "    </tr>\n",
       "    <tr>\n",
       "      <th>462</th>\n",
       "      <td>87f2800c-976d-44fd-a6b7-ddbfe474361c</td>\n",
       "      <td>Brown</td>\n",
       "      <td>Liz</td>\n",
       "      <td>HCA FL South Tampa Hospital</td>\n",
       "      <td>26537</td>\n",
       "      <td>HCA FL South Tampa Hospital</td>\n",
       "      <td>Tampa</td>\n",
       "      <td>FL</td>\n",
       "      <td>33609</td>\n",
       "      <td>84320</td>\n",
       "      <td>Medical Staff</td>\n",
       "      <td>Dir Med Staff Svcs</td>\n",
       "      <td>NaN</td>\n",
       "      <td>NaN</td>\n",
       "      <td>NaN</td>\n",
       "      <td>2024-02-26</td>\n",
       "      <td>True</td>\n",
       "      <td>NaT</td>\n",
       "    </tr>\n",
       "    <tr>\n",
       "      <th>797</th>\n",
       "      <td>bc2d8942-f0c3-4f5b-88a9-2e3f7ab548a9</td>\n",
       "      <td>Gutmann</td>\n",
       "      <td>Gretzel</td>\n",
       "      <td>Good Samaritan Hospital</td>\n",
       "      <td>30572</td>\n",
       "      <td>Good Samaritan Hospital</td>\n",
       "      <td>San Jose</td>\n",
       "      <td>CA</td>\n",
       "      <td>95124</td>\n",
       "      <td>90630</td>\n",
       "      <td>Patient Access</td>\n",
       "      <td>Dir Patient Access</td>\n",
       "      <td>NaN</td>\n",
       "      <td>NaN</td>\n",
       "      <td>NaN</td>\n",
       "      <td>2005-11-07</td>\n",
       "      <td>True</td>\n",
       "      <td>NaT</td>\n",
       "    </tr>\n",
       "    <tr>\n",
       "      <th>...</th>\n",
       "      <td>...</td>\n",
       "      <td>...</td>\n",
       "      <td>...</td>\n",
       "      <td>...</td>\n",
       "      <td>...</td>\n",
       "      <td>...</td>\n",
       "      <td>...</td>\n",
       "      <td>...</td>\n",
       "      <td>...</td>\n",
       "      <td>...</td>\n",
       "      <td>...</td>\n",
       "      <td>...</td>\n",
       "      <td>...</td>\n",
       "      <td>...</td>\n",
       "      <td>...</td>\n",
       "      <td>...</td>\n",
       "      <td>...</td>\n",
       "      <td>...</td>\n",
       "    </tr>\n",
       "    <tr>\n",
       "      <th>211862</th>\n",
       "      <td>47ac2c3f-cd66-415a-8d49-6c16ad6b588f</td>\n",
       "      <td>Padberg</td>\n",
       "      <td>Babyboyb-lindsey</td>\n",
       "      <td>Southern Hills Medical Center</td>\n",
       "      <td>34242</td>\n",
       "      <td>Southern Hills Medical Center</td>\n",
       "      <td>Nashville</td>\n",
       "      <td>TN</td>\n",
       "      <td>37211</td>\n",
       "      <td>80700</td>\n",
       "      <td>Housekeeping</td>\n",
       "      <td>Floor Specialist II</td>\n",
       "      <td>NaN</td>\n",
       "      <td>NaN</td>\n",
       "      <td>NaN</td>\n",
       "      <td>2015-03-23</td>\n",
       "      <td>False</td>\n",
       "      <td>NaT</td>\n",
       "    </tr>\n",
       "    <tr>\n",
       "      <th>212312</th>\n",
       "      <td>2860af08-7a04-4656-963a-4ba686316afa</td>\n",
       "      <td>Thompson</td>\n",
       "      <td>Canea</td>\n",
       "      <td>Southern Hills Medical Center</td>\n",
       "      <td>34242</td>\n",
       "      <td>Southern Hills Medical Center</td>\n",
       "      <td>Nashville</td>\n",
       "      <td>TN</td>\n",
       "      <td>37211</td>\n",
       "      <td>80700</td>\n",
       "      <td>Housekeeping</td>\n",
       "      <td>Floor Specialist II</td>\n",
       "      <td>NaN</td>\n",
       "      <td>NaN</td>\n",
       "      <td>NaN</td>\n",
       "      <td>2022-05-08</td>\n",
       "      <td>False</td>\n",
       "      <td>NaT</td>\n",
       "    </tr>\n",
       "    <tr>\n",
       "      <th>212755</th>\n",
       "      <td>a1e66dfa-3fe4-417b-9782-2726ce91f7fa</td>\n",
       "      <td>Koss</td>\n",
       "      <td>Bb-maryna</td>\n",
       "      <td>Methodist Landmark Hospital</td>\n",
       "      <td>27540</td>\n",
       "      <td>Methodist Landmark Hospital</td>\n",
       "      <td>San Antonio</td>\n",
       "      <td>TX</td>\n",
       "      <td>78249</td>\n",
       "      <td>71274</td>\n",
       "      <td>Pharmacy</td>\n",
       "      <td>Pharmacy Tech II Compound PRN</td>\n",
       "      <td>NaN</td>\n",
       "      <td>NaN</td>\n",
       "      <td>NaN</td>\n",
       "      <td>2023-07-10</td>\n",
       "      <td>False</td>\n",
       "      <td>NaT</td>\n",
       "    </tr>\n",
       "    <tr>\n",
       "      <th>223585</th>\n",
       "      <td>e4c377d8-118a-4aa1-9d04-e31304201e0b</td>\n",
       "      <td>Schultz</td>\n",
       "      <td>Eddith</td>\n",
       "      <td>Methodist Landmark Hospital</td>\n",
       "      <td>27540</td>\n",
       "      <td>Methodist Landmark Hospital</td>\n",
       "      <td>San Antonio</td>\n",
       "      <td>TX</td>\n",
       "      <td>78249</td>\n",
       "      <td>71274</td>\n",
       "      <td>Pharmacy</td>\n",
       "      <td>Pharmacy Technician Specialist</td>\n",
       "      <td>NaN</td>\n",
       "      <td>NaN</td>\n",
       "      <td>NaN</td>\n",
       "      <td>2022-08-22</td>\n",
       "      <td>False</td>\n",
       "      <td>NaT</td>\n",
       "    </tr>\n",
       "    <tr>\n",
       "      <th>227123</th>\n",
       "      <td>67f5ae3a-c385-49df-ac6f-ff809f020a51</td>\n",
       "      <td>Corwin</td>\n",
       "      <td>Case</td>\n",
       "      <td>Methodist Landmark Hospital</td>\n",
       "      <td>27540</td>\n",
       "      <td>Methodist Landmark Hospital</td>\n",
       "      <td>San Antonio</td>\n",
       "      <td>TX</td>\n",
       "      <td>78249</td>\n",
       "      <td>71274</td>\n",
       "      <td>Pharmacy</td>\n",
       "      <td>Pharmacy Technician Specialist</td>\n",
       "      <td>NaN</td>\n",
       "      <td>NaN</td>\n",
       "      <td>NaN</td>\n",
       "      <td>2023-07-10</td>\n",
       "      <td>False</td>\n",
       "      <td>NaT</td>\n",
       "    </tr>\n",
       "  </tbody>\n",
       "</table>\n",
       "<p>213 rows × 18 columns</p>\n",
       "</div>"
      ],
      "text/plain": [
       "                                     Emp34Id EmpLastName      EmpFirstName  \\\n",
       "78      9b0c232c-f7f0-4053-a755-f140bfe5fc26       Frami             Julio   \n",
       "79      9b0c232c-f7f0-4053-a755-f140bfe5fc26      Hudson            Hylind   \n",
       "316     0dc4b97a-081d-4666-bae8-5f01b748db2b   Kertzmann        Deaminique   \n",
       "462     87f2800c-976d-44fd-a6b7-ddbfe474361c       Brown               Liz   \n",
       "797     bc2d8942-f0c3-4f5b-88a9-2e3f7ab548a9     Gutmann           Gretzel   \n",
       "...                                      ...         ...               ...   \n",
       "211862  47ac2c3f-cd66-415a-8d49-6c16ad6b588f     Padberg  Babyboyb-lindsey   \n",
       "212312  2860af08-7a04-4656-963a-4ba686316afa    Thompson             Canea   \n",
       "212755  a1e66dfa-3fe4-417b-9782-2726ce91f7fa        Koss         Bb-maryna   \n",
       "223585  e4c377d8-118a-4aa1-9d04-e31304201e0b     Schultz            Eddith   \n",
       "227123  67f5ae3a-c385-49df-ac6f-ff809f020a51      Corwin              Case   \n",
       "\n",
       "                  EmpProcessLevelDesc  EmpLegCoid  \\\n",
       "78       StoneSprings Hospital Center       26630   \n",
       "79       StoneSprings Hospital Center       26630   \n",
       "316       HCA FL South Tampa Hospital       26537   \n",
       "462       HCA FL South Tampa Hospital       26537   \n",
       "797           Good Samaritan Hospital       30572   \n",
       "...                               ...         ...   \n",
       "211862  Southern Hills Medical Center       34242   \n",
       "212312  Southern Hills Medical Center       34242   \n",
       "212755    Methodist Landmark Hospital       27540   \n",
       "223585    Methodist Landmark Hospital       27540   \n",
       "227123    Methodist Landmark Hospital       27540   \n",
       "\n",
       "                      EmpLocationDesc facility_city facility_state  \\\n",
       "78       StoneSprings Hospital Center        Dulles             VA   \n",
       "79       StoneSprings Hospital Center        Dulles             VA   \n",
       "316       HCA FL South Tampa Hospital         Tampa             FL   \n",
       "462       HCA FL South Tampa Hospital         Tampa             FL   \n",
       "797           Good Samaritan Hospital      San Jose             CA   \n",
       "...                               ...           ...            ...   \n",
       "211862  Southern Hills Medical Center     Nashville             TN   \n",
       "212312  Southern Hills Medical Center     Nashville             TN   \n",
       "212755    Methodist Landmark Hospital   San Antonio             TX   \n",
       "223585    Methodist Landmark Hospital   San Antonio             TX   \n",
       "227123    Methodist Landmark Hospital   San Antonio             TX   \n",
       "\n",
       "       facility_zip EmpDepartment   EmpDepartmentName  \\\n",
       "78            20166         70109             Surgery   \n",
       "79            20166         70109             Surgery   \n",
       "316           33609         78020  Emergency Services   \n",
       "462           33609         84320       Medical Staff   \n",
       "797           95124         90630      Patient Access   \n",
       "...             ...           ...                 ...   \n",
       "211862        37211         80700        Housekeeping   \n",
       "212312        37211         80700        Housekeeping   \n",
       "212755        78249         71274            Pharmacy   \n",
       "223585        78249         71274            Pharmacy   \n",
       "227123        78249         71274            Pharmacy   \n",
       "\n",
       "                       EmpPositionDesc MgrName MgrTitle Mgr34Id EmpAnnivDate  \\\n",
       "78                   Dir Surgical Svcs     NaN      NaN     NaN   2024-08-19   \n",
       "79                   Dir Surgical Svcs     NaN      NaN     NaN   2024-08-19   \n",
       "316                 Dir Emergency Svcs     NaN      NaN     NaN   2019-11-04   \n",
       "462                 Dir Med Staff Svcs     NaN      NaN     NaN   2024-02-26   \n",
       "797                 Dir Patient Access     NaN      NaN     NaN   2005-11-07   \n",
       "...                                ...     ...      ...     ...          ...   \n",
       "211862             Floor Specialist II     NaN      NaN     NaN   2015-03-23   \n",
       "212312             Floor Specialist II     NaN      NaN     NaN   2022-05-08   \n",
       "212755   Pharmacy Tech II Compound PRN     NaN      NaN     NaN   2023-07-10   \n",
       "223585  Pharmacy Technician Specialist     NaN      NaN     NaN   2022-08-22   \n",
       "227123  Pharmacy Technician Specialist     NaN      NaN     NaN   2023-07-10   \n",
       "\n",
       "        EmpPositionIsSuper EmpRNExperienceDate  \n",
       "78                    True                 NaT  \n",
       "79                    True                 NaT  \n",
       "316                   True          2000-03-15  \n",
       "462                   True                 NaT  \n",
       "797                   True                 NaT  \n",
       "...                    ...                 ...  \n",
       "211862               False                 NaT  \n",
       "212312               False                 NaT  \n",
       "212755               False                 NaT  \n",
       "223585               False                 NaT  \n",
       "227123               False                 NaT  \n",
       "\n",
       "[213 rows x 18 columns]"
      ]
     },
     "execution_count": 151,
     "metadata": {},
     "output_type": "execute_result"
    }
   ],
   "source": [
    "file[file.MgrTitle.isna()]"
   ]
  },
  {
   "cell_type": "code",
   "execution_count": 152,
   "id": "9f47a3c8-4cff-41be-a364-9aa9000d8196",
   "metadata": {},
   "outputs": [
    {
     "data": {
      "text/html": [
       "<div>\n",
       "<style scoped>\n",
       "    .dataframe tbody tr th:only-of-type {\n",
       "        vertical-align: middle;\n",
       "    }\n",
       "\n",
       "    .dataframe tbody tr th {\n",
       "        vertical-align: top;\n",
       "    }\n",
       "\n",
       "    .dataframe thead th {\n",
       "        text-align: right;\n",
       "    }\n",
       "</style>\n",
       "<table border=\"1\" class=\"dataframe\">\n",
       "  <thead>\n",
       "    <tr style=\"text-align: right;\">\n",
       "      <th></th>\n",
       "      <th>Emp34Id</th>\n",
       "      <th>EmpLastName</th>\n",
       "      <th>EmpFirstName</th>\n",
       "      <th>EmpProcessLevelDesc</th>\n",
       "      <th>EmpLegCoid</th>\n",
       "      <th>EmpLocationDesc</th>\n",
       "      <th>facility_city</th>\n",
       "      <th>facility_state</th>\n",
       "      <th>facility_zip</th>\n",
       "      <th>EmpDepartment</th>\n",
       "      <th>EmpDepartmentName</th>\n",
       "      <th>EmpPositionDesc</th>\n",
       "      <th>MgrName</th>\n",
       "      <th>MgrTitle</th>\n",
       "      <th>Mgr34Id</th>\n",
       "      <th>EmpAnnivDate</th>\n",
       "      <th>EmpPositionIsSuper</th>\n",
       "      <th>EmpRNExperienceDate</th>\n",
       "    </tr>\n",
       "  </thead>\n",
       "  <tbody>\n",
       "    <tr>\n",
       "      <th>18831</th>\n",
       "      <td>b057c79f-adc2-4e59-9906-a732cab6151b</td>\n",
       "      <td>Waters</td>\n",
       "      <td>Amos</td>\n",
       "      <td>Medical Center of Aurora</td>\n",
       "      <td>27400</td>\n",
       "      <td>Medical Center of Aurora</td>\n",
       "      <td>Aurora</td>\n",
       "      <td>CO</td>\n",
       "      <td>80012</td>\n",
       "      <td>65019</td>\n",
       "      <td>Intensive Care Unit</td>\n",
       "      <td>ECMO Specialist</td>\n",
       "      <td>NaN</td>\n",
       "      <td>XXXXXXXXXXXXXXXXXXXXXXXXXXXXXX</td>\n",
       "      <td>NaN</td>\n",
       "      <td>2020-03-31</td>\n",
       "      <td>False</td>\n",
       "      <td>NaT</td>\n",
       "    </tr>\n",
       "    <tr>\n",
       "      <th>45198</th>\n",
       "      <td>f655107b-b08e-426c-8ece-5e864bb8a6dd</td>\n",
       "      <td>Hammes</td>\n",
       "      <td>Bba-jyothi</td>\n",
       "      <td>Medical Center of Aurora</td>\n",
       "      <td>27400</td>\n",
       "      <td>Medical Center of Aurora</td>\n",
       "      <td>Aurora</td>\n",
       "      <td>CO</td>\n",
       "      <td>80012</td>\n",
       "      <td>65019</td>\n",
       "      <td>Intensive Care Unit</td>\n",
       "      <td>ECMO Specialist</td>\n",
       "      <td>NaN</td>\n",
       "      <td>XXXXXXXXXXXXXXXXXXXXXXXXXXXXXX</td>\n",
       "      <td>NaN</td>\n",
       "      <td>2021-09-28</td>\n",
       "      <td>False</td>\n",
       "      <td>NaT</td>\n",
       "    </tr>\n",
       "    <tr>\n",
       "      <th>55117</th>\n",
       "      <td>638f0e74-7ce9-4947-9eb3-e711d485ab61</td>\n",
       "      <td>Stroman</td>\n",
       "      <td>Fsed</td>\n",
       "      <td>HCA Houston Med Ctr</td>\n",
       "      <td>26925</td>\n",
       "      <td>HCA Houston Med Ctr</td>\n",
       "      <td>Houston</td>\n",
       "      <td>TX</td>\n",
       "      <td>77004</td>\n",
       "      <td>65377</td>\n",
       "      <td>CVICU</td>\n",
       "      <td>RN ECMO Specialist</td>\n",
       "      <td>NaN</td>\n",
       "      <td>XXXXXXXXXXXXXXXXXXXXXXXXXXXXXX</td>\n",
       "      <td>NaN</td>\n",
       "      <td>2019-08-19</td>\n",
       "      <td>False</td>\n",
       "      <td>NaT</td>\n",
       "    </tr>\n",
       "    <tr>\n",
       "      <th>55118</th>\n",
       "      <td>638f0e74-7ce9-4947-9eb3-e711d485ab61</td>\n",
       "      <td>Upton</td>\n",
       "      <td>Mikael</td>\n",
       "      <td>HCA Houston Med Ctr</td>\n",
       "      <td>26925</td>\n",
       "      <td>HCA Houston Med Ctr</td>\n",
       "      <td>Houston</td>\n",
       "      <td>TX</td>\n",
       "      <td>77004</td>\n",
       "      <td>65377</td>\n",
       "      <td>CVICU</td>\n",
       "      <td>RN ECMO Specialist</td>\n",
       "      <td>NaN</td>\n",
       "      <td>XXXXXXXXXXXXXXXXXXXXXXXXXXXXXX</td>\n",
       "      <td>NaN</td>\n",
       "      <td>2019-08-19</td>\n",
       "      <td>False</td>\n",
       "      <td>NaT</td>\n",
       "    </tr>\n",
       "    <tr>\n",
       "      <th>75827</th>\n",
       "      <td>ef92d82b-44bd-40f1-9f1b-e4120b61fc12</td>\n",
       "      <td>Emmerich</td>\n",
       "      <td>Sharen</td>\n",
       "      <td>HCA Houston Med Ctr</td>\n",
       "      <td>26925</td>\n",
       "      <td>HCA Houston Med Ctr</td>\n",
       "      <td>Houston</td>\n",
       "      <td>TX</td>\n",
       "      <td>77004</td>\n",
       "      <td>65377</td>\n",
       "      <td>CVICU</td>\n",
       "      <td>RN ECMO Specialist</td>\n",
       "      <td>NaN</td>\n",
       "      <td>XXXXXXXXXXXXXXXXXXXXXXXXXXXXXX</td>\n",
       "      <td>NaN</td>\n",
       "      <td>2021-05-10</td>\n",
       "      <td>False</td>\n",
       "      <td>2021-05-10</td>\n",
       "    </tr>\n",
       "    <tr>\n",
       "      <th>75828</th>\n",
       "      <td>ef92d82b-44bd-40f1-9f1b-e4120b61fc12</td>\n",
       "      <td>Keebler</td>\n",
       "      <td>Fance</td>\n",
       "      <td>HCA Houston Med Ctr</td>\n",
       "      <td>26925</td>\n",
       "      <td>HCA Houston Med Ctr</td>\n",
       "      <td>Houston</td>\n",
       "      <td>TX</td>\n",
       "      <td>77004</td>\n",
       "      <td>65377</td>\n",
       "      <td>CVICU</td>\n",
       "      <td>RN ECMO Specialist</td>\n",
       "      <td>NaN</td>\n",
       "      <td>XXXXXXXXXXXXXXXXXXXXXXXXXXXXXX</td>\n",
       "      <td>NaN</td>\n",
       "      <td>2021-05-10</td>\n",
       "      <td>False</td>\n",
       "      <td>2021-05-10</td>\n",
       "    </tr>\n",
       "    <tr>\n",
       "      <th>93305</th>\n",
       "      <td>1c11e2ca-6458-4517-a7aa-d5c02b027371</td>\n",
       "      <td>Erdman</td>\n",
       "      <td>Hirim</td>\n",
       "      <td>HCA Houston Med Ctr</td>\n",
       "      <td>26925</td>\n",
       "      <td>HCA Houston Med Ctr</td>\n",
       "      <td>Houston</td>\n",
       "      <td>TX</td>\n",
       "      <td>77004</td>\n",
       "      <td>65377</td>\n",
       "      <td>CVICU</td>\n",
       "      <td>RN ECMO Specialist</td>\n",
       "      <td>NaN</td>\n",
       "      <td>XXXXXXXXXXXXXXXXXXXXXXXXXXXXXX</td>\n",
       "      <td>NaN</td>\n",
       "      <td>2022-01-30</td>\n",
       "      <td>False</td>\n",
       "      <td>2022-01-26</td>\n",
       "    </tr>\n",
       "    <tr>\n",
       "      <th>93306</th>\n",
       "      <td>1c11e2ca-6458-4517-a7aa-d5c02b027371</td>\n",
       "      <td>Lockman</td>\n",
       "      <td>Kiren</td>\n",
       "      <td>HCA Houston Med Ctr</td>\n",
       "      <td>26925</td>\n",
       "      <td>HCA Houston Med Ctr</td>\n",
       "      <td>Houston</td>\n",
       "      <td>TX</td>\n",
       "      <td>77004</td>\n",
       "      <td>65377</td>\n",
       "      <td>CVICU</td>\n",
       "      <td>RN ECMO Specialist</td>\n",
       "      <td>NaN</td>\n",
       "      <td>XXXXXXXXXXXXXXXXXXXXXXXXXXXXXX</td>\n",
       "      <td>NaN</td>\n",
       "      <td>2022-01-30</td>\n",
       "      <td>False</td>\n",
       "      <td>2022-01-26</td>\n",
       "    </tr>\n",
       "    <tr>\n",
       "      <th>105438</th>\n",
       "      <td>71a1a867-28c4-4c15-a338-0f7dd573efa3</td>\n",
       "      <td>Powlowski</td>\n",
       "      <td>Luy</td>\n",
       "      <td>HCA Houston Med Ctr</td>\n",
       "      <td>26925</td>\n",
       "      <td>HCA Houston Med Ctr</td>\n",
       "      <td>Houston</td>\n",
       "      <td>TX</td>\n",
       "      <td>77004</td>\n",
       "      <td>65377</td>\n",
       "      <td>CVICU</td>\n",
       "      <td>RN ECMO Specialist</td>\n",
       "      <td>NaN</td>\n",
       "      <td>XXXXXXXXXXXXXXXXXXXXXXXXXXXXXX</td>\n",
       "      <td>NaN</td>\n",
       "      <td>2003-04-21</td>\n",
       "      <td>False</td>\n",
       "      <td>NaT</td>\n",
       "    </tr>\n",
       "    <tr>\n",
       "      <th>105439</th>\n",
       "      <td>71a1a867-28c4-4c15-a338-0f7dd573efa3</td>\n",
       "      <td>Abernathy</td>\n",
       "      <td>Awilda</td>\n",
       "      <td>HCA Houston Med Ctr</td>\n",
       "      <td>26925</td>\n",
       "      <td>HCA Houston Med Ctr</td>\n",
       "      <td>Houston</td>\n",
       "      <td>TX</td>\n",
       "      <td>77004</td>\n",
       "      <td>65377</td>\n",
       "      <td>CVICU</td>\n",
       "      <td>RN ECMO Specialist</td>\n",
       "      <td>NaN</td>\n",
       "      <td>XXXXXXXXXXXXXXXXXXXXXXXXXXXXXX</td>\n",
       "      <td>NaN</td>\n",
       "      <td>2003-04-21</td>\n",
       "      <td>False</td>\n",
       "      <td>NaT</td>\n",
       "    </tr>\n",
       "    <tr>\n",
       "      <th>111659</th>\n",
       "      <td>a7dee2d7-ae6c-45ee-8f6a-2d75d81667b9</td>\n",
       "      <td>Stiedemann</td>\n",
       "      <td>Macail</td>\n",
       "      <td>HCA Houston Med Ctr</td>\n",
       "      <td>26925</td>\n",
       "      <td>HCA Houston Med Ctr</td>\n",
       "      <td>Houston</td>\n",
       "      <td>TX</td>\n",
       "      <td>77004</td>\n",
       "      <td>65377</td>\n",
       "      <td>CVICU</td>\n",
       "      <td>RN ECMO Specialist</td>\n",
       "      <td>NaN</td>\n",
       "      <td>XXXXXXXXXXXXXXXXXXXXXXXXXXXXXX</td>\n",
       "      <td>NaN</td>\n",
       "      <td>2018-02-26</td>\n",
       "      <td>False</td>\n",
       "      <td>2018-02-26</td>\n",
       "    </tr>\n",
       "    <tr>\n",
       "      <th>111660</th>\n",
       "      <td>a7dee2d7-ae6c-45ee-8f6a-2d75d81667b9</td>\n",
       "      <td>Kreiger</td>\n",
       "      <td>Eliamar</td>\n",
       "      <td>HCA Houston Med Ctr</td>\n",
       "      <td>26925</td>\n",
       "      <td>HCA Houston Med Ctr</td>\n",
       "      <td>Houston</td>\n",
       "      <td>TX</td>\n",
       "      <td>77004</td>\n",
       "      <td>65377</td>\n",
       "      <td>CVICU</td>\n",
       "      <td>RN ECMO Specialist</td>\n",
       "      <td>NaN</td>\n",
       "      <td>XXXXXXXXXXXXXXXXXXXXXXXXXXXXXX</td>\n",
       "      <td>NaN</td>\n",
       "      <td>2018-02-26</td>\n",
       "      <td>False</td>\n",
       "      <td>2018-02-26</td>\n",
       "    </tr>\n",
       "    <tr>\n",
       "      <th>118283</th>\n",
       "      <td>982f228b-c14d-4875-baf6-3fc40f667e94</td>\n",
       "      <td>Bernhard</td>\n",
       "      <td>Doralba</td>\n",
       "      <td>HCA Houston Med Ctr</td>\n",
       "      <td>26925</td>\n",
       "      <td>HCA Houston Med Ctr</td>\n",
       "      <td>Houston</td>\n",
       "      <td>TX</td>\n",
       "      <td>77004</td>\n",
       "      <td>65377</td>\n",
       "      <td>CVICU</td>\n",
       "      <td>RN ECMO Specialist</td>\n",
       "      <td>NaN</td>\n",
       "      <td>XXXXXXXXXXXXXXXXXXXXXXXXXXXXXX</td>\n",
       "      <td>NaN</td>\n",
       "      <td>2020-03-22</td>\n",
       "      <td>False</td>\n",
       "      <td>2020-03-23</td>\n",
       "    </tr>\n",
       "    <tr>\n",
       "      <th>118284</th>\n",
       "      <td>982f228b-c14d-4875-baf6-3fc40f667e94</td>\n",
       "      <td>Bins</td>\n",
       "      <td>Nalda</td>\n",
       "      <td>HCA Houston Med Ctr</td>\n",
       "      <td>26925</td>\n",
       "      <td>HCA Houston Med Ctr</td>\n",
       "      <td>Houston</td>\n",
       "      <td>TX</td>\n",
       "      <td>77004</td>\n",
       "      <td>65377</td>\n",
       "      <td>CVICU</td>\n",
       "      <td>RN ECMO Specialist</td>\n",
       "      <td>NaN</td>\n",
       "      <td>XXXXXXXXXXXXXXXXXXXXXXXXXXXXXX</td>\n",
       "      <td>NaN</td>\n",
       "      <td>2020-03-22</td>\n",
       "      <td>False</td>\n",
       "      <td>2020-03-23</td>\n",
       "    </tr>\n",
       "    <tr>\n",
       "      <th>132994</th>\n",
       "      <td>44d25bd7-bb3d-4d2b-8ba3-595bf2bbec37</td>\n",
       "      <td>Johnston</td>\n",
       "      <td>Cason</td>\n",
       "      <td>HCA Houston Med Ctr</td>\n",
       "      <td>26925</td>\n",
       "      <td>HCA Houston Med Ctr</td>\n",
       "      <td>Houston</td>\n",
       "      <td>TX</td>\n",
       "      <td>77004</td>\n",
       "      <td>65377</td>\n",
       "      <td>CVICU</td>\n",
       "      <td>RN ECMO Specialist</td>\n",
       "      <td>NaN</td>\n",
       "      <td>XXXXXXXXXXXXXXXXXXXXXXXXXXXXXX</td>\n",
       "      <td>NaN</td>\n",
       "      <td>2019-04-29</td>\n",
       "      <td>False</td>\n",
       "      <td>NaT</td>\n",
       "    </tr>\n",
       "    <tr>\n",
       "      <th>132995</th>\n",
       "      <td>44d25bd7-bb3d-4d2b-8ba3-595bf2bbec37</td>\n",
       "      <td>Schroeder</td>\n",
       "      <td>Bb2-pamela</td>\n",
       "      <td>HCA Houston Med Ctr</td>\n",
       "      <td>26925</td>\n",
       "      <td>HCA Houston Med Ctr</td>\n",
       "      <td>Houston</td>\n",
       "      <td>TX</td>\n",
       "      <td>77004</td>\n",
       "      <td>65377</td>\n",
       "      <td>CVICU</td>\n",
       "      <td>RN ECMO Specialist</td>\n",
       "      <td>NaN</td>\n",
       "      <td>XXXXXXXXXXXXXXXXXXXXXXXXXXXXXX</td>\n",
       "      <td>NaN</td>\n",
       "      <td>2019-04-29</td>\n",
       "      <td>False</td>\n",
       "      <td>NaT</td>\n",
       "    </tr>\n",
       "    <tr>\n",
       "      <th>207804</th>\n",
       "      <td>ab927402-85c0-4080-bf68-e15f73bf66a6</td>\n",
       "      <td>Wehner</td>\n",
       "      <td>Guillermina</td>\n",
       "      <td>Research Medical Center</td>\n",
       "      <td>9727</td>\n",
       "      <td>Research Medical Center</td>\n",
       "      <td>Kansas City</td>\n",
       "      <td>MO</td>\n",
       "      <td>64132</td>\n",
       "      <td>70127</td>\n",
       "      <td>Surgery</td>\n",
       "      <td>RN</td>\n",
       "      <td>NaN</td>\n",
       "      <td>XXXXXXXXXXXXXXXXXXXXXXXXXXXXXX</td>\n",
       "      <td>NaN</td>\n",
       "      <td>2018-07-23</td>\n",
       "      <td>False</td>\n",
       "      <td>2010-08-02</td>\n",
       "    </tr>\n",
       "    <tr>\n",
       "      <th>229708</th>\n",
       "      <td>77c08047-e196-409f-b744-b83306e70cd0</td>\n",
       "      <td>Boyer</td>\n",
       "      <td>Thomasine</td>\n",
       "      <td>Methodist Landmark Hospital</td>\n",
       "      <td>27540</td>\n",
       "      <td>Methodist Landmark Hospital</td>\n",
       "      <td>San Antonio</td>\n",
       "      <td>TX</td>\n",
       "      <td>78249</td>\n",
       "      <td>96374</td>\n",
       "      <td>First Assist</td>\n",
       "      <td>Surgical First Asst PRN</td>\n",
       "      <td>NaN</td>\n",
       "      <td>XXXXXXXXXXXXXXXXXXXXXXXXXXXXXX</td>\n",
       "      <td>NaN</td>\n",
       "      <td>2023-09-18</td>\n",
       "      <td>False</td>\n",
       "      <td>NaT</td>\n",
       "    </tr>\n",
       "  </tbody>\n",
       "</table>\n",
       "</div>"
      ],
      "text/plain": [
       "                                     Emp34Id EmpLastName EmpFirstName  \\\n",
       "18831   b057c79f-adc2-4e59-9906-a732cab6151b      Waters         Amos   \n",
       "45198   f655107b-b08e-426c-8ece-5e864bb8a6dd      Hammes   Bba-jyothi   \n",
       "55117   638f0e74-7ce9-4947-9eb3-e711d485ab61     Stroman         Fsed   \n",
       "55118   638f0e74-7ce9-4947-9eb3-e711d485ab61       Upton       Mikael   \n",
       "75827   ef92d82b-44bd-40f1-9f1b-e4120b61fc12    Emmerich       Sharen   \n",
       "75828   ef92d82b-44bd-40f1-9f1b-e4120b61fc12     Keebler        Fance   \n",
       "93305   1c11e2ca-6458-4517-a7aa-d5c02b027371      Erdman        Hirim   \n",
       "93306   1c11e2ca-6458-4517-a7aa-d5c02b027371     Lockman        Kiren   \n",
       "105438  71a1a867-28c4-4c15-a338-0f7dd573efa3   Powlowski          Luy   \n",
       "105439  71a1a867-28c4-4c15-a338-0f7dd573efa3   Abernathy       Awilda   \n",
       "111659  a7dee2d7-ae6c-45ee-8f6a-2d75d81667b9  Stiedemann       Macail   \n",
       "111660  a7dee2d7-ae6c-45ee-8f6a-2d75d81667b9     Kreiger      Eliamar   \n",
       "118283  982f228b-c14d-4875-baf6-3fc40f667e94    Bernhard      Doralba   \n",
       "118284  982f228b-c14d-4875-baf6-3fc40f667e94        Bins        Nalda   \n",
       "132994  44d25bd7-bb3d-4d2b-8ba3-595bf2bbec37    Johnston        Cason   \n",
       "132995  44d25bd7-bb3d-4d2b-8ba3-595bf2bbec37   Schroeder   Bb2-pamela   \n",
       "207804  ab927402-85c0-4080-bf68-e15f73bf66a6      Wehner  Guillermina   \n",
       "229708  77c08047-e196-409f-b744-b83306e70cd0       Boyer    Thomasine   \n",
       "\n",
       "                EmpProcessLevelDesc  EmpLegCoid              EmpLocationDesc  \\\n",
       "18831      Medical Center of Aurora       27400     Medical Center of Aurora   \n",
       "45198      Medical Center of Aurora       27400     Medical Center of Aurora   \n",
       "55117           HCA Houston Med Ctr       26925          HCA Houston Med Ctr   \n",
       "55118           HCA Houston Med Ctr       26925          HCA Houston Med Ctr   \n",
       "75827           HCA Houston Med Ctr       26925          HCA Houston Med Ctr   \n",
       "75828           HCA Houston Med Ctr       26925          HCA Houston Med Ctr   \n",
       "93305           HCA Houston Med Ctr       26925          HCA Houston Med Ctr   \n",
       "93306           HCA Houston Med Ctr       26925          HCA Houston Med Ctr   \n",
       "105438          HCA Houston Med Ctr       26925          HCA Houston Med Ctr   \n",
       "105439          HCA Houston Med Ctr       26925          HCA Houston Med Ctr   \n",
       "111659          HCA Houston Med Ctr       26925          HCA Houston Med Ctr   \n",
       "111660          HCA Houston Med Ctr       26925          HCA Houston Med Ctr   \n",
       "118283          HCA Houston Med Ctr       26925          HCA Houston Med Ctr   \n",
       "118284          HCA Houston Med Ctr       26925          HCA Houston Med Ctr   \n",
       "132994          HCA Houston Med Ctr       26925          HCA Houston Med Ctr   \n",
       "132995          HCA Houston Med Ctr       26925          HCA Houston Med Ctr   \n",
       "207804      Research Medical Center        9727      Research Medical Center   \n",
       "229708  Methodist Landmark Hospital       27540  Methodist Landmark Hospital   \n",
       "\n",
       "       facility_city facility_state facility_zip EmpDepartment  \\\n",
       "18831         Aurora             CO        80012         65019   \n",
       "45198         Aurora             CO        80012         65019   \n",
       "55117        Houston             TX        77004         65377   \n",
       "55118        Houston             TX        77004         65377   \n",
       "75827        Houston             TX        77004         65377   \n",
       "75828        Houston             TX        77004         65377   \n",
       "93305        Houston             TX        77004         65377   \n",
       "93306        Houston             TX        77004         65377   \n",
       "105438       Houston             TX        77004         65377   \n",
       "105439       Houston             TX        77004         65377   \n",
       "111659       Houston             TX        77004         65377   \n",
       "111660       Houston             TX        77004         65377   \n",
       "118283       Houston             TX        77004         65377   \n",
       "118284       Houston             TX        77004         65377   \n",
       "132994       Houston             TX        77004         65377   \n",
       "132995       Houston             TX        77004         65377   \n",
       "207804   Kansas City             MO        64132         70127   \n",
       "229708   San Antonio             TX        78249         96374   \n",
       "\n",
       "          EmpDepartmentName          EmpPositionDesc MgrName  \\\n",
       "18831   Intensive Care Unit          ECMO Specialist     NaN   \n",
       "45198   Intensive Care Unit          ECMO Specialist     NaN   \n",
       "55117                 CVICU       RN ECMO Specialist     NaN   \n",
       "55118                 CVICU       RN ECMO Specialist     NaN   \n",
       "75827                 CVICU       RN ECMO Specialist     NaN   \n",
       "75828                 CVICU       RN ECMO Specialist     NaN   \n",
       "93305                 CVICU       RN ECMO Specialist     NaN   \n",
       "93306                 CVICU       RN ECMO Specialist     NaN   \n",
       "105438                CVICU       RN ECMO Specialist     NaN   \n",
       "105439                CVICU       RN ECMO Specialist     NaN   \n",
       "111659                CVICU       RN ECMO Specialist     NaN   \n",
       "111660                CVICU       RN ECMO Specialist     NaN   \n",
       "118283                CVICU       RN ECMO Specialist     NaN   \n",
       "118284                CVICU       RN ECMO Specialist     NaN   \n",
       "132994                CVICU       RN ECMO Specialist     NaN   \n",
       "132995                CVICU       RN ECMO Specialist     NaN   \n",
       "207804              Surgery                       RN     NaN   \n",
       "229708         First Assist  Surgical First Asst PRN     NaN   \n",
       "\n",
       "                              MgrTitle Mgr34Id EmpAnnivDate  \\\n",
       "18831   XXXXXXXXXXXXXXXXXXXXXXXXXXXXXX     NaN   2020-03-31   \n",
       "45198   XXXXXXXXXXXXXXXXXXXXXXXXXXXXXX     NaN   2021-09-28   \n",
       "55117   XXXXXXXXXXXXXXXXXXXXXXXXXXXXXX     NaN   2019-08-19   \n",
       "55118   XXXXXXXXXXXXXXXXXXXXXXXXXXXXXX     NaN   2019-08-19   \n",
       "75827   XXXXXXXXXXXXXXXXXXXXXXXXXXXXXX     NaN   2021-05-10   \n",
       "75828   XXXXXXXXXXXXXXXXXXXXXXXXXXXXXX     NaN   2021-05-10   \n",
       "93305   XXXXXXXXXXXXXXXXXXXXXXXXXXXXXX     NaN   2022-01-30   \n",
       "93306   XXXXXXXXXXXXXXXXXXXXXXXXXXXXXX     NaN   2022-01-30   \n",
       "105438  XXXXXXXXXXXXXXXXXXXXXXXXXXXXXX     NaN   2003-04-21   \n",
       "105439  XXXXXXXXXXXXXXXXXXXXXXXXXXXXXX     NaN   2003-04-21   \n",
       "111659  XXXXXXXXXXXXXXXXXXXXXXXXXXXXXX     NaN   2018-02-26   \n",
       "111660  XXXXXXXXXXXXXXXXXXXXXXXXXXXXXX     NaN   2018-02-26   \n",
       "118283  XXXXXXXXXXXXXXXXXXXXXXXXXXXXXX     NaN   2020-03-22   \n",
       "118284  XXXXXXXXXXXXXXXXXXXXXXXXXXXXXX     NaN   2020-03-22   \n",
       "132994  XXXXXXXXXXXXXXXXXXXXXXXXXXXXXX     NaN   2019-04-29   \n",
       "132995  XXXXXXXXXXXXXXXXXXXXXXXXXXXXXX     NaN   2019-04-29   \n",
       "207804  XXXXXXXXXXXXXXXXXXXXXXXXXXXXXX     NaN   2018-07-23   \n",
       "229708  XXXXXXXXXXXXXXXXXXXXXXXXXXXXXX     NaN   2023-09-18   \n",
       "\n",
       "        EmpPositionIsSuper EmpRNExperienceDate  \n",
       "18831                False                 NaT  \n",
       "45198                False                 NaT  \n",
       "55117                False                 NaT  \n",
       "55118                False                 NaT  \n",
       "75827                False          2021-05-10  \n",
       "75828                False          2021-05-10  \n",
       "93305                False          2022-01-26  \n",
       "93306                False          2022-01-26  \n",
       "105438               False                 NaT  \n",
       "105439               False                 NaT  \n",
       "111659               False          2018-02-26  \n",
       "111660               False          2018-02-26  \n",
       "118283               False          2020-03-23  \n",
       "118284               False          2020-03-23  \n",
       "132994               False                 NaT  \n",
       "132995               False                 NaT  \n",
       "207804               False          2010-08-02  \n",
       "229708               False                 NaT  "
      ]
     },
     "execution_count": 152,
     "metadata": {},
     "output_type": "execute_result"
    }
   ],
   "source": [
    "file[file[\"MgrTitle\"]== \"XXXXXXXXXXXXXXXXXXXXXXXXXXXXXX\"]"
   ]
  },
  {
   "cell_type": "code",
   "execution_count": 154,
   "id": "8c3b3da9-fd24-4697-bea0-381147bd6ad9",
   "metadata": {},
   "outputs": [],
   "source": [
    "import numpy as np\n",
    "\n",
    "# replace \"XXXXX\" with NaN\n",
    "file[\"MgrTitle\"] = file[\"MgrTitle\"].replace(\"XXXXXXXXXXXXXXXXXXXXXXXXXXXXXX\", np.nan)"
   ]
  },
  {
   "cell_type": "code",
   "execution_count": 156,
   "id": "39682029-e695-4ad2-bf53-63257800820e",
   "metadata": {},
   "outputs": [
    {
     "name": "stdout",
     "output_type": "stream",
     "text": [
      "Emp34Id                     0\n",
      "EmpLastName                 0\n",
      "EmpFirstName                4\n",
      "EmpProcessLevelDesc         0\n",
      "EmpLegCoid                  0\n",
      "EmpLocationDesc             0\n",
      "facility_city               0\n",
      "facility_state              0\n",
      "facility_zip                0\n",
      "EmpDepartment               0\n",
      "EmpDepartmentName           0\n",
      "EmpPositionDesc             0\n",
      "MgrName                 18952\n",
      "MgrTitle                  231\n",
      "Mgr34Id                 18952\n",
      "EmpAnnivDate                0\n",
      "EmpPositionIsSuper          0\n",
      "EmpRNExperienceDate    149072\n",
      "dtype: int64\n"
     ]
    }
   ],
   "source": [
    "print(file.isnull().sum())  # Shows count of missing values per column"
   ]
  },
  {
   "cell_type": "code",
   "execution_count": 157,
   "id": "5ef065cc-349d-4ec3-9255-76615624cd7b",
   "metadata": {},
   "outputs": [
    {
     "data": {
      "text/html": [
       "<div>\n",
       "<style scoped>\n",
       "    .dataframe tbody tr th:only-of-type {\n",
       "        vertical-align: middle;\n",
       "    }\n",
       "\n",
       "    .dataframe tbody tr th {\n",
       "        vertical-align: top;\n",
       "    }\n",
       "\n",
       "    .dataframe thead th {\n",
       "        text-align: right;\n",
       "    }\n",
       "</style>\n",
       "<table border=\"1\" class=\"dataframe\">\n",
       "  <thead>\n",
       "    <tr style=\"text-align: right;\">\n",
       "      <th></th>\n",
       "      <th>Emp34Id</th>\n",
       "      <th>EmpLastName</th>\n",
       "      <th>EmpFirstName</th>\n",
       "      <th>EmpProcessLevelDesc</th>\n",
       "      <th>EmpLegCoid</th>\n",
       "      <th>EmpLocationDesc</th>\n",
       "      <th>facility_city</th>\n",
       "      <th>facility_state</th>\n",
       "      <th>facility_zip</th>\n",
       "      <th>EmpDepartment</th>\n",
       "      <th>EmpDepartmentName</th>\n",
       "      <th>EmpPositionDesc</th>\n",
       "      <th>MgrName</th>\n",
       "      <th>MgrTitle</th>\n",
       "      <th>Mgr34Id</th>\n",
       "      <th>EmpAnnivDate</th>\n",
       "      <th>EmpPositionIsSuper</th>\n",
       "      <th>EmpRNExperienceDate</th>\n",
       "    </tr>\n",
       "  </thead>\n",
       "  <tbody>\n",
       "    <tr>\n",
       "      <th>55117</th>\n",
       "      <td>638f0e74-7ce9-4947-9eb3-e711d485ab61</td>\n",
       "      <td>Stroman</td>\n",
       "      <td>Fsed</td>\n",
       "      <td>HCA Houston Med Ctr</td>\n",
       "      <td>26925</td>\n",
       "      <td>HCA Houston Med Ctr</td>\n",
       "      <td>Houston</td>\n",
       "      <td>TX</td>\n",
       "      <td>77004</td>\n",
       "      <td>65377</td>\n",
       "      <td>CVICU</td>\n",
       "      <td>RN ECMO Specialist</td>\n",
       "      <td>NaN</td>\n",
       "      <td>NaN</td>\n",
       "      <td>NaN</td>\n",
       "      <td>2019-08-19</td>\n",
       "      <td>False</td>\n",
       "      <td>NaT</td>\n",
       "    </tr>\n",
       "  </tbody>\n",
       "</table>\n",
       "</div>"
      ],
      "text/plain": [
       "                                    Emp34Id EmpLastName EmpFirstName  \\\n",
       "55117  638f0e74-7ce9-4947-9eb3-e711d485ab61     Stroman         Fsed   \n",
       "\n",
       "       EmpProcessLevelDesc  EmpLegCoid      EmpLocationDesc facility_city  \\\n",
       "55117  HCA Houston Med Ctr       26925  HCA Houston Med Ctr       Houston   \n",
       "\n",
       "      facility_state facility_zip EmpDepartment EmpDepartmentName  \\\n",
       "55117             TX        77004         65377             CVICU   \n",
       "\n",
       "          EmpPositionDesc MgrName MgrTitle Mgr34Id EmpAnnivDate  \\\n",
       "55117  RN ECMO Specialist     NaN      NaN     NaN   2019-08-19   \n",
       "\n",
       "       EmpPositionIsSuper EmpRNExperienceDate  \n",
       "55117               False                 NaT  "
      ]
     },
     "metadata": {},
     "output_type": "display_data"
    }
   ],
   "source": [
    "row = file.query('EmpFirstName == \"Fsed\" and EmpLastName == \"Stroman\"')\n",
    "display(row.head())  "
   ]
  },
  {
   "cell_type": "code",
   "execution_count": 158,
   "id": "197722c7-09e2-4132-a8b0-910edb3bd1e6",
   "metadata": {},
   "outputs": [
    {
     "name": "stdout",
     "output_type": "stream",
     "text": [
      "19\n"
     ]
    }
   ],
   "source": [
    "print(file[\"facility_state\"].nunique())"
   ]
  },
  {
   "cell_type": "code",
   "execution_count": 159,
   "id": "42e2d755-4995-4940-9d6a-856e89d8fd3e",
   "metadata": {},
   "outputs": [
    {
     "data": {
      "text/html": [
       "<div>\n",
       "<style scoped>\n",
       "    .dataframe tbody tr th:only-of-type {\n",
       "        vertical-align: middle;\n",
       "    }\n",
       "\n",
       "    .dataframe tbody tr th {\n",
       "        vertical-align: top;\n",
       "    }\n",
       "\n",
       "    .dataframe thead th {\n",
       "        text-align: right;\n",
       "    }\n",
       "</style>\n",
       "<table border=\"1\" class=\"dataframe\">\n",
       "  <thead>\n",
       "    <tr style=\"text-align: right;\">\n",
       "      <th></th>\n",
       "      <th>Total Employees</th>\n",
       "      <th>RN Employees</th>\n",
       "      <th>% of RN in State</th>\n",
       "    </tr>\n",
       "    <tr>\n",
       "      <th>facility_state</th>\n",
       "      <th></th>\n",
       "      <th></th>\n",
       "      <th></th>\n",
       "    </tr>\n",
       "  </thead>\n",
       "  <tbody>\n",
       "    <tr>\n",
       "      <th>CA</th>\n",
       "      <td>7543</td>\n",
       "      <td>3165</td>\n",
       "      <td>41.959433</td>\n",
       "    </tr>\n",
       "    <tr>\n",
       "      <th>NV</th>\n",
       "      <td>8050</td>\n",
       "      <td>3347</td>\n",
       "      <td>41.577640</td>\n",
       "    </tr>\n",
       "    <tr>\n",
       "      <th>AK</th>\n",
       "      <td>1053</td>\n",
       "      <td>434</td>\n",
       "      <td>41.215575</td>\n",
       "    </tr>\n",
       "    <tr>\n",
       "      <th>TX</th>\n",
       "      <td>65261</td>\n",
       "      <td>26100</td>\n",
       "      <td>39.993258</td>\n",
       "    </tr>\n",
       "    <tr>\n",
       "      <th>GA</th>\n",
       "      <td>7396</td>\n",
       "      <td>2919</td>\n",
       "      <td>39.467280</td>\n",
       "    </tr>\n",
       "    <tr>\n",
       "      <th>UT</th>\n",
       "      <td>5658</td>\n",
       "      <td>2187</td>\n",
       "      <td>38.653234</td>\n",
       "    </tr>\n",
       "    <tr>\n",
       "      <th>FL</th>\n",
       "      <td>68217</td>\n",
       "      <td>26041</td>\n",
       "      <td>38.173769</td>\n",
       "    </tr>\n",
       "    <tr>\n",
       "      <th>CO</th>\n",
       "      <td>10080</td>\n",
       "      <td>3788</td>\n",
       "      <td>37.579365</td>\n",
       "    </tr>\n",
       "    <tr>\n",
       "      <th>KS</th>\n",
       "      <td>6008</td>\n",
       "      <td>2219</td>\n",
       "      <td>36.934088</td>\n",
       "    </tr>\n",
       "    <tr>\n",
       "      <th>ID</th>\n",
       "      <td>2004</td>\n",
       "      <td>735</td>\n",
       "      <td>36.676647</td>\n",
       "    </tr>\n",
       "    <tr>\n",
       "      <th>SC</th>\n",
       "      <td>5505</td>\n",
       "      <td>1987</td>\n",
       "      <td>36.094460</td>\n",
       "    </tr>\n",
       "    <tr>\n",
       "      <th>KY</th>\n",
       "      <td>1265</td>\n",
       "      <td>433</td>\n",
       "      <td>34.229249</td>\n",
       "    </tr>\n",
       "    <tr>\n",
       "      <th>NH</th>\n",
       "      <td>4568</td>\n",
       "      <td>1546</td>\n",
       "      <td>33.844133</td>\n",
       "    </tr>\n",
       "    <tr>\n",
       "      <th>MO</th>\n",
       "      <td>3345</td>\n",
       "      <td>1108</td>\n",
       "      <td>33.124066</td>\n",
       "    </tr>\n",
       "    <tr>\n",
       "      <th>NC</th>\n",
       "      <td>6457</td>\n",
       "      <td>2096</td>\n",
       "      <td>32.460895</td>\n",
       "    </tr>\n",
       "    <tr>\n",
       "      <th>IN</th>\n",
       "      <td>587</td>\n",
       "      <td>187</td>\n",
       "      <td>31.856899</td>\n",
       "    </tr>\n",
       "    <tr>\n",
       "      <th>VA</th>\n",
       "      <td>18413</td>\n",
       "      <td>5823</td>\n",
       "      <td>31.624396</td>\n",
       "    </tr>\n",
       "    <tr>\n",
       "      <th>TN</th>\n",
       "      <td>15287</td>\n",
       "      <td>4582</td>\n",
       "      <td>29.973180</td>\n",
       "    </tr>\n",
       "    <tr>\n",
       "      <th>LA</th>\n",
       "      <td>1523</td>\n",
       "      <td>451</td>\n",
       "      <td>29.612607</td>\n",
       "    </tr>\n",
       "  </tbody>\n",
       "</table>\n",
       "</div>"
      ],
      "text/plain": [
       "                Total Employees  RN Employees  % of RN in State\n",
       "facility_state                                                 \n",
       "CA                         7543          3165         41.959433\n",
       "NV                         8050          3347         41.577640\n",
       "AK                         1053           434         41.215575\n",
       "TX                        65261         26100         39.993258\n",
       "GA                         7396          2919         39.467280\n",
       "UT                         5658          2187         38.653234\n",
       "FL                        68217         26041         38.173769\n",
       "CO                        10080          3788         37.579365\n",
       "KS                         6008          2219         36.934088\n",
       "ID                         2004           735         36.676647\n",
       "SC                         5505          1987         36.094460\n",
       "KY                         1265           433         34.229249\n",
       "NH                         4568          1546         33.844133\n",
       "MO                         3345          1108         33.124066\n",
       "NC                         6457          2096         32.460895\n",
       "IN                          587           187         31.856899\n",
       "VA                        18413          5823         31.624396\n",
       "TN                        15287          4582         29.973180\n",
       "LA                         1523           451         29.612607"
      ]
     },
     "metadata": {},
     "output_type": "display_data"
    }
   ],
   "source": [
    "\n",
    "# count total employees per state\n",
    "total_employees = file.groupby(\"facility_state\", observed=True)[\"Emp34Id\"].count()\n",
    "\n",
    "# count only RN employees (where EmpRNExperienceDate is NOT NaT)\n",
    "rn_counts = file[file[\"EmpRNExperienceDate\"].notna()].groupby(\"facility_state\", observed=True)[\"Emp34Id\"].count()\n",
    "\n",
    "# merge into a single df\n",
    "rn_summary = pd.DataFrame({\n",
    "    \"Total Employees\": total_employees,\n",
    "    \"RN Employees\": rn_counts\n",
    "})\n",
    "\n",
    "# percentage of RNs per state\n",
    "rn_summary[\"% of RN in State\"] = (rn_summary[\"RN Employees\"] / rn_summary[\"Total Employees\"]) * 100\n",
    "\n",
    "# sort by percentage of RNs (descending)\n",
    "rn_summary = rn_summary.sort_values(by=\"% of RN in State\", ascending=False)\n",
    "\n",
    "\n",
    "display(rn_summary.head(19))"
   ]
  },
  {
   "cell_type": "code",
   "execution_count": 160,
   "id": "1f9df3aa-3845-45ac-9b71-7b18f70a1bd5",
   "metadata": {},
   "outputs": [
    {
     "name": "stderr",
     "output_type": "stream",
     "text": [
      "/var/folders/9p/ps1qpy4n2jx7h5tvpztxhjkc0000gn/T/ipykernel_36555/3382611579.py:2: DtypeWarning:\n",
      "\n",
      "Columns (21) have mixed types. Specify dtype option on import or set low_memory=False.\n",
      "\n"
     ]
    },
    {
     "data": {
      "text/html": [
       "<div>\n",
       "<style scoped>\n",
       "    .dataframe tbody tr th:only-of-type {\n",
       "        vertical-align: middle;\n",
       "    }\n",
       "\n",
       "    .dataframe tbody tr th {\n",
       "        vertical-align: top;\n",
       "    }\n",
       "\n",
       "    .dataframe thead th {\n",
       "        text-align: right;\n",
       "    }\n",
       "</style>\n",
       "<table border=\"1\" class=\"dataframe\">\n",
       "  <thead>\n",
       "    <tr style=\"text-align: right;\">\n",
       "      <th></th>\n",
       "      <th>femaDeclarationString</th>\n",
       "      <th>disasterNumber</th>\n",
       "      <th>state</th>\n",
       "      <th>declarationType</th>\n",
       "      <th>declarationDate</th>\n",
       "      <th>fyDeclared</th>\n",
       "      <th>incidentType</th>\n",
       "      <th>declarationTitle</th>\n",
       "      <th>ihProgramDeclared</th>\n",
       "      <th>iaProgramDeclared</th>\n",
       "      <th>...</th>\n",
       "      <th>placeCode</th>\n",
       "      <th>designatedArea</th>\n",
       "      <th>declarationRequestNumber</th>\n",
       "      <th>lastIAFilingDate</th>\n",
       "      <th>incidentId</th>\n",
       "      <th>region</th>\n",
       "      <th>designatedIncidentTypes</th>\n",
       "      <th>lastRefresh</th>\n",
       "      <th>hash</th>\n",
       "      <th>id</th>\n",
       "    </tr>\n",
       "  </thead>\n",
       "  <tbody>\n",
       "    <tr>\n",
       "      <th>0</th>\n",
       "      <td>FM-5529-OR</td>\n",
       "      <td>5529</td>\n",
       "      <td>OR</td>\n",
       "      <td>FM</td>\n",
       "      <td>2024-08-09T00:00:00.000Z</td>\n",
       "      <td>2024</td>\n",
       "      <td>Fire</td>\n",
       "      <td>LEE FALLS FIRE</td>\n",
       "      <td>0</td>\n",
       "      <td>0</td>\n",
       "      <td>...</td>\n",
       "      <td>99067</td>\n",
       "      <td>Washington (County)</td>\n",
       "      <td>24122</td>\n",
       "      <td>NaN</td>\n",
       "      <td>2024081001</td>\n",
       "      <td>10</td>\n",
       "      <td>R</td>\n",
       "      <td>2024-08-27T18:22:14.800Z</td>\n",
       "      <td>ae87cf3c6ed795015b714af7166c7c295b2b67c7</td>\n",
       "      <td>09e3f81a-5e16-4b72-b317-1c64e0cfa59c</td>\n",
       "    </tr>\n",
       "    <tr>\n",
       "      <th>1</th>\n",
       "      <td>FM-5528-OR</td>\n",
       "      <td>5528</td>\n",
       "      <td>OR</td>\n",
       "      <td>FM</td>\n",
       "      <td>2024-08-06T00:00:00.000Z</td>\n",
       "      <td>2024</td>\n",
       "      <td>Fire</td>\n",
       "      <td>ELK LANE FIRE</td>\n",
       "      <td>0</td>\n",
       "      <td>0</td>\n",
       "      <td>...</td>\n",
       "      <td>99031</td>\n",
       "      <td>Jefferson (County)</td>\n",
       "      <td>24116</td>\n",
       "      <td>NaN</td>\n",
       "      <td>2024080701</td>\n",
       "      <td>10</td>\n",
       "      <td>R</td>\n",
       "      <td>2024-08-27T18:22:14.800Z</td>\n",
       "      <td>432cf0995c47e3895cea696ede5621b810460501</td>\n",
       "      <td>59983f89-30bf-4888-b21b-62e8d57d9aac</td>\n",
       "    </tr>\n",
       "    <tr>\n",
       "      <th>2</th>\n",
       "      <td>FM-5527-OR</td>\n",
       "      <td>5527</td>\n",
       "      <td>OR</td>\n",
       "      <td>FM</td>\n",
       "      <td>2024-08-02T00:00:00.000Z</td>\n",
       "      <td>2024</td>\n",
       "      <td>Fire</td>\n",
       "      <td>MILE MARKER 132 FIRE</td>\n",
       "      <td>0</td>\n",
       "      <td>0</td>\n",
       "      <td>...</td>\n",
       "      <td>99017</td>\n",
       "      <td>Deschutes (County)</td>\n",
       "      <td>24111</td>\n",
       "      <td>NaN</td>\n",
       "      <td>2024080301</td>\n",
       "      <td>10</td>\n",
       "      <td>R</td>\n",
       "      <td>2024-08-27T18:22:14.800Z</td>\n",
       "      <td>2f21d90cb6bc64b0d4121aa3f18d852bbb4b11fa</td>\n",
       "      <td>8d13ecf0-bc2f-496b-8c9f-b2e73da832a0</td>\n",
       "    </tr>\n",
       "    <tr>\n",
       "      <th>3</th>\n",
       "      <td>FM-5521-WA</td>\n",
       "      <td>5521</td>\n",
       "      <td>WA</td>\n",
       "      <td>FM</td>\n",
       "      <td>2024-07-26T00:00:00.000Z</td>\n",
       "      <td>2024</td>\n",
       "      <td>Fire</td>\n",
       "      <td>RETREAT FIRE</td>\n",
       "      <td>0</td>\n",
       "      <td>0</td>\n",
       "      <td>...</td>\n",
       "      <td>99077</td>\n",
       "      <td>Yakima (County)</td>\n",
       "      <td>24098</td>\n",
       "      <td>NaN</td>\n",
       "      <td>2024072601</td>\n",
       "      <td>10</td>\n",
       "      <td>R</td>\n",
       "      <td>2024-08-27T18:22:14.800Z</td>\n",
       "      <td>e205f5a4b56cadd811661c07fc8a8143b6c8c604</td>\n",
       "      <td>bc02a243-2458-4af3-84e3-b9928bd1d41d</td>\n",
       "    </tr>\n",
       "    <tr>\n",
       "      <th>4</th>\n",
       "      <td>FM-5520-ID</td>\n",
       "      <td>5520</td>\n",
       "      <td>ID</td>\n",
       "      <td>FM</td>\n",
       "      <td>2024-07-26T00:00:00.000Z</td>\n",
       "      <td>2024</td>\n",
       "      <td>Fire</td>\n",
       "      <td>GWEN FIRE</td>\n",
       "      <td>0</td>\n",
       "      <td>0</td>\n",
       "      <td>...</td>\n",
       "      <td>57340</td>\n",
       "      <td>Nez Perce Indian Reservation</td>\n",
       "      <td>24099</td>\n",
       "      <td>NaN</td>\n",
       "      <td>2024072602</td>\n",
       "      <td>10</td>\n",
       "      <td>R</td>\n",
       "      <td>2024-08-27T18:22:14.800Z</td>\n",
       "      <td>ba084caa4ee18c9c0c4383346e7669d4af4ab9b7</td>\n",
       "      <td>85cccdec-5e22-436f-a3e7-acd7340172cf</td>\n",
       "    </tr>\n",
       "  </tbody>\n",
       "</table>\n",
       "<p>5 rows × 28 columns</p>\n",
       "</div>"
      ],
      "text/plain": [
       "  femaDeclarationString  disasterNumber state declarationType  \\\n",
       "0            FM-5529-OR            5529    OR              FM   \n",
       "1            FM-5528-OR            5528    OR              FM   \n",
       "2            FM-5527-OR            5527    OR              FM   \n",
       "3            FM-5521-WA            5521    WA              FM   \n",
       "4            FM-5520-ID            5520    ID              FM   \n",
       "\n",
       "            declarationDate  fyDeclared incidentType      declarationTitle  \\\n",
       "0  2024-08-09T00:00:00.000Z        2024         Fire        LEE FALLS FIRE   \n",
       "1  2024-08-06T00:00:00.000Z        2024         Fire         ELK LANE FIRE   \n",
       "2  2024-08-02T00:00:00.000Z        2024         Fire  MILE MARKER 132 FIRE   \n",
       "3  2024-07-26T00:00:00.000Z        2024         Fire          RETREAT FIRE   \n",
       "4  2024-07-26T00:00:00.000Z        2024         Fire             GWEN FIRE   \n",
       "\n",
       "   ihProgramDeclared  iaProgramDeclared  ...  placeCode  \\\n",
       "0                  0                  0  ...      99067   \n",
       "1                  0                  0  ...      99031   \n",
       "2                  0                  0  ...      99017   \n",
       "3                  0                  0  ...      99077   \n",
       "4                  0                  0  ...      57340   \n",
       "\n",
       "                 designatedArea declarationRequestNumber lastIAFilingDate  \\\n",
       "0           Washington (County)                    24122              NaN   \n",
       "1            Jefferson (County)                    24116              NaN   \n",
       "2            Deschutes (County)                    24111              NaN   \n",
       "3               Yakima (County)                    24098              NaN   \n",
       "4  Nez Perce Indian Reservation                    24099              NaN   \n",
       "\n",
       "   incidentId  region  designatedIncidentTypes               lastRefresh  \\\n",
       "0  2024081001      10                        R  2024-08-27T18:22:14.800Z   \n",
       "1  2024080701      10                        R  2024-08-27T18:22:14.800Z   \n",
       "2  2024080301      10                        R  2024-08-27T18:22:14.800Z   \n",
       "3  2024072601      10                        R  2024-08-27T18:22:14.800Z   \n",
       "4  2024072602      10                        R  2024-08-27T18:22:14.800Z   \n",
       "\n",
       "                                       hash  \\\n",
       "0  ae87cf3c6ed795015b714af7166c7c295b2b67c7   \n",
       "1  432cf0995c47e3895cea696ede5621b810460501   \n",
       "2  2f21d90cb6bc64b0d4121aa3f18d852bbb4b11fa   \n",
       "3  e205f5a4b56cadd811661c07fc8a8143b6c8c604   \n",
       "4  ba084caa4ee18c9c0c4383346e7669d4af4ab9b7   \n",
       "\n",
       "                                     id  \n",
       "0  09e3f81a-5e16-4b72-b317-1c64e0cfa59c  \n",
       "1  59983f89-30bf-4888-b21b-62e8d57d9aac  \n",
       "2  8d13ecf0-bc2f-496b-8c9f-b2e73da832a0  \n",
       "3  bc02a243-2458-4af3-84e3-b9928bd1d41d  \n",
       "4  85cccdec-5e22-436f-a3e7-acd7340172cf  \n",
       "\n",
       "[5 rows x 28 columns]"
      ]
     },
     "execution_count": 160,
     "metadata": {},
     "output_type": "execute_result"
    }
   ],
   "source": [
    "# loading in fema data (DETERMINING HIGH RISK AREAS)\n",
    "fema_data = pd.read_csv(r\"/Users/anikarzzk/Downloads/DisasterDeclarationsSummaries.csv\")\n",
    "fema_data.head()\n"
   ]
  },
  {
   "cell_type": "code",
   "execution_count": 162,
   "id": "d0f3faec-68ac-4757-a01e-9c26cbd9489b",
   "metadata": {},
   "outputs": [
    {
     "data": {
      "text/html": [
       "<div>\n",
       "<style scoped>\n",
       "    .dataframe tbody tr th:only-of-type {\n",
       "        vertical-align: middle;\n",
       "    }\n",
       "\n",
       "    .dataframe tbody tr th {\n",
       "        vertical-align: top;\n",
       "    }\n",
       "\n",
       "    .dataframe thead th {\n",
       "        text-align: right;\n",
       "    }\n",
       "</style>\n",
       "<table border=\"1\" class=\"dataframe\">\n",
       "  <thead>\n",
       "    <tr style=\"text-align: right;\">\n",
       "      <th></th>\n",
       "      <th>state</th>\n",
       "      <th>declarationDate</th>\n",
       "      <th>incidentType</th>\n",
       "      <th>disasterNumber</th>\n",
       "      <th>incidentBeginDate</th>\n",
       "      <th>incidentEndDate</th>\n",
       "      <th>declarationType</th>\n",
       "      <th>paProgramDeclared</th>\n",
       "      <th>iaProgramDeclared</th>\n",
       "      <th>designatedArea</th>\n",
       "    </tr>\n",
       "  </thead>\n",
       "  <tbody>\n",
       "    <tr>\n",
       "      <th>0</th>\n",
       "      <td>OR</td>\n",
       "      <td>2024-08-09T00:00:00.000Z</td>\n",
       "      <td>Fire</td>\n",
       "      <td>5529</td>\n",
       "      <td>2024-08-08T00:00:00.000Z</td>\n",
       "      <td>NaN</td>\n",
       "      <td>FM</td>\n",
       "      <td>1</td>\n",
       "      <td>0</td>\n",
       "      <td>Washington (County)</td>\n",
       "    </tr>\n",
       "    <tr>\n",
       "      <th>1</th>\n",
       "      <td>OR</td>\n",
       "      <td>2024-08-06T00:00:00.000Z</td>\n",
       "      <td>Fire</td>\n",
       "      <td>5528</td>\n",
       "      <td>2024-08-04T00:00:00.000Z</td>\n",
       "      <td>NaN</td>\n",
       "      <td>FM</td>\n",
       "      <td>1</td>\n",
       "      <td>0</td>\n",
       "      <td>Jefferson (County)</td>\n",
       "    </tr>\n",
       "    <tr>\n",
       "      <th>2</th>\n",
       "      <td>OR</td>\n",
       "      <td>2024-08-02T00:00:00.000Z</td>\n",
       "      <td>Fire</td>\n",
       "      <td>5527</td>\n",
       "      <td>2024-08-02T00:00:00.000Z</td>\n",
       "      <td>NaN</td>\n",
       "      <td>FM</td>\n",
       "      <td>1</td>\n",
       "      <td>0</td>\n",
       "      <td>Deschutes (County)</td>\n",
       "    </tr>\n",
       "    <tr>\n",
       "      <th>3</th>\n",
       "      <td>WA</td>\n",
       "      <td>2024-07-26T00:00:00.000Z</td>\n",
       "      <td>Fire</td>\n",
       "      <td>5521</td>\n",
       "      <td>2024-07-23T00:00:00.000Z</td>\n",
       "      <td>NaN</td>\n",
       "      <td>FM</td>\n",
       "      <td>1</td>\n",
       "      <td>0</td>\n",
       "      <td>Yakima (County)</td>\n",
       "    </tr>\n",
       "    <tr>\n",
       "      <th>4</th>\n",
       "      <td>ID</td>\n",
       "      <td>2024-07-26T00:00:00.000Z</td>\n",
       "      <td>Fire</td>\n",
       "      <td>5520</td>\n",
       "      <td>2024-07-25T00:00:00.000Z</td>\n",
       "      <td>NaN</td>\n",
       "      <td>FM</td>\n",
       "      <td>1</td>\n",
       "      <td>0</td>\n",
       "      <td>Nez Perce Indian Reservation</td>\n",
       "    </tr>\n",
       "  </tbody>\n",
       "</table>\n",
       "</div>"
      ],
      "text/plain": [
       "  state           declarationDate incidentType  disasterNumber  \\\n",
       "0    OR  2024-08-09T00:00:00.000Z         Fire            5529   \n",
       "1    OR  2024-08-06T00:00:00.000Z         Fire            5528   \n",
       "2    OR  2024-08-02T00:00:00.000Z         Fire            5527   \n",
       "3    WA  2024-07-26T00:00:00.000Z         Fire            5521   \n",
       "4    ID  2024-07-26T00:00:00.000Z         Fire            5520   \n",
       "\n",
       "          incidentBeginDate incidentEndDate declarationType  \\\n",
       "0  2024-08-08T00:00:00.000Z             NaN              FM   \n",
       "1  2024-08-04T00:00:00.000Z             NaN              FM   \n",
       "2  2024-08-02T00:00:00.000Z             NaN              FM   \n",
       "3  2024-07-23T00:00:00.000Z             NaN              FM   \n",
       "4  2024-07-25T00:00:00.000Z             NaN              FM   \n",
       "\n",
       "   paProgramDeclared  iaProgramDeclared                designatedArea  \n",
       "0                  1                  0           Washington (County)  \n",
       "1                  1                  0            Jefferson (County)  \n",
       "2                  1                  0            Deschutes (County)  \n",
       "3                  1                  0               Yakima (County)  \n",
       "4                  1                  0  Nez Perce Indian Reservation  "
      ]
     },
     "execution_count": 162,
     "metadata": {},
     "output_type": "execute_result"
    }
   ],
   "source": [
    "fema_cleaned = fema_data[[\n",
    "    \"state\", \"declarationDate\", \"incidentType\", \"disasterNumber\", \n",
    "    \"incidentBeginDate\", \"incidentEndDate\", \"declarationType\",\n",
    "    \"paProgramDeclared\", \"iaProgramDeclared\", \"designatedArea\"\n",
    "]]\n",
    "fema_cleaned.head()"
   ]
  },
  {
   "cell_type": "code",
   "execution_count": 176,
   "id": "820b3911-28ce-42a3-91ba-12e75d302a45",
   "metadata": {},
   "outputs": [],
   "source": [
    "# rename 'state' column to match HCA dataset\n",
    "fema_cleaned = fema_cleaned.rename(columns={\"state\": \"facility_state\"})"
   ]
  },
  {
   "cell_type": "code",
   "execution_count": 179,
   "id": "bf04166d-96eb-4318-94a5-62b6c3178da1",
   "metadata": {},
   "outputs": [],
   "source": [
    "fema_cleaned[\"declarationDate\"] = pd.to_datetime(fema_cleaned[\"declarationDate\"])\n",
    "fema_cleaned[\"incidentBeginDate\"] = pd.to_datetime(fema_cleaned[\"incidentBeginDate\"])\n",
    "fema_cleaned[\"incidentEndDate\"] = pd.to_datetime(fema_cleaned[\"incidentEndDate\"])"
   ]
  },
  {
   "cell_type": "code",
   "execution_count": 180,
   "id": "62e12b29-7e96-49bc-b9e8-1b04de8f6ba2",
   "metadata": {},
   "outputs": [
    {
     "data": {
      "text/html": [
       "<div>\n",
       "<style scoped>\n",
       "    .dataframe tbody tr th:only-of-type {\n",
       "        vertical-align: middle;\n",
       "    }\n",
       "\n",
       "    .dataframe tbody tr th {\n",
       "        vertical-align: top;\n",
       "    }\n",
       "\n",
       "    .dataframe thead th {\n",
       "        text-align: right;\n",
       "    }\n",
       "</style>\n",
       "<table border=\"1\" class=\"dataframe\">\n",
       "  <thead>\n",
       "    <tr style=\"text-align: right;\">\n",
       "      <th></th>\n",
       "      <th>facility_state</th>\n",
       "      <th>declarationDate</th>\n",
       "      <th>incidentType</th>\n",
       "      <th>disasterNumber</th>\n",
       "      <th>incidentBeginDate</th>\n",
       "      <th>incidentEndDate</th>\n",
       "      <th>declarationType</th>\n",
       "      <th>paProgramDeclared</th>\n",
       "      <th>iaProgramDeclared</th>\n",
       "      <th>designatedArea</th>\n",
       "    </tr>\n",
       "  </thead>\n",
       "  <tbody>\n",
       "    <tr>\n",
       "      <th>0</th>\n",
       "      <td>OR</td>\n",
       "      <td>2024-08-09 00:00:00+00:00</td>\n",
       "      <td>Fire</td>\n",
       "      <td>5529</td>\n",
       "      <td>2024-08-08 00:00:00+00:00</td>\n",
       "      <td>NaT</td>\n",
       "      <td>FM</td>\n",
       "      <td>1</td>\n",
       "      <td>0</td>\n",
       "      <td>Washington (County)</td>\n",
       "    </tr>\n",
       "    <tr>\n",
       "      <th>1</th>\n",
       "      <td>OR</td>\n",
       "      <td>2024-08-06 00:00:00+00:00</td>\n",
       "      <td>Fire</td>\n",
       "      <td>5528</td>\n",
       "      <td>2024-08-04 00:00:00+00:00</td>\n",
       "      <td>NaT</td>\n",
       "      <td>FM</td>\n",
       "      <td>1</td>\n",
       "      <td>0</td>\n",
       "      <td>Jefferson (County)</td>\n",
       "    </tr>\n",
       "    <tr>\n",
       "      <th>2</th>\n",
       "      <td>OR</td>\n",
       "      <td>2024-08-02 00:00:00+00:00</td>\n",
       "      <td>Fire</td>\n",
       "      <td>5527</td>\n",
       "      <td>2024-08-02 00:00:00+00:00</td>\n",
       "      <td>NaT</td>\n",
       "      <td>FM</td>\n",
       "      <td>1</td>\n",
       "      <td>0</td>\n",
       "      <td>Deschutes (County)</td>\n",
       "    </tr>\n",
       "    <tr>\n",
       "      <th>3</th>\n",
       "      <td>WA</td>\n",
       "      <td>2024-07-26 00:00:00+00:00</td>\n",
       "      <td>Fire</td>\n",
       "      <td>5521</td>\n",
       "      <td>2024-07-23 00:00:00+00:00</td>\n",
       "      <td>NaT</td>\n",
       "      <td>FM</td>\n",
       "      <td>1</td>\n",
       "      <td>0</td>\n",
       "      <td>Yakima (County)</td>\n",
       "    </tr>\n",
       "    <tr>\n",
       "      <th>4</th>\n",
       "      <td>ID</td>\n",
       "      <td>2024-07-26 00:00:00+00:00</td>\n",
       "      <td>Fire</td>\n",
       "      <td>5520</td>\n",
       "      <td>2024-07-25 00:00:00+00:00</td>\n",
       "      <td>NaT</td>\n",
       "      <td>FM</td>\n",
       "      <td>1</td>\n",
       "      <td>0</td>\n",
       "      <td>Nez Perce Indian Reservation</td>\n",
       "    </tr>\n",
       "  </tbody>\n",
       "</table>\n",
       "</div>"
      ],
      "text/plain": [
       "  facility_state           declarationDate incidentType  disasterNumber  \\\n",
       "0             OR 2024-08-09 00:00:00+00:00         Fire            5529   \n",
       "1             OR 2024-08-06 00:00:00+00:00         Fire            5528   \n",
       "2             OR 2024-08-02 00:00:00+00:00         Fire            5527   \n",
       "3             WA 2024-07-26 00:00:00+00:00         Fire            5521   \n",
       "4             ID 2024-07-26 00:00:00+00:00         Fire            5520   \n",
       "\n",
       "          incidentBeginDate incidentEndDate declarationType  \\\n",
       "0 2024-08-08 00:00:00+00:00             NaT              FM   \n",
       "1 2024-08-04 00:00:00+00:00             NaT              FM   \n",
       "2 2024-08-02 00:00:00+00:00             NaT              FM   \n",
       "3 2024-07-23 00:00:00+00:00             NaT              FM   \n",
       "4 2024-07-25 00:00:00+00:00             NaT              FM   \n",
       "\n",
       "   paProgramDeclared  iaProgramDeclared                designatedArea  \n",
       "0                  1                  0           Washington (County)  \n",
       "1                  1                  0            Jefferson (County)  \n",
       "2                  1                  0            Deschutes (County)  \n",
       "3                  1                  0               Yakima (County)  \n",
       "4                  1                  0  Nez Perce Indian Reservation  "
      ]
     },
     "execution_count": 180,
     "metadata": {},
     "output_type": "execute_result"
    }
   ],
   "source": [
    "fema_cleaned.head()"
   ]
  },
  {
   "cell_type": "code",
   "execution_count": 182,
   "id": "83b3b9a8-a20f-4e57-a695-7c134ad67a08",
   "metadata": {},
   "outputs": [
    {
     "name": "stdout",
     "output_type": "stream",
     "text": [
      "   facility_state  fema_disaster_count\n",
      "0              AK                  339\n",
      "1              AL                 1742\n",
      "2              AR                 1624\n",
      "3              AS                   76\n",
      "4              AZ                  344\n",
      "5              CA                 1684\n",
      "6              CO                  664\n",
      "7              CT                  266\n",
      "8              DC                   23\n",
      "9              DE                   53\n",
      "10             FL                 2791\n",
      "11             FM                   31\n",
      "12             GA                 2653\n",
      "13             GU                   22\n",
      "14             HI                  108\n",
      "15             IA                 1922\n",
      "16             ID                  369\n",
      "17             IL                 1313\n",
      "18             IN                 1464\n",
      "19             KS                 1842\n",
      "20             KY                 2796\n",
      "21             LA                 2589\n",
      "22             MA                  414\n",
      "23             MD                  447\n",
      "24             ME                 1065\n",
      "25             MH                   53\n",
      "26             MI                  805\n",
      "27             MN                 1621\n",
      "28             MO                 2764\n",
      "29             MP                   76\n",
      "30             MS                 1945\n",
      "31             MT                  641\n",
      "32             NC                 2317\n",
      "33             ND                 1397\n",
      "34             NE                 1541\n",
      "35             NH                  320\n",
      "36             NJ                  626\n",
      "37             NM                  531\n",
      "38             NV                  286\n",
      "39             NY                 1537\n",
      "40             OH                 1292\n",
      "41             OK                 2546\n",
      "42             OR                  627\n",
      "43             PA                 1252\n",
      "44             PR                 2116\n",
      "45             PW                    1\n",
      "46             RI                  123\n",
      "47             SC                 1136\n",
      "48             SD                 1467\n",
      "49             TN                 1723\n",
      "50             TX                 5350\n",
      "51             UT                  255\n",
      "52             VA                 2585\n",
      "53             VI                   87\n",
      "54             VT                  405\n",
      "55             WA                 1015\n",
      "56             WI                  892\n",
      "57             WV                 1267\n",
      "58             WY                  135\n"
     ]
    }
   ],
   "source": [
    "# count total disaster occurrences per state\n",
    "fema_disasters = fema_cleaned.groupby(\"facility_state\")[\"disasterNumber\"].count().reset_index()\n",
    "fema_disasters.columns = [\"facility_state\", \"fema_disaster_count\"]\n",
    "\n",
    "# display disaster count by state\n",
    "print(fema_disasters)\n"
   ]
  },
  {
   "cell_type": "code",
   "execution_count": 185,
   "id": "5351a167-20bd-4594-90aa-0db5f7445bc5",
   "metadata": {},
   "outputs": [
    {
     "name": "stdout",
     "output_type": "stream",
     "text": [
      "   facility_state  fema_disaster_count\n",
      "0              AK                  339\n",
      "5              CA                 1684\n",
      "6              CO                  664\n",
      "10             FL                 2791\n",
      "12             GA                 2653\n",
      "16             ID                  369\n",
      "18             IN                 1464\n",
      "19             KS                 1842\n",
      "20             KY                 2796\n",
      "21             LA                 2589\n",
      "28             MO                 2764\n",
      "32             NC                 2317\n",
      "35             NH                  320\n",
      "38             NV                  286\n",
      "47             SC                 1136\n",
      "49             TN                 1723\n",
      "50             TX                 5350\n",
      "51             UT                  255\n",
      "52             VA                 2585\n"
     ]
    }
   ],
   "source": [
    "hca_states = [\n",
    "    \"CA\", \"NV\", \"AK\", \"TX\", \"GA\", \"UT\", \"FL\", \"CO\", \"KS\", \"ID\", \"SC\", \"KY\", \"NH\", \"MO\", \"NC\", \"IN\", \"VA\", \"TN\", \"LA\"\n",
    "]\n",
    "fema_filtered = fema_disasters[fema_disasters[\"facility_state\"].isin(hca_states)]\n",
    "print(fema_filtered)"
   ]
  },
  {
   "cell_type": "code",
   "execution_count": 188,
   "id": "9a060217-4075-409a-ba2a-2892e714beeb",
   "metadata": {},
   "outputs": [
    {
     "data": {
      "text/html": [
       "<div>\n",
       "<style scoped>\n",
       "    .dataframe tbody tr th:only-of-type {\n",
       "        vertical-align: middle;\n",
       "    }\n",
       "\n",
       "    .dataframe tbody tr th {\n",
       "        vertical-align: top;\n",
       "    }\n",
       "\n",
       "    .dataframe thead th {\n",
       "        text-align: right;\n",
       "    }\n",
       "</style>\n",
       "<table border=\"1\" class=\"dataframe\">\n",
       "  <thead>\n",
       "    <tr style=\"text-align: right;\">\n",
       "      <th></th>\n",
       "      <th>Emp34Id</th>\n",
       "      <th>EmpLastName</th>\n",
       "      <th>EmpFirstName</th>\n",
       "      <th>EmpProcessLevelDesc</th>\n",
       "      <th>EmpLegCoid</th>\n",
       "      <th>EmpLocationDesc</th>\n",
       "      <th>facility_city</th>\n",
       "      <th>facility_state</th>\n",
       "      <th>facility_zip</th>\n",
       "      <th>EmpDepartment</th>\n",
       "      <th>EmpDepartmentName</th>\n",
       "      <th>EmpPositionDesc</th>\n",
       "      <th>MgrName</th>\n",
       "      <th>MgrTitle</th>\n",
       "      <th>Mgr34Id</th>\n",
       "      <th>EmpAnnivDate</th>\n",
       "      <th>EmpPositionIsSuper</th>\n",
       "      <th>EmpRNExperienceDate</th>\n",
       "      <th>fema_disaster_count</th>\n",
       "    </tr>\n",
       "  </thead>\n",
       "  <tbody>\n",
       "    <tr>\n",
       "      <th>0</th>\n",
       "      <td>742ec4ef-20f8-420b-ae7e-2bfcffe55cae</td>\n",
       "      <td>Heaney</td>\n",
       "      <td>Bg-lynnezee</td>\n",
       "      <td>HCA Florida Pasadena Hospital</td>\n",
       "      <td>26536</td>\n",
       "      <td>HCA Florida Pasadena Hospital</td>\n",
       "      <td>Petersburg</td>\n",
       "      <td>FL</td>\n",
       "      <td>33707</td>\n",
       "      <td>75410</td>\n",
       "      <td>Respiratory Therapy</td>\n",
       "      <td>Supv Respiratory Therapy</td>\n",
       "      <td>Jahbari, Deckow</td>\n",
       "      <td>Dir Critical Care</td>\n",
       "      <td>9d39e232-d133-4ce4-bf6d-276cc5a7e364</td>\n",
       "      <td>2012-10-15</td>\n",
       "      <td>True</td>\n",
       "      <td>NaT</td>\n",
       "      <td>2791</td>\n",
       "    </tr>\n",
       "    <tr>\n",
       "      <th>1</th>\n",
       "      <td>509d3309-ebad-4a78-b0e0-e61824802ce0</td>\n",
       "      <td>Corwin</td>\n",
       "      <td>Amarda</td>\n",
       "      <td>Lawson Group - Officers</td>\n",
       "      <td>27610</td>\n",
       "      <td>Mission Hospital</td>\n",
       "      <td>Ashville</td>\n",
       "      <td>NC</td>\n",
       "      <td>28801</td>\n",
       "      <td>27610</td>\n",
       "      <td>Mission Hospital</td>\n",
       "      <td>CEO Mission Hospital</td>\n",
       "      <td>Derek, Kling</td>\n",
       "      <td>Div President North Carolina</td>\n",
       "      <td>65aecf22-f6fd-490d-9a2b-52c02e001790</td>\n",
       "      <td>2013-09-09</td>\n",
       "      <td>True</td>\n",
       "      <td>NaT</td>\n",
       "      <td>2317</td>\n",
       "    </tr>\n",
       "    <tr>\n",
       "      <th>2</th>\n",
       "      <td>35616aa4-c019-494a-bae1-fc749d87246b</td>\n",
       "      <td>Schultz</td>\n",
       "      <td>Jahmei</td>\n",
       "      <td>Swedish Medical Center</td>\n",
       "      <td>27100</td>\n",
       "      <td>Swedish Medical Center</td>\n",
       "      <td>Englewood</td>\n",
       "      <td>CO</td>\n",
       "      <td>80110</td>\n",
       "      <td>90217</td>\n",
       "      <td>Finance</td>\n",
       "      <td>Controller</td>\n",
       "      <td>Steven, Parisian</td>\n",
       "      <td>CFO</td>\n",
       "      <td>d72a0182-66af-4f1b-8e89-b2e26c361f78</td>\n",
       "      <td>2008-03-10</td>\n",
       "      <td>True</td>\n",
       "      <td>NaT</td>\n",
       "      <td>664</td>\n",
       "    </tr>\n",
       "    <tr>\n",
       "      <th>3</th>\n",
       "      <td>a8974b25-7330-4b16-b6b0-1e512cc93815</td>\n",
       "      <td>Lynch</td>\n",
       "      <td>Artur</td>\n",
       "      <td>Parkridge Medical Center</td>\n",
       "      <td>34224</td>\n",
       "      <td>Parkridge Medical Center</td>\n",
       "      <td>Chattanooga</td>\n",
       "      <td>TN</td>\n",
       "      <td>37404</td>\n",
       "      <td>78338</td>\n",
       "      <td>Employee Health</td>\n",
       "      <td>Mgr EE Health</td>\n",
       "      <td>NaN</td>\n",
       "      <td>Mkt VP HR</td>\n",
       "      <td>NaN</td>\n",
       "      <td>2006-08-28</td>\n",
       "      <td>True</td>\n",
       "      <td>1994-09-12</td>\n",
       "      <td>1723</td>\n",
       "    </tr>\n",
       "    <tr>\n",
       "      <th>4</th>\n",
       "      <td>10ae639a-e858-42fa-909f-60e8abba0787</td>\n",
       "      <td>Torphy</td>\n",
       "      <td>Tamand</td>\n",
       "      <td>Lawson IT&amp;S</td>\n",
       "      <td>26249</td>\n",
       "      <td>1100 MLK (Capitol View)</td>\n",
       "      <td>Nashville</td>\n",
       "      <td>TN</td>\n",
       "      <td>37203</td>\n",
       "      <td>650D2</td>\n",
       "      <td>HT IEO &amp; Shared Services</td>\n",
       "      <td>Mgr Integration</td>\n",
       "      <td>Kasmin, Hauck</td>\n",
       "      <td>Dir Integration Svcs</td>\n",
       "      <td>fb123e32-71a8-42a2-a46b-608b127e719e</td>\n",
       "      <td>2000-02-14</td>\n",
       "      <td>True</td>\n",
       "      <td>NaT</td>\n",
       "      <td>1723</td>\n",
       "    </tr>\n",
       "  </tbody>\n",
       "</table>\n",
       "</div>"
      ],
      "text/plain": [
       "                                Emp34Id EmpLastName EmpFirstName  \\\n",
       "0  742ec4ef-20f8-420b-ae7e-2bfcffe55cae      Heaney  Bg-lynnezee   \n",
       "1  509d3309-ebad-4a78-b0e0-e61824802ce0      Corwin       Amarda   \n",
       "2  35616aa4-c019-494a-bae1-fc749d87246b     Schultz       Jahmei   \n",
       "3  a8974b25-7330-4b16-b6b0-1e512cc93815       Lynch        Artur   \n",
       "4  10ae639a-e858-42fa-909f-60e8abba0787      Torphy       Tamand   \n",
       "\n",
       "             EmpProcessLevelDesc  EmpLegCoid                EmpLocationDesc  \\\n",
       "0  HCA Florida Pasadena Hospital       26536  HCA Florida Pasadena Hospital   \n",
       "1        Lawson Group - Officers       27610               Mission Hospital   \n",
       "2         Swedish Medical Center       27100         Swedish Medical Center   \n",
       "3       Parkridge Medical Center       34224       Parkridge Medical Center   \n",
       "4                    Lawson IT&S       26249        1100 MLK (Capitol View)   \n",
       "\n",
       "  facility_city facility_state facility_zip EmpDepartment  \\\n",
       "0    Petersburg             FL        33707         75410   \n",
       "1      Ashville             NC        28801         27610   \n",
       "2     Englewood             CO        80110         90217   \n",
       "3   Chattanooga             TN        37404         78338   \n",
       "4     Nashville             TN        37203         650D2   \n",
       "\n",
       "          EmpDepartmentName           EmpPositionDesc           MgrName  \\\n",
       "0       Respiratory Therapy  Supv Respiratory Therapy   Jahbari, Deckow   \n",
       "1          Mission Hospital      CEO Mission Hospital      Derek, Kling   \n",
       "2                   Finance                Controller  Steven, Parisian   \n",
       "3           Employee Health             Mgr EE Health               NaN   \n",
       "4  HT IEO & Shared Services           Mgr Integration     Kasmin, Hauck   \n",
       "\n",
       "                       MgrTitle                               Mgr34Id  \\\n",
       "0             Dir Critical Care  9d39e232-d133-4ce4-bf6d-276cc5a7e364   \n",
       "1  Div President North Carolina  65aecf22-f6fd-490d-9a2b-52c02e001790   \n",
       "2                           CFO  d72a0182-66af-4f1b-8e89-b2e26c361f78   \n",
       "3                     Mkt VP HR                                   NaN   \n",
       "4          Dir Integration Svcs  fb123e32-71a8-42a2-a46b-608b127e719e   \n",
       "\n",
       "  EmpAnnivDate  EmpPositionIsSuper EmpRNExperienceDate  fema_disaster_count  \n",
       "0   2012-10-15                True                 NaT                 2791  \n",
       "1   2013-09-09                True                 NaT                 2317  \n",
       "2   2008-03-10                True                 NaT                  664  \n",
       "3   2006-08-28                True          1994-09-12                 1723  \n",
       "4   2000-02-14                True                 NaT                 1723  "
      ]
     },
     "execution_count": 188,
     "metadata": {},
     "output_type": "execute_result"
    }
   ],
   "source": [
    "# merge only relevant FEMA disaster counts with HCA employee data\n",
    "file = file.merge(fema_filtered, on=\"facility_state\", how=\"left\")\n",
    "\n",
    "# Display final merged dataset\n",
    "file.head()\n"
   ]
  },
  {
   "cell_type": "code",
   "execution_count": 190,
   "id": "fa6f46aa-6c12-48c7-ae16-240d4e20b185",
   "metadata": {},
   "outputs": [
    {
     "name": "stdout",
     "output_type": "stream",
     "text": [
      "Requirement already satisfied: plotly in /opt/anaconda3/lib/python3.12/site-packages (5.22.0)\n",
      "Requirement already satisfied: pandas in /opt/anaconda3/lib/python3.12/site-packages (2.2.2)\n",
      "Requirement already satisfied: tenacity>=6.2.0 in /opt/anaconda3/lib/python3.12/site-packages (from plotly) (8.2.2)\n",
      "Requirement already satisfied: packaging in /opt/anaconda3/lib/python3.12/site-packages (from plotly) (23.2)\n",
      "Requirement already satisfied: numpy>=1.26.0 in /opt/anaconda3/lib/python3.12/site-packages (from pandas) (1.26.4)\n",
      "Requirement already satisfied: python-dateutil>=2.8.2 in /opt/anaconda3/lib/python3.12/site-packages (from pandas) (2.9.0.post0)\n",
      "Requirement already satisfied: pytz>=2020.1 in /opt/anaconda3/lib/python3.12/site-packages (from pandas) (2024.1)\n",
      "Requirement already satisfied: tzdata>=2022.7 in /opt/anaconda3/lib/python3.12/site-packages (from pandas) (2023.3)\n",
      "Requirement already satisfied: six>=1.5 in /opt/anaconda3/lib/python3.12/site-packages (from python-dateutil>=2.8.2->pandas) (1.16.0)\n"
     ]
    }
   ],
   "source": [
    "!pip install plotly pandas"
   ]
  },
  {
   "cell_type": "code",
   "execution_count": 212,
   "id": "ce639b08-4ab4-494f-af7e-5d87db13aa89",
   "metadata": {},
   "outputs": [
    {
     "data": {
      "text/html": [
       "<div>\n",
       "<style scoped>\n",
       "    .dataframe tbody tr th:only-of-type {\n",
       "        vertical-align: middle;\n",
       "    }\n",
       "\n",
       "    .dataframe tbody tr th {\n",
       "        vertical-align: top;\n",
       "    }\n",
       "\n",
       "    .dataframe thead th {\n",
       "        text-align: right;\n",
       "    }\n",
       "</style>\n",
       "<table border=\"1\" class=\"dataframe\">\n",
       "  <thead>\n",
       "    <tr style=\"text-align: right;\">\n",
       "      <th></th>\n",
       "      <th>facility_state</th>\n",
       "      <th>fema_disaster_count</th>\n",
       "      <th>most_common_disaster</th>\n",
       "    </tr>\n",
       "  </thead>\n",
       "  <tbody>\n",
       "    <tr>\n",
       "      <th>0</th>\n",
       "      <td>AK</td>\n",
       "      <td>339</td>\n",
       "      <td>Biological</td>\n",
       "    </tr>\n",
       "    <tr>\n",
       "      <th>5</th>\n",
       "      <td>CA</td>\n",
       "      <td>1684</td>\n",
       "      <td>Fire</td>\n",
       "    </tr>\n",
       "    <tr>\n",
       "      <th>6</th>\n",
       "      <td>CO</td>\n",
       "      <td>664</td>\n",
       "      <td>Flood</td>\n",
       "    </tr>\n",
       "    <tr>\n",
       "      <th>10</th>\n",
       "      <td>FL</td>\n",
       "      <td>2791</td>\n",
       "      <td>Hurricane</td>\n",
       "    </tr>\n",
       "    <tr>\n",
       "      <th>12</th>\n",
       "      <td>GA</td>\n",
       "      <td>2653</td>\n",
       "      <td>Hurricane</td>\n",
       "    </tr>\n",
       "    <tr>\n",
       "      <th>16</th>\n",
       "      <td>ID</td>\n",
       "      <td>369</td>\n",
       "      <td>Flood</td>\n",
       "    </tr>\n",
       "    <tr>\n",
       "      <th>18</th>\n",
       "      <td>IN</td>\n",
       "      <td>1464</td>\n",
       "      <td>Severe Storm</td>\n",
       "    </tr>\n",
       "    <tr>\n",
       "      <th>19</th>\n",
       "      <td>KS</td>\n",
       "      <td>1842</td>\n",
       "      <td>Severe Storm</td>\n",
       "    </tr>\n",
       "    <tr>\n",
       "      <th>20</th>\n",
       "      <td>KY</td>\n",
       "      <td>2796</td>\n",
       "      <td>Severe Storm</td>\n",
       "    </tr>\n",
       "    <tr>\n",
       "      <th>21</th>\n",
       "      <td>LA</td>\n",
       "      <td>2589</td>\n",
       "      <td>Hurricane</td>\n",
       "    </tr>\n",
       "    <tr>\n",
       "      <th>28</th>\n",
       "      <td>MO</td>\n",
       "      <td>2764</td>\n",
       "      <td>Severe Storm</td>\n",
       "    </tr>\n",
       "    <tr>\n",
       "      <th>32</th>\n",
       "      <td>NC</td>\n",
       "      <td>2317</td>\n",
       "      <td>Hurricane</td>\n",
       "    </tr>\n",
       "    <tr>\n",
       "      <th>35</th>\n",
       "      <td>NH</td>\n",
       "      <td>320</td>\n",
       "      <td>Severe Storm</td>\n",
       "    </tr>\n",
       "    <tr>\n",
       "      <th>38</th>\n",
       "      <td>NV</td>\n",
       "      <td>286</td>\n",
       "      <td>Biological</td>\n",
       "    </tr>\n",
       "    <tr>\n",
       "      <th>47</th>\n",
       "      <td>SC</td>\n",
       "      <td>1136</td>\n",
       "      <td>Hurricane</td>\n",
       "    </tr>\n",
       "    <tr>\n",
       "      <th>49</th>\n",
       "      <td>TN</td>\n",
       "      <td>1723</td>\n",
       "      <td>Severe Storm</td>\n",
       "    </tr>\n",
       "    <tr>\n",
       "      <th>50</th>\n",
       "      <td>TX</td>\n",
       "      <td>5350</td>\n",
       "      <td>Hurricane</td>\n",
       "    </tr>\n",
       "    <tr>\n",
       "      <th>51</th>\n",
       "      <td>UT</td>\n",
       "      <td>255</td>\n",
       "      <td>Flood</td>\n",
       "    </tr>\n",
       "    <tr>\n",
       "      <th>52</th>\n",
       "      <td>VA</td>\n",
       "      <td>2585</td>\n",
       "      <td>Hurricane</td>\n",
       "    </tr>\n",
       "  </tbody>\n",
       "</table>\n",
       "</div>"
      ],
      "text/plain": [
       "   facility_state  fema_disaster_count most_common_disaster\n",
       "0              AK                  339           Biological\n",
       "5              CA                 1684                 Fire\n",
       "6              CO                  664                Flood\n",
       "10             FL                 2791            Hurricane\n",
       "12             GA                 2653            Hurricane\n",
       "16             ID                  369                Flood\n",
       "18             IN                 1464         Severe Storm\n",
       "19             KS                 1842         Severe Storm\n",
       "20             KY                 2796         Severe Storm\n",
       "21             LA                 2589            Hurricane\n",
       "28             MO                 2764         Severe Storm\n",
       "32             NC                 2317            Hurricane\n",
       "35             NH                  320         Severe Storm\n",
       "38             NV                  286           Biological\n",
       "47             SC                 1136            Hurricane\n",
       "49             TN                 1723         Severe Storm\n",
       "50             TX                 5350            Hurricane\n",
       "51             UT                  255                Flood\n",
       "52             VA                 2585            Hurricane"
      ]
     },
     "metadata": {},
     "output_type": "display_data"
    }
   ],
   "source": [
    "import pandas as pd\n",
    "\n",
    "disaster_counts = fema_cleaned.groupby(\"facility_state\")[\"incidentType\"].count().reset_index()\n",
    "disaster_counts.columns = [\"facility_state\", \"fema_disaster_count\"]\n",
    "\n",
    "# the most frequently occurring disaster type per state\n",
    "most_common_incident = (\n",
    "    fema_cleaned.groupby(\"facility_state\")[\"incidentType\"]\n",
    "    .agg(lambda x: x.value_counts().idxmax())  # most occurring type\n",
    "    .reset_index()\n",
    ")\n",
    "\n",
    "most_common_incident.columns = [\"facility_state\", \"most_common_disaster\"]\n",
    "\n",
    "fema_summary = disaster_counts.merge(most_common_incident, on=\"facility_state\", how=\"left\")\n",
    "\n",
    "fema_summary_filtered = fema_summary[fema_summary[\"facility_state\"].isin(hca_states)]\n",
    "\n",
    "display(fema_summary_filtered)\n"
   ]
  },
  {
   "cell_type": "code",
   "execution_count": 210,
   "id": "98f0f0db-3d2e-4a7b-96ba-baca91db6232",
   "metadata": {},
   "outputs": [
    {
     "name": "stdout",
     "output_type": "stream",
     "text": [
      "   facility_state most_common_disaster\n",
      "0              AK           Biological\n",
      "5              CA                 Fire\n",
      "6              CO                Flood\n",
      "10             FL            Hurricane\n",
      "12             GA            Hurricane\n",
      "16             ID                Flood\n",
      "18             IN         Severe Storm\n",
      "19             KS         Severe Storm\n",
      "20             KY         Severe Storm\n",
      "21             LA            Hurricane\n",
      "28             MO         Severe Storm\n",
      "32             NC            Hurricane\n",
      "35             NH         Severe Storm\n",
      "38             NV           Biological\n",
      "47             SC            Hurricane\n",
      "49             TN         Severe Storm\n",
      "50             TX            Hurricane\n",
      "51             UT                Flood\n",
      "52             VA            Hurricane\n"
     ]
    }
   ],
   "source": [
    "most_common_incident_filtered = most_common_incident[most_common_incident[\"facility_state\"].isin(hca_states)]\n",
    "print(most_common_incident_filtered)"
   ]
  },
  {
   "cell_type": "code",
   "execution_count": 194,
   "id": "1ad42183-17e7-4166-88cb-13f0dc730a47",
   "metadata": {},
   "outputs": [],
   "source": [
    "# merge most common disaster type into FEMA disaster counts\n",
    "fema_filtered = fema_filtered.merge(most_common_incident_filtered, on=\"facility_state\", how=\"left\")"
   ]
  },
  {
   "cell_type": "code",
   "execution_count": 195,
   "id": "f2d0c5b3-eb49-43d4-b8ac-7716ffba0997",
   "metadata": {},
   "outputs": [
    {
     "data": {
      "application/vnd.plotly.v1+json": {
       "config": {
        "plotlyServerURL": "https://plot.ly"
       },
       "data": [
        {
         "coloraxis": "coloraxis",
         "geo": "geo",
         "hovertemplate": "<b>%{hovertext}</b><br><br>facility_state=%{location}<br>fema_disaster_count=%{z}<extra></extra>",
         "hovertext": [
          "Most Common Incident: Biological",
          "Most Common Incident: Fire",
          "Most Common Incident: Flood",
          "Most Common Incident: Hurricane",
          "Most Common Incident: Hurricane",
          "Most Common Incident: Flood",
          "Most Common Incident: Severe Storm",
          "Most Common Incident: Severe Storm",
          "Most Common Incident: Severe Storm",
          "Most Common Incident: Hurricane",
          "Most Common Incident: Severe Storm",
          "Most Common Incident: Hurricane",
          "Most Common Incident: Severe Storm",
          "Most Common Incident: Biological",
          "Most Common Incident: Hurricane",
          "Most Common Incident: Severe Storm",
          "Most Common Incident: Hurricane",
          "Most Common Incident: Flood",
          "Most Common Incident: Hurricane"
         ],
         "locationmode": "USA-states",
         "locations": [
          "AK",
          "CA",
          "CO",
          "FL",
          "GA",
          "ID",
          "IN",
          "KS",
          "KY",
          "LA",
          "MO",
          "NC",
          "NH",
          "NV",
          "SC",
          "TN",
          "TX",
          "UT",
          "VA"
         ],
         "name": "",
         "type": "choropleth",
         "z": [
          339,
          1684,
          664,
          2791,
          2653,
          369,
          1464,
          1842,
          2796,
          2589,
          2764,
          2317,
          320,
          286,
          1136,
          1723,
          5350,
          255,
          2585
         ]
        }
       ],
       "layout": {
        "autosize": true,
        "coloraxis": {
         "colorbar": {
          "title": {
           "text": "fema_disaster_count"
          }
         },
         "colorscale": [
          [
           0,
           "rgb(255,245,240)"
          ],
          [
           0.125,
           "rgb(254,224,210)"
          ],
          [
           0.25,
           "rgb(252,187,161)"
          ],
          [
           0.375,
           "rgb(252,146,114)"
          ],
          [
           0.5,
           "rgb(251,106,74)"
          ],
          [
           0.625,
           "rgb(239,59,44)"
          ],
          [
           0.75,
           "rgb(203,24,29)"
          ],
          [
           0.875,
           "rgb(165,15,21)"
          ],
          [
           1,
           "rgb(103,0,13)"
          ]
         ]
        },
        "geo": {
         "center": {},
         "domain": {
          "x": [
           0,
           1
          ],
          "y": [
           0,
           1
          ]
         },
         "scope": "usa"
        },
        "legend": {
         "tracegroupgap": 0
        },
        "template": {
         "data": {
          "bar": [
           {
            "error_x": {
             "color": "#2a3f5f"
            },
            "error_y": {
             "color": "#2a3f5f"
            },
            "marker": {
             "line": {
              "color": "#E5ECF6",
              "width": 0.5
             },
             "pattern": {
              "fillmode": "overlay",
              "size": 10,
              "solidity": 0.2
             }
            },
            "type": "bar"
           }
          ],
          "barpolar": [
           {
            "marker": {
             "line": {
              "color": "#E5ECF6",
              "width": 0.5
             },
             "pattern": {
              "fillmode": "overlay",
              "size": 10,
              "solidity": 0.2
             }
            },
            "type": "barpolar"
           }
          ],
          "carpet": [
           {
            "aaxis": {
             "endlinecolor": "#2a3f5f",
             "gridcolor": "white",
             "linecolor": "white",
             "minorgridcolor": "white",
             "startlinecolor": "#2a3f5f"
            },
            "baxis": {
             "endlinecolor": "#2a3f5f",
             "gridcolor": "white",
             "linecolor": "white",
             "minorgridcolor": "white",
             "startlinecolor": "#2a3f5f"
            },
            "type": "carpet"
           }
          ],
          "choropleth": [
           {
            "colorbar": {
             "outlinewidth": 0,
             "ticks": ""
            },
            "type": "choropleth"
           }
          ],
          "contour": [
           {
            "colorbar": {
             "outlinewidth": 0,
             "ticks": ""
            },
            "colorscale": [
             [
              0,
              "#0d0887"
             ],
             [
              0.1111111111111111,
              "#46039f"
             ],
             [
              0.2222222222222222,
              "#7201a8"
             ],
             [
              0.3333333333333333,
              "#9c179e"
             ],
             [
              0.4444444444444444,
              "#bd3786"
             ],
             [
              0.5555555555555556,
              "#d8576b"
             ],
             [
              0.6666666666666666,
              "#ed7953"
             ],
             [
              0.7777777777777778,
              "#fb9f3a"
             ],
             [
              0.8888888888888888,
              "#fdca26"
             ],
             [
              1,
              "#f0f921"
             ]
            ],
            "type": "contour"
           }
          ],
          "contourcarpet": [
           {
            "colorbar": {
             "outlinewidth": 0,
             "ticks": ""
            },
            "type": "contourcarpet"
           }
          ],
          "heatmap": [
           {
            "colorbar": {
             "outlinewidth": 0,
             "ticks": ""
            },
            "colorscale": [
             [
              0,
              "#0d0887"
             ],
             [
              0.1111111111111111,
              "#46039f"
             ],
             [
              0.2222222222222222,
              "#7201a8"
             ],
             [
              0.3333333333333333,
              "#9c179e"
             ],
             [
              0.4444444444444444,
              "#bd3786"
             ],
             [
              0.5555555555555556,
              "#d8576b"
             ],
             [
              0.6666666666666666,
              "#ed7953"
             ],
             [
              0.7777777777777778,
              "#fb9f3a"
             ],
             [
              0.8888888888888888,
              "#fdca26"
             ],
             [
              1,
              "#f0f921"
             ]
            ],
            "type": "heatmap"
           }
          ],
          "heatmapgl": [
           {
            "colorbar": {
             "outlinewidth": 0,
             "ticks": ""
            },
            "colorscale": [
             [
              0,
              "#0d0887"
             ],
             [
              0.1111111111111111,
              "#46039f"
             ],
             [
              0.2222222222222222,
              "#7201a8"
             ],
             [
              0.3333333333333333,
              "#9c179e"
             ],
             [
              0.4444444444444444,
              "#bd3786"
             ],
             [
              0.5555555555555556,
              "#d8576b"
             ],
             [
              0.6666666666666666,
              "#ed7953"
             ],
             [
              0.7777777777777778,
              "#fb9f3a"
             ],
             [
              0.8888888888888888,
              "#fdca26"
             ],
             [
              1,
              "#f0f921"
             ]
            ],
            "type": "heatmapgl"
           }
          ],
          "histogram": [
           {
            "marker": {
             "pattern": {
              "fillmode": "overlay",
              "size": 10,
              "solidity": 0.2
             }
            },
            "type": "histogram"
           }
          ],
          "histogram2d": [
           {
            "colorbar": {
             "outlinewidth": 0,
             "ticks": ""
            },
            "colorscale": [
             [
              0,
              "#0d0887"
             ],
             [
              0.1111111111111111,
              "#46039f"
             ],
             [
              0.2222222222222222,
              "#7201a8"
             ],
             [
              0.3333333333333333,
              "#9c179e"
             ],
             [
              0.4444444444444444,
              "#bd3786"
             ],
             [
              0.5555555555555556,
              "#d8576b"
             ],
             [
              0.6666666666666666,
              "#ed7953"
             ],
             [
              0.7777777777777778,
              "#fb9f3a"
             ],
             [
              0.8888888888888888,
              "#fdca26"
             ],
             [
              1,
              "#f0f921"
             ]
            ],
            "type": "histogram2d"
           }
          ],
          "histogram2dcontour": [
           {
            "colorbar": {
             "outlinewidth": 0,
             "ticks": ""
            },
            "colorscale": [
             [
              0,
              "#0d0887"
             ],
             [
              0.1111111111111111,
              "#46039f"
             ],
             [
              0.2222222222222222,
              "#7201a8"
             ],
             [
              0.3333333333333333,
              "#9c179e"
             ],
             [
              0.4444444444444444,
              "#bd3786"
             ],
             [
              0.5555555555555556,
              "#d8576b"
             ],
             [
              0.6666666666666666,
              "#ed7953"
             ],
             [
              0.7777777777777778,
              "#fb9f3a"
             ],
             [
              0.8888888888888888,
              "#fdca26"
             ],
             [
              1,
              "#f0f921"
             ]
            ],
            "type": "histogram2dcontour"
           }
          ],
          "mesh3d": [
           {
            "colorbar": {
             "outlinewidth": 0,
             "ticks": ""
            },
            "type": "mesh3d"
           }
          ],
          "parcoords": [
           {
            "line": {
             "colorbar": {
              "outlinewidth": 0,
              "ticks": ""
             }
            },
            "type": "parcoords"
           }
          ],
          "pie": [
           {
            "automargin": true,
            "type": "pie"
           }
          ],
          "scatter": [
           {
            "fillpattern": {
             "fillmode": "overlay",
             "size": 10,
             "solidity": 0.2
            },
            "type": "scatter"
           }
          ],
          "scatter3d": [
           {
            "line": {
             "colorbar": {
              "outlinewidth": 0,
              "ticks": ""
             }
            },
            "marker": {
             "colorbar": {
              "outlinewidth": 0,
              "ticks": ""
             }
            },
            "type": "scatter3d"
           }
          ],
          "scattercarpet": [
           {
            "marker": {
             "colorbar": {
              "outlinewidth": 0,
              "ticks": ""
             }
            },
            "type": "scattercarpet"
           }
          ],
          "scattergeo": [
           {
            "marker": {
             "colorbar": {
              "outlinewidth": 0,
              "ticks": ""
             }
            },
            "type": "scattergeo"
           }
          ],
          "scattergl": [
           {
            "marker": {
             "colorbar": {
              "outlinewidth": 0,
              "ticks": ""
             }
            },
            "type": "scattergl"
           }
          ],
          "scattermapbox": [
           {
            "marker": {
             "colorbar": {
              "outlinewidth": 0,
              "ticks": ""
             }
            },
            "type": "scattermapbox"
           }
          ],
          "scatterpolar": [
           {
            "marker": {
             "colorbar": {
              "outlinewidth": 0,
              "ticks": ""
             }
            },
            "type": "scatterpolar"
           }
          ],
          "scatterpolargl": [
           {
            "marker": {
             "colorbar": {
              "outlinewidth": 0,
              "ticks": ""
             }
            },
            "type": "scatterpolargl"
           }
          ],
          "scatterternary": [
           {
            "marker": {
             "colorbar": {
              "outlinewidth": 0,
              "ticks": ""
             }
            },
            "type": "scatterternary"
           }
          ],
          "surface": [
           {
            "colorbar": {
             "outlinewidth": 0,
             "ticks": ""
            },
            "colorscale": [
             [
              0,
              "#0d0887"
             ],
             [
              0.1111111111111111,
              "#46039f"
             ],
             [
              0.2222222222222222,
              "#7201a8"
             ],
             [
              0.3333333333333333,
              "#9c179e"
             ],
             [
              0.4444444444444444,
              "#bd3786"
             ],
             [
              0.5555555555555556,
              "#d8576b"
             ],
             [
              0.6666666666666666,
              "#ed7953"
             ],
             [
              0.7777777777777778,
              "#fb9f3a"
             ],
             [
              0.8888888888888888,
              "#fdca26"
             ],
             [
              1,
              "#f0f921"
             ]
            ],
            "type": "surface"
           }
          ],
          "table": [
           {
            "cells": {
             "fill": {
              "color": "#EBF0F8"
             },
             "line": {
              "color": "white"
             }
            },
            "header": {
             "fill": {
              "color": "#C8D4E3"
             },
             "line": {
              "color": "white"
             }
            },
            "type": "table"
           }
          ]
         },
         "layout": {
          "annotationdefaults": {
           "arrowcolor": "#2a3f5f",
           "arrowhead": 0,
           "arrowwidth": 1
          },
          "autotypenumbers": "strict",
          "coloraxis": {
           "colorbar": {
            "outlinewidth": 0,
            "ticks": ""
           }
          },
          "colorscale": {
           "diverging": [
            [
             0,
             "#8e0152"
            ],
            [
             0.1,
             "#c51b7d"
            ],
            [
             0.2,
             "#de77ae"
            ],
            [
             0.3,
             "#f1b6da"
            ],
            [
             0.4,
             "#fde0ef"
            ],
            [
             0.5,
             "#f7f7f7"
            ],
            [
             0.6,
             "#e6f5d0"
            ],
            [
             0.7,
             "#b8e186"
            ],
            [
             0.8,
             "#7fbc41"
            ],
            [
             0.9,
             "#4d9221"
            ],
            [
             1,
             "#276419"
            ]
           ],
           "sequential": [
            [
             0,
             "#0d0887"
            ],
            [
             0.1111111111111111,
             "#46039f"
            ],
            [
             0.2222222222222222,
             "#7201a8"
            ],
            [
             0.3333333333333333,
             "#9c179e"
            ],
            [
             0.4444444444444444,
             "#bd3786"
            ],
            [
             0.5555555555555556,
             "#d8576b"
            ],
            [
             0.6666666666666666,
             "#ed7953"
            ],
            [
             0.7777777777777778,
             "#fb9f3a"
            ],
            [
             0.8888888888888888,
             "#fdca26"
            ],
            [
             1,
             "#f0f921"
            ]
           ],
           "sequentialminus": [
            [
             0,
             "#0d0887"
            ],
            [
             0.1111111111111111,
             "#46039f"
            ],
            [
             0.2222222222222222,
             "#7201a8"
            ],
            [
             0.3333333333333333,
             "#9c179e"
            ],
            [
             0.4444444444444444,
             "#bd3786"
            ],
            [
             0.5555555555555556,
             "#d8576b"
            ],
            [
             0.6666666666666666,
             "#ed7953"
            ],
            [
             0.7777777777777778,
             "#fb9f3a"
            ],
            [
             0.8888888888888888,
             "#fdca26"
            ],
            [
             1,
             "#f0f921"
            ]
           ]
          },
          "colorway": [
           "#636efa",
           "#EF553B",
           "#00cc96",
           "#ab63fa",
           "#FFA15A",
           "#19d3f3",
           "#FF6692",
           "#B6E880",
           "#FF97FF",
           "#FECB52"
          ],
          "font": {
           "color": "#2a3f5f"
          },
          "geo": {
           "bgcolor": "white",
           "lakecolor": "white",
           "landcolor": "#E5ECF6",
           "showlakes": true,
           "showland": true,
           "subunitcolor": "white"
          },
          "hoverlabel": {
           "align": "left"
          },
          "hovermode": "closest",
          "mapbox": {
           "style": "light"
          },
          "paper_bgcolor": "white",
          "plot_bgcolor": "#E5ECF6",
          "polar": {
           "angularaxis": {
            "gridcolor": "white",
            "linecolor": "white",
            "ticks": ""
           },
           "bgcolor": "#E5ECF6",
           "radialaxis": {
            "gridcolor": "white",
            "linecolor": "white",
            "ticks": ""
           }
          },
          "scene": {
           "xaxis": {
            "backgroundcolor": "#E5ECF6",
            "gridcolor": "white",
            "gridwidth": 2,
            "linecolor": "white",
            "showbackground": true,
            "ticks": "",
            "zerolinecolor": "white"
           },
           "yaxis": {
            "backgroundcolor": "#E5ECF6",
            "gridcolor": "white",
            "gridwidth": 2,
            "linecolor": "white",
            "showbackground": true,
            "ticks": "",
            "zerolinecolor": "white"
           },
           "zaxis": {
            "backgroundcolor": "#E5ECF6",
            "gridcolor": "white",
            "gridwidth": 2,
            "linecolor": "white",
            "showbackground": true,
            "ticks": "",
            "zerolinecolor": "white"
           }
          },
          "shapedefaults": {
           "line": {
            "color": "#2a3f5f"
           }
          },
          "ternary": {
           "aaxis": {
            "gridcolor": "white",
            "linecolor": "white",
            "ticks": ""
           },
           "baxis": {
            "gridcolor": "white",
            "linecolor": "white",
            "ticks": ""
           },
           "bgcolor": "#E5ECF6",
           "caxis": {
            "gridcolor": "white",
            "linecolor": "white",
            "ticks": ""
           }
          },
          "title": {
           "x": 0.05
          },
          "xaxis": {
           "automargin": true,
           "gridcolor": "white",
           "linecolor": "white",
           "ticks": "",
           "title": {
            "standoff": 15
           },
           "zerolinecolor": "white",
           "zerolinewidth": 2
          },
          "yaxis": {
           "automargin": true,
           "gridcolor": "white",
           "linecolor": "white",
           "ticks": "",
           "title": {
            "standoff": 15
           },
           "zerolinecolor": "white",
           "zerolinewidth": 2
          }
         }
        },
        "title": {
         "text": "Heat Map of FEMA Disaster Counts in HCA States"
        }
       }
      },
      "image/png": "[encoded data removed]",
      "text/html": [
       "<div>                            <div id=\"c97905cd-3727-4218-8327-2ead5c3fa35d\" class=\"plotly-graph-div\" style=\"height:525px; width:100%;\"></div>            <script type=\"text/javascript\">                require([\"plotly\"], function(Plotly) {                    window.PLOTLYENV=window.PLOTLYENV || {};                                    if (document.getElementById(\"c97905cd-3727-4218-8327-2ead5c3fa35d\")) {                    Plotly.newPlot(                        \"c97905cd-3727-4218-8327-2ead5c3fa35d\",                        [{\"coloraxis\":\"coloraxis\",\"geo\":\"geo\",\"hovertemplate\":\"\\u003cb\\u003e%{hovertext}\\u003c\\u002fb\\u003e\\u003cbr\\u003e\\u003cbr\\u003efacility_state=%{location}\\u003cbr\\u003efema_disaster_count=%{z}\\u003cextra\\u003e\\u003c\\u002fextra\\u003e\",\"hovertext\":[\"Most Common Incident: Biological\",\"Most Common Incident: Fire\",\"Most Common Incident: Flood\",\"Most Common Incident: Hurricane\",\"Most Common Incident: Hurricane\",\"Most Common Incident: Flood\",\"Most Common Incident: Severe Storm\",\"Most Common Incident: Severe Storm\",\"Most Common Incident: Severe Storm\",\"Most Common Incident: Hurricane\",\"Most Common Incident: Severe Storm\",\"Most Common Incident: Hurricane\",\"Most Common Incident: Severe Storm\",\"Most Common Incident: Biological\",\"Most Common Incident: Hurricane\",\"Most Common Incident: Severe Storm\",\"Most Common Incident: Hurricane\",\"Most Common Incident: Flood\",\"Most Common Incident: Hurricane\"],\"locationmode\":\"USA-states\",\"locations\":[\"AK\",\"CA\",\"CO\",\"FL\",\"GA\",\"ID\",\"IN\",\"KS\",\"KY\",\"LA\",\"MO\",\"NC\",\"NH\",\"NV\",\"SC\",\"TN\",\"TX\",\"UT\",\"VA\"],\"name\":\"\",\"z\":[339,1684,664,2791,2653,369,1464,1842,2796,2589,2764,2317,320,286,1136,1723,5350,255,2585],\"type\":\"choropleth\"}],                        {\"template\":{\"data\":{\"histogram2dcontour\":[{\"type\":\"histogram2dcontour\",\"colorbar\":{\"outlinewidth\":0,\"ticks\":\"\"},\"colorscale\":[[0.0,\"#0d0887\"],[0.1111111111111111,\"#46039f\"],[0.2222222222222222,\"#7201a8\"],[0.3333333333333333,\"#9c179e\"],[0.4444444444444444,\"#bd3786\"],[0.5555555555555556,\"#d8576b\"],[0.6666666666666666,\"#ed7953\"],[0.7777777777777778,\"#fb9f3a\"],[0.8888888888888888,\"#fdca26\"],[1.0,\"#f0f921\"]]}],\"choropleth\":[{\"type\":\"choropleth\",\"colorbar\":{\"outlinewidth\":0,\"ticks\":\"\"}}],\"histogram2d\":[{\"type\":\"histogram2d\",\"colorbar\":{\"outlinewidth\":0,\"ticks\":\"\"},\"colorscale\":[[0.0,\"#0d0887\"],[0.1111111111111111,\"#46039f\"],[0.2222222222222222,\"#7201a8\"],[0.3333333333333333,\"#9c179e\"],[0.4444444444444444,\"#bd3786\"],[0.5555555555555556,\"#d8576b\"],[0.6666666666666666,\"#ed7953\"],[0.7777777777777778,\"#fb9f3a\"],[0.8888888888888888,\"#fdca26\"],[1.0,\"#f0f921\"]]}],\"heatmap\":[{\"type\":\"heatmap\",\"colorbar\":{\"outlinewidth\":0,\"ticks\":\"\"},\"colorscale\":[[0.0,\"#0d0887\"],[0.1111111111111111,\"#46039f\"],[0.2222222222222222,\"#7201a8\"],[0.3333333333333333,\"#9c179e\"],[0.4444444444444444,\"#bd3786\"],[0.5555555555555556,\"#d8576b\"],[0.6666666666666666,\"#ed7953\"],[0.7777777777777778,\"#fb9f3a\"],[0.8888888888888888,\"#fdca26\"],[1.0,\"#f0f921\"]]}],\"heatmapgl\":[{\"type\":\"heatmapgl\",\"colorbar\":{\"outlinewidth\":0,\"ticks\":\"\"},\"colorscale\":[[0.0,\"#0d0887\"],[0.1111111111111111,\"#46039f\"],[0.2222222222222222,\"#7201a8\"],[0.3333333333333333,\"#9c179e\"],[0.4444444444444444,\"#bd3786\"],[0.5555555555555556,\"#d8576b\"],[0.6666666666666666,\"#ed7953\"],[0.7777777777777778,\"#fb9f3a\"],[0.8888888888888888,\"#fdca26\"],[1.0,\"#f0f921\"]]}],\"contourcarpet\":[{\"type\":\"contourcarpet\",\"colorbar\":{\"outlinewidth\":0,\"ticks\":\"\"}}],\"contour\":[{\"type\":\"contour\",\"colorbar\":{\"outlinewidth\":0,\"ticks\":\"\"},\"colorscale\":[[0.0,\"#0d0887\"],[0.1111111111111111,\"#46039f\"],[0.2222222222222222,\"#7201a8\"],[0.3333333333333333,\"#9c179e\"],[0.4444444444444444,\"#bd3786\"],[0.5555555555555556,\"#d8576b\"],[0.6666666666666666,\"#ed7953\"],[0.7777777777777778,\"#fb9f3a\"],[0.8888888888888888,\"#fdca26\"],[1.0,\"#f0f921\"]]}],\"surface\":[{\"type\":\"surface\",\"colorbar\":{\"outlinewidth\":0,\"ticks\":\"\"},\"colorscale\":[[0.0,\"#0d0887\"],[0.1111111111111111,\"#46039f\"],[0.2222222222222222,\"#7201a8\"],[0.3333333333333333,\"#9c179e\"],[0.4444444444444444,\"#bd3786\"],[0.5555555555555556,\"#d8576b\"],[0.6666666666666666,\"#ed7953\"],[0.7777777777777778,\"#fb9f3a\"],[0.8888888888888888,\"#fdca26\"],[1.0,\"#f0f921\"]]}],\"mesh3d\":[{\"type\":\"mesh3d\",\"colorbar\":{\"outlinewidth\":0,\"ticks\":\"\"}}],\"scatter\":[{\"fillpattern\":{\"fillmode\":\"overlay\",\"size\":10,\"solidity\":0.2},\"type\":\"scatter\"}],\"parcoords\":[{\"type\":\"parcoords\",\"line\":{\"colorbar\":{\"outlinewidth\":0,\"ticks\":\"\"}}}],\"scatterpolargl\":[{\"type\":\"scatterpolargl\",\"marker\":{\"colorbar\":{\"outlinewidth\":0,\"ticks\":\"\"}}}],\"bar\":[{\"error_x\":{\"color\":\"#2a3f5f\"},\"error_y\":{\"color\":\"#2a3f5f\"},\"marker\":{\"line\":{\"color\":\"#E5ECF6\",\"width\":0.5},\"pattern\":{\"fillmode\":\"overlay\",\"size\":10,\"solidity\":0.2}},\"type\":\"bar\"}],\"scattergeo\":[{\"type\":\"scattergeo\",\"marker\":{\"colorbar\":{\"outlinewidth\":0,\"ticks\":\"\"}}}],\"scatterpolar\":[{\"type\":\"scatterpolar\",\"marker\":{\"colorbar\":{\"outlinewidth\":0,\"ticks\":\"\"}}}],\"histogram\":[{\"marker\":{\"pattern\":{\"fillmode\":\"overlay\",\"size\":10,\"solidity\":0.2}},\"type\":\"histogram\"}],\"scattergl\":[{\"type\":\"scattergl\",\"marker\":{\"colorbar\":{\"outlinewidth\":0,\"ticks\":\"\"}}}],\"scatter3d\":[{\"type\":\"scatter3d\",\"line\":{\"colorbar\":{\"outlinewidth\":0,\"ticks\":\"\"}},\"marker\":{\"colorbar\":{\"outlinewidth\":0,\"ticks\":\"\"}}}],\"scattermapbox\":[{\"type\":\"scattermapbox\",\"marker\":{\"colorbar\":{\"outlinewidth\":0,\"ticks\":\"\"}}}],\"scatterternary\":[{\"type\":\"scatterternary\",\"marker\":{\"colorbar\":{\"outlinewidth\":0,\"ticks\":\"\"}}}],\"scattercarpet\":[{\"type\":\"scattercarpet\",\"marker\":{\"colorbar\":{\"outlinewidth\":0,\"ticks\":\"\"}}}],\"carpet\":[{\"aaxis\":{\"endlinecolor\":\"#2a3f5f\",\"gridcolor\":\"white\",\"linecolor\":\"white\",\"minorgridcolor\":\"white\",\"startlinecolor\":\"#2a3f5f\"},\"baxis\":{\"endlinecolor\":\"#2a3f5f\",\"gridcolor\":\"white\",\"linecolor\":\"white\",\"minorgridcolor\":\"white\",\"startlinecolor\":\"#2a3f5f\"},\"type\":\"carpet\"}],\"table\":[{\"cells\":{\"fill\":{\"color\":\"#EBF0F8\"},\"line\":{\"color\":\"white\"}},\"header\":{\"fill\":{\"color\":\"#C8D4E3\"},\"line\":{\"color\":\"white\"}},\"type\":\"table\"}],\"barpolar\":[{\"marker\":{\"line\":{\"color\":\"#E5ECF6\",\"width\":0.5},\"pattern\":{\"fillmode\":\"overlay\",\"size\":10,\"solidity\":0.2}},\"type\":\"barpolar\"}],\"pie\":[{\"automargin\":true,\"type\":\"pie\"}]},\"layout\":{\"autotypenumbers\":\"strict\",\"colorway\":[\"#636efa\",\"#EF553B\",\"#00cc96\",\"#ab63fa\",\"#FFA15A\",\"#19d3f3\",\"#FF6692\",\"#B6E880\",\"#FF97FF\",\"#FECB52\"],\"font\":{\"color\":\"#2a3f5f\"},\"hovermode\":\"closest\",\"hoverlabel\":{\"align\":\"left\"},\"paper_bgcolor\":\"white\",\"plot_bgcolor\":\"#E5ECF6\",\"polar\":{\"bgcolor\":\"#E5ECF6\",\"angularaxis\":{\"gridcolor\":\"white\",\"linecolor\":\"white\",\"ticks\":\"\"},\"radialaxis\":{\"gridcolor\":\"white\",\"linecolor\":\"white\",\"ticks\":\"\"}},\"ternary\":{\"bgcolor\":\"#E5ECF6\",\"aaxis\":{\"gridcolor\":\"white\",\"linecolor\":\"white\",\"ticks\":\"\"},\"baxis\":{\"gridcolor\":\"white\",\"linecolor\":\"white\",\"ticks\":\"\"},\"caxis\":{\"gridcolor\":\"white\",\"linecolor\":\"white\",\"ticks\":\"\"}},\"coloraxis\":{\"colorbar\":{\"outlinewidth\":0,\"ticks\":\"\"}},\"colorscale\":{\"sequential\":[[0.0,\"#0d0887\"],[0.1111111111111111,\"#46039f\"],[0.2222222222222222,\"#7201a8\"],[0.3333333333333333,\"#9c179e\"],[0.4444444444444444,\"#bd3786\"],[0.5555555555555556,\"#d8576b\"],[0.6666666666666666,\"#ed7953\"],[0.7777777777777778,\"#fb9f3a\"],[0.8888888888888888,\"#fdca26\"],[1.0,\"#f0f921\"]],\"sequentialminus\":[[0.0,\"#0d0887\"],[0.1111111111111111,\"#46039f\"],[0.2222222222222222,\"#7201a8\"],[0.3333333333333333,\"#9c179e\"],[0.4444444444444444,\"#bd3786\"],[0.5555555555555556,\"#d8576b\"],[0.6666666666666666,\"#ed7953\"],[0.7777777777777778,\"#fb9f3a\"],[0.8888888888888888,\"#fdca26\"],[1.0,\"#f0f921\"]],\"diverging\":[[0,\"#8e0152\"],[0.1,\"#c51b7d\"],[0.2,\"#de77ae\"],[0.3,\"#f1b6da\"],[0.4,\"#fde0ef\"],[0.5,\"#f7f7f7\"],[0.6,\"#e6f5d0\"],[0.7,\"#b8e186\"],[0.8,\"#7fbc41\"],[0.9,\"#4d9221\"],[1,\"#276419\"]]},\"xaxis\":{\"gridcolor\":\"white\",\"linecolor\":\"white\",\"ticks\":\"\",\"title\":{\"standoff\":15},\"zerolinecolor\":\"white\",\"automargin\":true,\"zerolinewidth\":2},\"yaxis\":{\"gridcolor\":\"white\",\"linecolor\":\"white\",\"ticks\":\"\",\"title\":{\"standoff\":15},\"zerolinecolor\":\"white\",\"automargin\":true,\"zerolinewidth\":2},\"scene\":{\"xaxis\":{\"backgroundcolor\":\"#E5ECF6\",\"gridcolor\":\"white\",\"linecolor\":\"white\",\"showbackground\":true,\"ticks\":\"\",\"zerolinecolor\":\"white\",\"gridwidth\":2},\"yaxis\":{\"backgroundcolor\":\"#E5ECF6\",\"gridcolor\":\"white\",\"linecolor\":\"white\",\"showbackground\":true,\"ticks\":\"\",\"zerolinecolor\":\"white\",\"gridwidth\":2},\"zaxis\":{\"backgroundcolor\":\"#E5ECF6\",\"gridcolor\":\"white\",\"linecolor\":\"white\",\"showbackground\":true,\"ticks\":\"\",\"zerolinecolor\":\"white\",\"gridwidth\":2}},\"shapedefaults\":{\"line\":{\"color\":\"#2a3f5f\"}},\"annotationdefaults\":{\"arrowcolor\":\"#2a3f5f\",\"arrowhead\":0,\"arrowwidth\":1},\"geo\":{\"bgcolor\":\"white\",\"landcolor\":\"#E5ECF6\",\"subunitcolor\":\"white\",\"showland\":true,\"showlakes\":true,\"lakecolor\":\"white\"},\"title\":{\"x\":0.05},\"mapbox\":{\"style\":\"light\"}}},\"geo\":{\"domain\":{\"x\":[0.0,1.0],\"y\":[0.0,1.0]},\"center\":{},\"scope\":\"usa\"},\"coloraxis\":{\"colorbar\":{\"title\":{\"text\":\"fema_disaster_count\"}},\"colorscale\":[[0.0,\"rgb(255,245,240)\"],[0.125,\"rgb(254,224,210)\"],[0.25,\"rgb(252,187,161)\"],[0.375,\"rgb(252,146,114)\"],[0.5,\"rgb(251,106,74)\"],[0.625,\"rgb(239,59,44)\"],[0.75,\"rgb(203,24,29)\"],[0.875,\"rgb(165,15,21)\"],[1.0,\"rgb(103,0,13)\"]]},\"legend\":{\"tracegroupgap\":0},\"title\":{\"text\":\"Heat Map of FEMA Disaster Counts in HCA States\"}},                        {\"responsive\": true}                    ).then(function(){\n",
       "                            \n",
       "var gd = document.getElementById('c97905cd-3727-4218-8327-2ead5c3fa35d');\n",
       "var x = new MutationObserver(function (mutations, observer) {{\n",
       "        var display = window.getComputedStyle(gd).display;\n",
       "        if (!display || display === 'none') {{\n",
       "            console.log([gd, 'removed!']);\n",
       "            Plotly.purge(gd);\n",
       "            observer.disconnect();\n",
       "        }}\n",
       "}});\n",
       "\n",
       "// Listen for the removal of the full notebook cells\n",
       "var notebookContainer = gd.closest('#notebook-container');\n",
       "if (notebookContainer) {{\n",
       "    x.observe(notebookContainer, {childList: true});\n",
       "}}\n",
       "\n",
       "// Listen for the clearing of the current output cell\n",
       "var outputEl = gd.closest('.output');\n",
       "if (outputEl) {{\n",
       "    x.observe(outputEl, {childList: true});\n",
       "}}\n",
       "\n",
       "                        })                };                });            </script>        </div>"
      ]
     },
     "metadata": {},
     "output_type": "display_data"
    }
   ],
   "source": [
    "import plotly.express as px\n",
    "# custom hover text\n",
    "fema_filtered[\"hover_text\"] = (\n",
    "    \"Most Common Incident: \" + fema_filtered[\"most_common_disaster\"]\n",
    ")\n",
    "\n",
    "# heat map with customized hover text\n",
    "dcount_gen = px.choropleth(\n",
    "    fema_filtered,  \n",
    "    locations=\"facility_state\",  \n",
    "    locationmode=\"USA-states\",  \n",
    "    color=\"fema_disaster_count\",  \n",
    "    color_continuous_scale=\"Reds\",  \n",
    "    scope=\"usa\",  \n",
    "    title=\"Heat Map of FEMA Disaster Counts in HCA States\",\n",
    "    hover_name=\"hover_text\" \n",
    ")\n",
    "\n",
    "dcount_gen.show()"
   ]
  },
  {
   "cell_type": "code",
   "execution_count": 196,
   "id": "debfb2be-929d-4bcb-99a6-31e24cf52533",
   "metadata": {},
   "outputs": [
    {
     "data": {
      "text/html": [
       "<div>\n",
       "<style scoped>\n",
       "    .dataframe tbody tr th:only-of-type {\n",
       "        vertical-align: middle;\n",
       "    }\n",
       "\n",
       "    .dataframe tbody tr th {\n",
       "        vertical-align: top;\n",
       "    }\n",
       "\n",
       "    .dataframe thead th {\n",
       "        text-align: right;\n",
       "    }\n",
       "</style>\n",
       "<table border=\"1\" class=\"dataframe\">\n",
       "  <thead>\n",
       "    <tr style=\"text-align: right;\">\n",
       "      <th></th>\n",
       "      <th>facility_state</th>\n",
       "      <th>county</th>\n",
       "      <th>disaster_count</th>\n",
       "    </tr>\n",
       "  </thead>\n",
       "  <tbody>\n",
       "    <tr>\n",
       "      <th>0</th>\n",
       "      <td>AK</td>\n",
       "      <td>Alaska Gateway Regional Educational Attendance...</td>\n",
       "      <td>5</td>\n",
       "    </tr>\n",
       "    <tr>\n",
       "      <th>1</th>\n",
       "      <td>AK</td>\n",
       "      <td>Aleutian Islands (Census Subarea)</td>\n",
       "      <td>1</td>\n",
       "    </tr>\n",
       "    <tr>\n",
       "      <th>2</th>\n",
       "      <td>AK</td>\n",
       "      <td>Aleutian Region Regional Educational Attendanc...</td>\n",
       "      <td>2</td>\n",
       "    </tr>\n",
       "    <tr>\n",
       "      <th>3</th>\n",
       "      <td>AK</td>\n",
       "      <td>Aleutians East (Borough)</td>\n",
       "      <td>3</td>\n",
       "    </tr>\n",
       "    <tr>\n",
       "      <th>4</th>\n",
       "      <td>AK</td>\n",
       "      <td>Aleutians East Borough School District</td>\n",
       "      <td>1</td>\n",
       "    </tr>\n",
       "    <tr>\n",
       "      <th>...</th>\n",
       "      <td>...</td>\n",
       "      <td>...</td>\n",
       "      <td>...</td>\n",
       "    </tr>\n",
       "    <tr>\n",
       "      <th>4272</th>\n",
       "      <td>WY</td>\n",
       "      <td>Teton (County)</td>\n",
       "      <td>5</td>\n",
       "    </tr>\n",
       "    <tr>\n",
       "      <th>4273</th>\n",
       "      <td>WY</td>\n",
       "      <td>Uinta (County)</td>\n",
       "      <td>5</td>\n",
       "    </tr>\n",
       "    <tr>\n",
       "      <th>4274</th>\n",
       "      <td>WY</td>\n",
       "      <td>Washakie (County)</td>\n",
       "      <td>5</td>\n",
       "    </tr>\n",
       "    <tr>\n",
       "      <th>4275</th>\n",
       "      <td>WY</td>\n",
       "      <td>Weston (County)</td>\n",
       "      <td>7</td>\n",
       "    </tr>\n",
       "    <tr>\n",
       "      <th>4276</th>\n",
       "      <td>WY</td>\n",
       "      <td>Wind River Indian Reservation</td>\n",
       "      <td>4</td>\n",
       "    </tr>\n",
       "  </tbody>\n",
       "</table>\n",
       "<p>4277 rows × 3 columns</p>\n",
       "</div>"
      ],
      "text/plain": [
       "     facility_state                                             county  \\\n",
       "0                AK  Alaska Gateway Regional Educational Attendance...   \n",
       "1                AK                  Aleutian Islands (Census Subarea)   \n",
       "2                AK  Aleutian Region Regional Educational Attendanc...   \n",
       "3                AK                           Aleutians East (Borough)   \n",
       "4                AK             Aleutians East Borough School District   \n",
       "...             ...                                                ...   \n",
       "4272             WY                                     Teton (County)   \n",
       "4273             WY                                     Uinta (County)   \n",
       "4274             WY                                  Washakie (County)   \n",
       "4275             WY                                    Weston (County)   \n",
       "4276             WY                      Wind River Indian Reservation   \n",
       "\n",
       "      disaster_count  \n",
       "0                  5  \n",
       "1                  1  \n",
       "2                  2  \n",
       "3                  3  \n",
       "4                  1  \n",
       "...              ...  \n",
       "4272               5  \n",
       "4273               5  \n",
       "4274               5  \n",
       "4275               7  \n",
       "4276               4  \n",
       "\n",
       "[4277 rows x 3 columns]"
      ]
     },
     "metadata": {},
     "output_type": "display_data"
    }
   ],
   "source": [
    "# total disasters per county/township within each state\n",
    "county_disasters = (\n",
    "    fema_cleaned.groupby([\"facility_state\", \"designatedArea\"])[\"disasterNumber\"]\n",
    "    .count()\n",
    "    .reset_index()\n",
    ")\n",
    "county_disasters.columns = [\"facility_state\", \"county\", \"disaster_count\"]\n",
    "\n",
    "display(county_disasters)\n"
   ]
  },
  {
   "cell_type": "code",
   "execution_count": 197,
   "id": "b74f80ae-e37f-46cf-9b13-6885c0be7444",
   "metadata": {},
   "outputs": [
    {
     "data": {
      "text/html": [
       "<div>\n",
       "<style scoped>\n",
       "    .dataframe tbody tr th:only-of-type {\n",
       "        vertical-align: middle;\n",
       "    }\n",
       "\n",
       "    .dataframe tbody tr th {\n",
       "        vertical-align: top;\n",
       "    }\n",
       "\n",
       "    .dataframe thead th {\n",
       "        text-align: right;\n",
       "    }\n",
       "</style>\n",
       "<table border=\"1\" class=\"dataframe\">\n",
       "  <thead>\n",
       "    <tr style=\"text-align: right;\">\n",
       "      <th></th>\n",
       "      <th>facility_state</th>\n",
       "      <th>designatedArea</th>\n",
       "      <th>disasterNumber</th>\n",
       "    </tr>\n",
       "  </thead>\n",
       "  <tbody>\n",
       "    <tr>\n",
       "      <th>28</th>\n",
       "      <td>AK</td>\n",
       "      <td>Kenai Peninsula (Borough)</td>\n",
       "      <td>20</td>\n",
       "    </tr>\n",
       "    <tr>\n",
       "      <th>40</th>\n",
       "      <td>AK</td>\n",
       "      <td>Matanuska-Susitna (Borough)</td>\n",
       "      <td>19</td>\n",
       "    </tr>\n",
       "    <tr>\n",
       "      <th>21</th>\n",
       "      <td>AK</td>\n",
       "      <td>Fairbanks North Star (Borough)</td>\n",
       "      <td>14</td>\n",
       "    </tr>\n",
       "    <tr>\n",
       "      <th>64</th>\n",
       "      <td>AK</td>\n",
       "      <td>Tanana (ANV/ANVSA)</td>\n",
       "      <td>12</td>\n",
       "    </tr>\n",
       "    <tr>\n",
       "      <th>39</th>\n",
       "      <td>AK</td>\n",
       "      <td>Lower Yukon Regional Educational Attendance Area</td>\n",
       "      <td>11</td>\n",
       "    </tr>\n",
       "    <tr>\n",
       "      <th>...</th>\n",
       "      <td>...</td>\n",
       "      <td>...</td>\n",
       "      <td>...</td>\n",
       "    </tr>\n",
       "    <tr>\n",
       "      <th>1748</th>\n",
       "      <td>VA</td>\n",
       "      <td>Nelson (County)</td>\n",
       "      <td>27</td>\n",
       "    </tr>\n",
       "    <tr>\n",
       "      <th>1672</th>\n",
       "      <td>VA</td>\n",
       "      <td>Bedford (County)</td>\n",
       "      <td>26</td>\n",
       "    </tr>\n",
       "    <tr>\n",
       "      <th>1701</th>\n",
       "      <td>VA</td>\n",
       "      <td>Essex (County)</td>\n",
       "      <td>26</td>\n",
       "    </tr>\n",
       "    <tr>\n",
       "      <th>1729</th>\n",
       "      <td>VA</td>\n",
       "      <td>King George (County)</td>\n",
       "      <td>26</td>\n",
       "    </tr>\n",
       "    <tr>\n",
       "      <th>1677</th>\n",
       "      <td>VA</td>\n",
       "      <td>Buchanan (County)</td>\n",
       "      <td>25</td>\n",
       "    </tr>\n",
       "  </tbody>\n",
       "</table>\n",
       "<p>95 rows × 3 columns</p>\n",
       "</div>"
      ],
      "text/plain": [
       "     facility_state                                    designatedArea  \\\n",
       "28               AK                         Kenai Peninsula (Borough)   \n",
       "40               AK                       Matanuska-Susitna (Borough)   \n",
       "21               AK                    Fairbanks North Star (Borough)   \n",
       "64               AK                                Tanana (ANV/ANVSA)   \n",
       "39               AK  Lower Yukon Regional Educational Attendance Area   \n",
       "...             ...                                               ...   \n",
       "1748             VA                                   Nelson (County)   \n",
       "1672             VA                                  Bedford (County)   \n",
       "1701             VA                                    Essex (County)   \n",
       "1729             VA                              King George (County)   \n",
       "1677             VA                                 Buchanan (County)   \n",
       "\n",
       "      disasterNumber  \n",
       "28                20  \n",
       "40                19  \n",
       "21                14  \n",
       "64                12  \n",
       "39                11  \n",
       "...              ...  \n",
       "1748              27  \n",
       "1672              26  \n",
       "1701              26  \n",
       "1729              26  \n",
       "1677              25  \n",
       "\n",
       "[95 rows x 3 columns]"
      ]
     },
     "metadata": {},
     "output_type": "display_data"
    }
   ],
   "source": [
    "fema_filtered = fema_cleaned[fema_cleaned[\"facility_state\"].isin(hca_states)]\n",
    "\n",
    "# group by state and designated area, count disasters\n",
    "top_disaster_areas = (\n",
    "    fema_filtered.groupby([\"facility_state\", \"designatedArea\"])[\"disasterNumber\"]\n",
    "    .count()\n",
    "    .reset_index()\n",
    ")\n",
    "\n",
    "top_disaster_areas = top_disaster_areas.sort_values(\n",
    "    [\"facility_state\", \"disasterNumber\"], ascending=[True, False]\n",
    ")\n",
    "\n",
    "\n",
    "top_5_disaster_areas = top_disaster_areas.groupby(\"facility_state\").head(5)\n",
    "\n",
    "\n",
    "display(top_5_disaster_areas)"
   ]
  },
  {
   "cell_type": "code",
   "execution_count": 199,
   "id": "2405297a-d492-406b-b960-05d6decb53d8",
   "metadata": {},
   "outputs": [
    {
     "name": "stderr",
     "output_type": "stream",
     "text": [
      "/var/folders/9p/ps1qpy4n2jx7h5tvpztxhjkc0000gn/T/ipykernel_36555/1817381910.py:21: SettingWithCopyWarning:\n",
      "\n",
      "\n",
      "A value is trying to be set on a copy of a slice from a DataFrame.\n",
      "Try using .loc[row_indexer,col_indexer] = value instead\n",
      "\n",
      "See the caveats in the documentation: https://pandas.pydata.org/pandas-docs/stable/user_guide/indexing.html#returning-a-view-versus-a-copy\n",
      "\n",
      "/var/folders/9p/ps1qpy4n2jx7h5tvpztxhjkc0000gn/T/ipykernel_36555/1817381910.py:21: SettingWithCopyWarning:\n",
      "\n",
      "\n",
      "A value is trying to be set on a copy of a slice from a DataFrame.\n",
      "Try using .loc[row_indexer,col_indexer] = value instead\n",
      "\n",
      "See the caveats in the documentation: https://pandas.pydata.org/pandas-docs/stable/user_guide/indexing.html#returning-a-view-versus-a-copy\n",
      "\n"
     ]
    },
    {
     "data": {
      "text/html": [
       "<div>\n",
       "<style scoped>\n",
       "    .dataframe tbody tr th:only-of-type {\n",
       "        vertical-align: middle;\n",
       "    }\n",
       "\n",
       "    .dataframe tbody tr th {\n",
       "        vertical-align: top;\n",
       "    }\n",
       "\n",
       "    .dataframe thead th {\n",
       "        text-align: right;\n",
       "    }\n",
       "</style>\n",
       "<table border=\"1\" class=\"dataframe\">\n",
       "  <thead>\n",
       "    <tr style=\"text-align: right;\">\n",
       "      <th></th>\n",
       "      <th>facility_state</th>\n",
       "      <th>designatedArea</th>\n",
       "      <th>disasterNumber</th>\n",
       "      <th>latitude</th>\n",
       "      <th>longitude</th>\n",
       "    </tr>\n",
       "  </thead>\n",
       "  <tbody>\n",
       "    <tr>\n",
       "      <th>28</th>\n",
       "      <td>AK</td>\n",
       "      <td>Kenai Peninsula (Borough)</td>\n",
       "      <td>20</td>\n",
       "      <td>60.096827</td>\n",
       "      <td>-151.788033</td>\n",
       "    </tr>\n",
       "    <tr>\n",
       "      <th>40</th>\n",
       "      <td>AK</td>\n",
       "      <td>Matanuska-Susitna (Borough)</td>\n",
       "      <td>19</td>\n",
       "      <td>62.340248</td>\n",
       "      <td>-149.479329</td>\n",
       "    </tr>\n",
       "    <tr>\n",
       "      <th>21</th>\n",
       "      <td>AK</td>\n",
       "      <td>Fairbanks North Star (Borough)</td>\n",
       "      <td>14</td>\n",
       "      <td>64.864904</td>\n",
       "      <td>-146.775162</td>\n",
       "    </tr>\n",
       "    <tr>\n",
       "      <th>64</th>\n",
       "      <td>AK</td>\n",
       "      <td>Tanana (ANV/ANVSA)</td>\n",
       "      <td>12</td>\n",
       "      <td>64.860944</td>\n",
       "      <td>-147.822904</td>\n",
       "    </tr>\n",
       "    <tr>\n",
       "      <th>39</th>\n",
       "      <td>AK</td>\n",
       "      <td>Lower Yukon Regional Educational Attendance Area</td>\n",
       "      <td>11</td>\n",
       "      <td>64.000280</td>\n",
       "      <td>-150.000280</td>\n",
       "    </tr>\n",
       "    <tr>\n",
       "      <th>...</th>\n",
       "      <td>...</td>\n",
       "      <td>...</td>\n",
       "      <td>...</td>\n",
       "      <td>...</td>\n",
       "      <td>...</td>\n",
       "    </tr>\n",
       "    <tr>\n",
       "      <th>1748</th>\n",
       "      <td>VA</td>\n",
       "      <td>Nelson (County)</td>\n",
       "      <td>27</td>\n",
       "      <td>37.775535</td>\n",
       "      <td>-78.897362</td>\n",
       "    </tr>\n",
       "    <tr>\n",
       "      <th>1672</th>\n",
       "      <td>VA</td>\n",
       "      <td>Bedford (County)</td>\n",
       "      <td>26</td>\n",
       "      <td>37.312390</td>\n",
       "      <td>-79.539900</td>\n",
       "    </tr>\n",
       "    <tr>\n",
       "      <th>1701</th>\n",
       "      <td>VA</td>\n",
       "      <td>Essex (County)</td>\n",
       "      <td>26</td>\n",
       "      <td>37.914059</td>\n",
       "      <td>-76.932638</td>\n",
       "    </tr>\n",
       "    <tr>\n",
       "      <th>1729</th>\n",
       "      <td>VA</td>\n",
       "      <td>King George (County)</td>\n",
       "      <td>26</td>\n",
       "      <td>38.278631</td>\n",
       "      <td>-77.175356</td>\n",
       "    </tr>\n",
       "    <tr>\n",
       "      <th>1677</th>\n",
       "      <td>VA</td>\n",
       "      <td>Buchanan (County)</td>\n",
       "      <td>25</td>\n",
       "      <td>37.260045</td>\n",
       "      <td>-82.032033</td>\n",
       "    </tr>\n",
       "  </tbody>\n",
       "</table>\n",
       "<p>95 rows × 5 columns</p>\n",
       "</div>"
      ],
      "text/plain": [
       "     facility_state                                    designatedArea  \\\n",
       "28               AK                         Kenai Peninsula (Borough)   \n",
       "40               AK                       Matanuska-Susitna (Borough)   \n",
       "21               AK                    Fairbanks North Star (Borough)   \n",
       "64               AK                                Tanana (ANV/ANVSA)   \n",
       "39               AK  Lower Yukon Regional Educational Attendance Area   \n",
       "...             ...                                               ...   \n",
       "1748             VA                                   Nelson (County)   \n",
       "1672             VA                                  Bedford (County)   \n",
       "1701             VA                                    Essex (County)   \n",
       "1729             VA                              King George (County)   \n",
       "1677             VA                                 Buchanan (County)   \n",
       "\n",
       "      disasterNumber   latitude   longitude  \n",
       "28                20  60.096827 -151.788033  \n",
       "40                19  62.340248 -149.479329  \n",
       "21                14  64.864904 -146.775162  \n",
       "64                12  64.860944 -147.822904  \n",
       "39                11  64.000280 -150.000280  \n",
       "...              ...        ...         ...  \n",
       "1748              27  37.775535  -78.897362  \n",
       "1672              26  37.312390  -79.539900  \n",
       "1701              26  37.914059  -76.932638  \n",
       "1729              26  38.278631  -77.175356  \n",
       "1677              25  37.260045  -82.032033  \n",
       "\n",
       "[95 rows x 5 columns]"
      ]
     },
     "metadata": {},
     "output_type": "display_data"
    }
   ],
   "source": [
    "import requests\n",
    "import time\n",
    "\n",
    "# get lat/lon from opencage API\n",
    "def get_coordinates(area, state):\n",
    "    api_key = \"your_api_key_here\"\n",
    "    url = f\"https://api.opencagedata.com/geocode/v1/json?q={area}, {state}, USA&key={\"your_api_key_here\"}\"\n",
    "\n",
    "    try:\n",
    "        response = requests.get(url).json()\n",
    "        if response[\"results\"]:\n",
    "            lat = response[\"results\"][0][\"geometry\"][\"lat\"]\n",
    "            lon = response[\"results\"][0][\"geometry\"][\"lng\"]\n",
    "            return lat, lon\n",
    "    except Exception as e:\n",
    "        print(f\"Error fetching coordinates for {area}, {state}: {e}\")\n",
    "\n",
    "    return None, None\n",
    "\n",
    "# apply function to each designated area\n",
    "top_5_disaster_areas.loc[:, \"latitude\"], top_5_disaster_areas.loc[:, \"longitude\"] = zip(\n",
    "    *top_5_disaster_areas.apply(lambda row: get_coordinates(row[\"designatedArea\"], row[\"facility_state\"]), axis=1)\n",
    ")\n",
    "\n",
    "display(top_5_disaster_areas)\n"
   ]
  },
  {
   "cell_type": "code",
   "execution_count": 200,
   "id": "3d60aba6-f19d-4839-902e-a1eb1fc717b8",
   "metadata": {},
   "outputs": [
    {
     "data": {
      "application/vnd.plotly.v1+json": {
       "config": {
        "plotlyServerURL": "https://plot.ly"
       },
       "data": [
        {
         "customdata": [
          [
           "CA",
           "Los Angeles (County)",
           87
          ],
          [
           "CA",
           "Riverside (County)",
           65
          ],
          [
           "CA",
           "San Bernardino (County)",
           61
          ],
          [
           "CA",
           "Ventura (County)",
           52
          ],
          [
           "CA",
           "San Diego (County)",
           51
          ],
          [
           "FL",
           "Collier (County)",
           54
          ],
          [
           "FL",
           "Manatee (County)",
           50
          ],
          [
           "FL",
           "Bay (County)",
           49
          ],
          [
           "FL",
           "Sarasota (County)",
           48
          ],
          [
           "FL",
           "Gulf (County)",
           47
          ],
          [
           "GA",
           "Ware (County)",
           24
          ],
          [
           "GA",
           "Brantley (County)",
           22
          ],
          [
           "GA",
           "Lumpkin (County)",
           22
          ],
          [
           "GA",
           "McIntosh (County)",
           22
          ],
          [
           "GA",
           "Tattnall (County)",
           22
          ],
          [
           "IN",
           "Jefferson (County)",
           22
          ],
          [
           "IN",
           "Gibson (County)",
           21
          ],
          [
           "IN",
           "Lake (County)",
           21
          ],
          [
           "IN",
           "Benton (County)",
           20
          ],
          [
           "IN",
           "Franklin (County)",
           20
          ],
          [
           "KS",
           "Butler (County)",
           27
          ],
          [
           "KS",
           "Pawnee (County)",
           27
          ],
          [
           "KS",
           "Barton (County)",
           26
          ],
          [
           "KS",
           "Lyon (County)",
           26
          ],
          [
           "KS",
           "Cherokee (County)",
           25
          ],
          [
           "KY",
           "Lawrence (County)",
           44
          ],
          [
           "KY",
           "Magoffin (County)",
           44
          ],
          [
           "KY",
           "Breathitt (County)",
           43
          ],
          [
           "KY",
           "Floyd (County)",
           43
          ],
          [
           "KY",
           "Johnson (County)",
           43
          ],
          [
           "LA",
           "St. Martin (Parish)",
           53
          ],
          [
           "LA",
           "Lafourche (Parish)",
           52
          ],
          [
           "LA",
           "Livingston (Parish)",
           51
          ],
          [
           "LA",
           "Terrebonne (Parish)",
           51
          ],
          [
           "LA",
           "St. Charles (Parish)",
           50
          ],
          [
           "MO",
           "Ray (County)",
           33
          ],
          [
           "MO",
           "St. Louis (County)",
           32
          ],
          [
           "MO",
           "Andrew (County)",
           31
          ],
          [
           "MO",
           "Ste. Genevieve (County)",
           30
          ],
          [
           "MO",
           "Jefferson (County)",
           29
          ],
          [
           "NC",
           "Brunswick (County)",
           33
          ],
          [
           "NC",
           "Beaufort (County)",
           31
          ],
          [
           "NC",
           "Craven (County)",
           31
          ],
          [
           "NC",
           "Hyde (County)",
           31
          ],
          [
           "NC",
           "New Hanover (County)",
           31
          ],
          [
           "SC",
           "Horry (County)",
           32
          ],
          [
           "SC",
           "Orangeburg (County)",
           30
          ],
          [
           "SC",
           "Berkeley (County)",
           29
          ],
          [
           "SC",
           "Calhoun (County)",
           29
          ],
          [
           "SC",
           "Georgetown (County)",
           29
          ],
          [
           "TN",
           "Jackson (County)",
           32
          ],
          [
           "TN",
           "Davidson (County)",
           24
          ],
          [
           "TN",
           "Decatur (County)",
           24
          ],
          [
           "TN",
           "Gibson (County)",
           24
          ],
          [
           "TN",
           "Hardin (County)",
           24
          ],
          [
           "TX",
           "Statewide",
           103
          ],
          [
           "TX",
           "Harris (County)",
           41
          ],
          [
           "TX",
           "Walker (County)",
           39
          ],
          [
           "TX",
           "Liberty (County)",
           38
          ],
          [
           "TX",
           "Montgomery (County)",
           38
          ],
          [
           "VA",
           "Nelson (County)",
           27
          ],
          [
           "VA",
           "Bedford (County)",
           26
          ],
          [
           "VA",
           "Essex (County)",
           26
          ],
          [
           "VA",
           "King George (County)",
           26
          ],
          [
           "VA",
           "Buchanan (County)",
           25
          ]
         ],
         "geo": "geo",
         "hovertemplate": "<b>%{hovertext}</b><br><br>disasterNumber=%{customdata[2]}<br>latitude=%{lat}<br>longitude=%{lon}<br>facility_state=%{customdata[0]}<br>designatedArea=%{customdata[1]}<extra></extra>",
         "hovertext": [
          "Los Angeles (County)",
          "Riverside (County)",
          "San Bernardino (County)",
          "Ventura (County)",
          "San Diego (County)",
          "Collier (County)",
          "Manatee (County)",
          "Bay (County)",
          "Sarasota (County)",
          "Gulf (County)",
          "Ware (County)",
          "Brantley (County)",
          "Lumpkin (County)",
          "McIntosh (County)",
          "Tattnall (County)",
          "Jefferson (County)",
          "Gibson (County)",
          "Lake (County)",
          "Benton (County)",
          "Franklin (County)",
          "Butler (County)",
          "Pawnee (County)",
          "Barton (County)",
          "Lyon (County)",
          "Cherokee (County)",
          "Lawrence (County)",
          "Magoffin (County)",
          "Breathitt (County)",
          "Floyd (County)",
          "Johnson (County)",
          "St. Martin (Parish)",
          "Lafourche (Parish)",
          "Livingston (Parish)",
          "Terrebonne (Parish)",
          "St. Charles (Parish)",
          "Ray (County)",
          "St. Louis (County)",
          "Andrew (County)",
          "Ste. Genevieve (County)",
          "Jefferson (County)",
          "Brunswick (County)",
          "Beaufort (County)",
          "Craven (County)",
          "Hyde (County)",
          "New Hanover (County)",
          "Horry (County)",
          "Orangeburg (County)",
          "Berkeley (County)",
          "Calhoun (County)",
          "Georgetown (County)",
          "Jackson (County)",
          "Davidson (County)",
          "Decatur (County)",
          "Gibson (County)",
          "Hardin (County)",
          "Statewide",
          "Harris (County)",
          "Walker (County)",
          "Liberty (County)",
          "Montgomery (County)",
          "Nelson (County)",
          "Bedford (County)",
          "Essex (County)",
          "King George (County)",
          "Buchanan (County)"
         ],
         "lat": [
          34.3155072,
          33.7219991,
          34.8253019,
          34.4458248,
          32.9637838,
          26.087964,
          27.5213933,
          30.2481693,
          27.1813609,
          29.9665252,
          31.1727229,
          31.1928547,
          34.5546076,
          31.4979689,
          32.0252793,
          38.8166724,
          38.3079744,
          41.4193829,
          40.6034281,
          39.4149034,
          37.77924,
          38.1858758,
          38.4683432,
          38.4573987,
          37.1718068,
          38.0601807,
          37.6859873,
          37.5248869,
          37.5473459,
          37.8397984,
          30.1811426,
          29.5820155,
          30.4158699,
          29.4616211,
          29.8883177,
          39.3661726,
          38.6398744,
          39.9845508,
          37.88958,
          38.267166,
          34.0718195,
          35.469331,
          35.0808574,
          35.3935017,
          34.2751052,
          33.9204504,
          33.4054944,
          33.1595951,
          33.6567769,
          33.4392245,
          36.362299,
          36.189724,
          35.6067875,
          35.9745692,
          35.1946569,
          30.3501915,
          29.8119769,
          30.6795741,
          30.0856736,
          30.301949,
          37.7755351,
          37.3123905,
          37.9140592,
          38.2786312,
          37.2600448
         ],
         "legendgroup": "",
         "lon": [
          -118.209681,
          -116.0372472,
          -116.0833144,
          -119.0779359,
          -116.7706277,
          -81.3794941,
          -82.3801566,
          -85.6593633,
          -82.3609195,
          -85.2175889,
          -82.4829338,
          -81.9943569,
          -83.9926806,
          -81.3921575,
          -82.0580692,
          -85.4299489,
          -87.5775949,
          -87.3692227,
          -87.3235164,
          -85.0563234,
          -96.8456342,
          -99.240825,
          -98.776234,
          -96.1683124,
          -94.8482069,
          -82.7316588,
          -83.039044,
          -83.2943551,
          -82.7645621,
          -82.8159642,
          -91.6081116,
          -90.3964889,
          -90.7189344,
          -90.8705871,
          -90.3794968,
          -93.9888262,
          -90.5188128,
          -94.8090258,
          -90.1856637,
          -90.5721889,
          -78.1914215,
          -76.8927522,
          -77.0439978,
          -76.1253302,
          -77.8818627,
          -78.9578973,
          -80.778429,
          -79.9070461,
          -80.7603948,
          -79.3343041,
          -85.6654772,
          -86.7857862,
          -88.1083982,
          -88.932729,
          -88.1857563,
          -97.494516,
          -95.3741247,
          -95.5522823,
          -94.7856262,
          -95.5065944,
          -78.8973622,
          -79.5399003,
          -76.9326385,
          -77.175356,
          -82.0320334
         ],
         "marker": {
          "color": "#636efa",
          "size": [
           87,
           65,
           61,
           52,
           51,
           54,
           50,
           49,
           48,
           47,
           24,
           22,
           22,
           22,
           22,
           22,
           21,
           21,
           20,
           20,
           27,
           27,
           26,
           26,
           25,
           44,
           44,
           43,
           43,
           43,
           53,
           52,
           51,
           51,
           50,
           33,
           32,
           31,
           30,
           29,
           33,
           31,
           31,
           31,
           31,
           32,
           30,
           29,
           29,
           29,
           32,
           24,
           24,
           24,
           24,
           103,
           41,
           39,
           38,
           38,
           27,
           26,
           26,
           26,
           25
          ],
          "sizemode": "area",
          "sizeref": 0.2575,
          "symbol": "circle"
         },
         "mode": "markers",
         "name": "",
         "showlegend": false,
         "type": "scattergeo"
        }
       ],
       "layout": {
        "autosize": true,
        "geo": {
         "center": {
          "lat": 38.711010027884214,
          "lon": -96.63418780434088
         },
         "domain": {
          "x": [
           0,
           1
          ],
          "y": [
           0,
           1
          ]
         },
         "projection": {
          "scale": 1.0015415140218509
         },
         "scope": "usa"
        },
        "legend": {
         "itemsizing": "constant",
         "tracegroupgap": 0
        },
        "template": {
         "data": {
          "bar": [
           {
            "error_x": {
             "color": "#2a3f5f"
            },
            "error_y": {
             "color": "#2a3f5f"
            },
            "marker": {
             "line": {
              "color": "#E5ECF6",
              "width": 0.5
             },
             "pattern": {
              "fillmode": "overlay",
              "size": 10,
              "solidity": 0.2
             }
            },
            "type": "bar"
           }
          ],
          "barpolar": [
           {
            "marker": {
             "line": {
              "color": "#E5ECF6",
              "width": 0.5
             },
             "pattern": {
              "fillmode": "overlay",
              "size": 10,
              "solidity": 0.2
             }
            },
            "type": "barpolar"
           }
          ],
          "carpet": [
           {
            "aaxis": {
             "endlinecolor": "#2a3f5f",
             "gridcolor": "white",
             "linecolor": "white",
             "minorgridcolor": "white",
             "startlinecolor": "#2a3f5f"
            },
            "baxis": {
             "endlinecolor": "#2a3f5f",
             "gridcolor": "white",
             "linecolor": "white",
             "minorgridcolor": "white",
             "startlinecolor": "#2a3f5f"
            },
            "type": "carpet"
           }
          ],
          "choropleth": [
           {
            "colorbar": {
             "outlinewidth": 0,
             "ticks": ""
            },
            "type": "choropleth"
           }
          ],
          "contour": [
           {
            "colorbar": {
             "outlinewidth": 0,
             "ticks": ""
            },
            "colorscale": [
             [
              0,
              "#0d0887"
             ],
             [
              0.1111111111111111,
              "#46039f"
             ],
             [
              0.2222222222222222,
              "#7201a8"
             ],
             [
              0.3333333333333333,
              "#9c179e"
             ],
             [
              0.4444444444444444,
              "#bd3786"
             ],
             [
              0.5555555555555556,
              "#d8576b"
             ],
             [
              0.6666666666666666,
              "#ed7953"
             ],
             [
              0.7777777777777778,
              "#fb9f3a"
             ],
             [
              0.8888888888888888,
              "#fdca26"
             ],
             [
              1,
              "#f0f921"
             ]
            ],
            "type": "contour"
           }
          ],
          "contourcarpet": [
           {
            "colorbar": {
             "outlinewidth": 0,
             "ticks": ""
            },
            "type": "contourcarpet"
           }
          ],
          "heatmap": [
           {
            "colorbar": {
             "outlinewidth": 0,
             "ticks": ""
            },
            "colorscale": [
             [
              0,
              "#0d0887"
             ],
             [
              0.1111111111111111,
              "#46039f"
             ],
             [
              0.2222222222222222,
              "#7201a8"
             ],
             [
              0.3333333333333333,
              "#9c179e"
             ],
             [
              0.4444444444444444,
              "#bd3786"
             ],
             [
              0.5555555555555556,
              "#d8576b"
             ],
             [
              0.6666666666666666,
              "#ed7953"
             ],
             [
              0.7777777777777778,
              "#fb9f3a"
             ],
             [
              0.8888888888888888,
              "#fdca26"
             ],
             [
              1,
              "#f0f921"
             ]
            ],
            "type": "heatmap"
           }
          ],
          "heatmapgl": [
           {
            "colorbar": {
             "outlinewidth": 0,
             "ticks": ""
            },
            "colorscale": [
             [
              0,
              "#0d0887"
             ],
             [
              0.1111111111111111,
              "#46039f"
             ],
             [
              0.2222222222222222,
              "#7201a8"
             ],
             [
              0.3333333333333333,
              "#9c179e"
             ],
             [
              0.4444444444444444,
              "#bd3786"
             ],
             [
              0.5555555555555556,
              "#d8576b"
             ],
             [
              0.6666666666666666,
              "#ed7953"
             ],
             [
              0.7777777777777778,
              "#fb9f3a"
             ],
             [
              0.8888888888888888,
              "#fdca26"
             ],
             [
              1,
              "#f0f921"
             ]
            ],
            "type": "heatmapgl"
           }
          ],
          "histogram": [
           {
            "marker": {
             "pattern": {
              "fillmode": "overlay",
              "size": 10,
              "solidity": 0.2
             }
            },
            "type": "histogram"
           }
          ],
          "histogram2d": [
           {
            "colorbar": {
             "outlinewidth": 0,
             "ticks": ""
            },
            "colorscale": [
             [
              0,
              "#0d0887"
             ],
             [
              0.1111111111111111,
              "#46039f"
             ],
             [
              0.2222222222222222,
              "#7201a8"
             ],
             [
              0.3333333333333333,
              "#9c179e"
             ],
             [
              0.4444444444444444,
              "#bd3786"
             ],
             [
              0.5555555555555556,
              "#d8576b"
             ],
             [
              0.6666666666666666,
              "#ed7953"
             ],
             [
              0.7777777777777778,
              "#fb9f3a"
             ],
             [
              0.8888888888888888,
              "#fdca26"
             ],
             [
              1,
              "#f0f921"
             ]
            ],
            "type": "histogram2d"
           }
          ],
          "histogram2dcontour": [
           {
            "colorbar": {
             "outlinewidth": 0,
             "ticks": ""
            },
            "colorscale": [
             [
              0,
              "#0d0887"
             ],
             [
              0.1111111111111111,
              "#46039f"
             ],
             [
              0.2222222222222222,
              "#7201a8"
             ],
             [
              0.3333333333333333,
              "#9c179e"
             ],
             [
              0.4444444444444444,
              "#bd3786"
             ],
             [
              0.5555555555555556,
              "#d8576b"
             ],
             [
              0.6666666666666666,
              "#ed7953"
             ],
             [
              0.7777777777777778,
              "#fb9f3a"
             ],
             [
              0.8888888888888888,
              "#fdca26"
             ],
             [
              1,
              "#f0f921"
             ]
            ],
            "type": "histogram2dcontour"
           }
          ],
          "mesh3d": [
           {
            "colorbar": {
             "outlinewidth": 0,
             "ticks": ""
            },
            "type": "mesh3d"
           }
          ],
          "parcoords": [
           {
            "line": {
             "colorbar": {
              "outlinewidth": 0,
              "ticks": ""
             }
            },
            "type": "parcoords"
           }
          ],
          "pie": [
           {
            "automargin": true,
            "type": "pie"
           }
          ],
          "scatter": [
           {
            "fillpattern": {
             "fillmode": "overlay",
             "size": 10,
             "solidity": 0.2
            },
            "type": "scatter"
           }
          ],
          "scatter3d": [
           {
            "line": {
             "colorbar": {
              "outlinewidth": 0,
              "ticks": ""
             }
            },
            "marker": {
             "colorbar": {
              "outlinewidth": 0,
              "ticks": ""
             }
            },
            "type": "scatter3d"
           }
          ],
          "scattercarpet": [
           {
            "marker": {
             "colorbar": {
              "outlinewidth": 0,
              "ticks": ""
             }
            },
            "type": "scattercarpet"
           }
          ],
          "scattergeo": [
           {
            "marker": {
             "colorbar": {
              "outlinewidth": 0,
              "ticks": ""
             }
            },
            "type": "scattergeo"
           }
          ],
          "scattergl": [
           {
            "marker": {
             "colorbar": {
              "outlinewidth": 0,
              "ticks": ""
             }
            },
            "type": "scattergl"
           }
          ],
          "scattermapbox": [
           {
            "marker": {
             "colorbar": {
              "outlinewidth": 0,
              "ticks": ""
             }
            },
            "type": "scattermapbox"
           }
          ],
          "scatterpolar": [
           {
            "marker": {
             "colorbar": {
              "outlinewidth": 0,
              "ticks": ""
             }
            },
            "type": "scatterpolar"
           }
          ],
          "scatterpolargl": [
           {
            "marker": {
             "colorbar": {
              "outlinewidth": 0,
              "ticks": ""
             }
            },
            "type": "scatterpolargl"
           }
          ],
          "scatterternary": [
           {
            "marker": {
             "colorbar": {
              "outlinewidth": 0,
              "ticks": ""
             }
            },
            "type": "scatterternary"
           }
          ],
          "surface": [
           {
            "colorbar": {
             "outlinewidth": 0,
             "ticks": ""
            },
            "colorscale": [
             [
              0,
              "#0d0887"
             ],
             [
              0.1111111111111111,
              "#46039f"
             ],
             [
              0.2222222222222222,
              "#7201a8"
             ],
             [
              0.3333333333333333,
              "#9c179e"
             ],
             [
              0.4444444444444444,
              "#bd3786"
             ],
             [
              0.5555555555555556,
              "#d8576b"
             ],
             [
              0.6666666666666666,
              "#ed7953"
             ],
             [
              0.7777777777777778,
              "#fb9f3a"
             ],
             [
              0.8888888888888888,
              "#fdca26"
             ],
             [
              1,
              "#f0f921"
             ]
            ],
            "type": "surface"
           }
          ],
          "table": [
           {
            "cells": {
             "fill": {
              "color": "#EBF0F8"
             },
             "line": {
              "color": "white"
             }
            },
            "header": {
             "fill": {
              "color": "#C8D4E3"
             },
             "line": {
              "color": "white"
             }
            },
            "type": "table"
           }
          ]
         },
         "layout": {
          "annotationdefaults": {
           "arrowcolor": "#2a3f5f",
           "arrowhead": 0,
           "arrowwidth": 1
          },
          "autotypenumbers": "strict",
          "coloraxis": {
           "colorbar": {
            "outlinewidth": 0,
            "ticks": ""
           }
          },
          "colorscale": {
           "diverging": [
            [
             0,
             "#8e0152"
            ],
            [
             0.1,
             "#c51b7d"
            ],
            [
             0.2,
             "#de77ae"
            ],
            [
             0.3,
             "#f1b6da"
            ],
            [
             0.4,
             "#fde0ef"
            ],
            [
             0.5,
             "#f7f7f7"
            ],
            [
             0.6,
             "#e6f5d0"
            ],
            [
             0.7,
             "#b8e186"
            ],
            [
             0.8,
             "#7fbc41"
            ],
            [
             0.9,
             "#4d9221"
            ],
            [
             1,
             "#276419"
            ]
           ],
           "sequential": [
            [
             0,
             "#0d0887"
            ],
            [
             0.1111111111111111,
             "#46039f"
            ],
            [
             0.2222222222222222,
             "#7201a8"
            ],
            [
             0.3333333333333333,
             "#9c179e"
            ],
            [
             0.4444444444444444,
             "#bd3786"
            ],
            [
             0.5555555555555556,
             "#d8576b"
            ],
            [
             0.6666666666666666,
             "#ed7953"
            ],
            [
             0.7777777777777778,
             "#fb9f3a"
            ],
            [
             0.8888888888888888,
             "#fdca26"
            ],
            [
             1,
             "#f0f921"
            ]
           ],
           "sequentialminus": [
            [
             0,
             "#0d0887"
            ],
            [
             0.1111111111111111,
             "#46039f"
            ],
            [
             0.2222222222222222,
             "#7201a8"
            ],
            [
             0.3333333333333333,
             "#9c179e"
            ],
            [
             0.4444444444444444,
             "#bd3786"
            ],
            [
             0.5555555555555556,
             "#d8576b"
            ],
            [
             0.6666666666666666,
             "#ed7953"
            ],
            [
             0.7777777777777778,
             "#fb9f3a"
            ],
            [
             0.8888888888888888,
             "#fdca26"
            ],
            [
             1,
             "#f0f921"
            ]
           ]
          },
          "colorway": [
           "#636efa",
           "#EF553B",
           "#00cc96",
           "#ab63fa",
           "#FFA15A",
           "#19d3f3",
           "#FF6692",
           "#B6E880",
           "#FF97FF",
           "#FECB52"
          ],
          "font": {
           "color": "#2a3f5f"
          },
          "geo": {
           "bgcolor": "white",
           "lakecolor": "white",
           "landcolor": "#E5ECF6",
           "showlakes": true,
           "showland": true,
           "subunitcolor": "white"
          },
          "hoverlabel": {
           "align": "left"
          },
          "hovermode": "closest",
          "mapbox": {
           "style": "light"
          },
          "paper_bgcolor": "white",
          "plot_bgcolor": "#E5ECF6",
          "polar": {
           "angularaxis": {
            "gridcolor": "white",
            "linecolor": "white",
            "ticks": ""
           },
           "bgcolor": "#E5ECF6",
           "radialaxis": {
            "gridcolor": "white",
            "linecolor": "white",
            "ticks": ""
           }
          },
          "scene": {
           "xaxis": {
            "backgroundcolor": "#E5ECF6",
            "gridcolor": "white",
            "gridwidth": 2,
            "linecolor": "white",
            "showbackground": true,
            "ticks": "",
            "zerolinecolor": "white"
           },
           "yaxis": {
            "backgroundcolor": "#E5ECF6",
            "gridcolor": "white",
            "gridwidth": 2,
            "linecolor": "white",
            "showbackground": true,
            "ticks": "",
            "zerolinecolor": "white"
           },
           "zaxis": {
            "backgroundcolor": "#E5ECF6",
            "gridcolor": "white",
            "gridwidth": 2,
            "linecolor": "white",
            "showbackground": true,
            "ticks": "",
            "zerolinecolor": "white"
           }
          },
          "shapedefaults": {
           "line": {
            "color": "#2a3f5f"
           }
          },
          "ternary": {
           "aaxis": {
            "gridcolor": "white",
            "linecolor": "white",
            "ticks": ""
           },
           "baxis": {
            "gridcolor": "white",
            "linecolor": "white",
            "ticks": ""
           },
           "bgcolor": "#E5ECF6",
           "caxis": {
            "gridcolor": "white",
            "linecolor": "white",
            "ticks": ""
           }
          },
          "title": {
           "x": 0.05
          },
          "xaxis": {
           "automargin": true,
           "gridcolor": "white",
           "linecolor": "white",
           "ticks": "",
           "title": {
            "standoff": 15
           },
           "zerolinecolor": "white",
           "zerolinewidth": 2
          },
          "yaxis": {
           "automargin": true,
           "gridcolor": "white",
           "linecolor": "white",
           "ticks": "",
           "title": {
            "standoff": 15
           },
           "zerolinecolor": "white",
           "zerolinewidth": 2
          }
         }
        },
        "title": {
         "text": "Top 5 Disaster-Prone Areas in HCA States with Over 1,000 Disasters"
        }
       }
      },
      "image/png": "[encoded data removed]",
      "text/html": [
       "<div>                            <div id=\"886457d5-de54-4ee1-9c3c-4516c4fc302c\" class=\"plotly-graph-div\" style=\"height:525px; width:100%;\"></div>            <script type=\"text/javascript\">                require([\"plotly\"], function(Plotly) {                    window.PLOTLYENV=window.PLOTLYENV || {};                                    if (document.getElementById(\"886457d5-de54-4ee1-9c3c-4516c4fc302c\")) {                    Plotly.newPlot(                        \"886457d5-de54-4ee1-9c3c-4516c4fc302c\",                        [{\"customdata\":[[\"CA\",\"Los Angeles (County)\",87],[\"CA\",\"Riverside (County)\",65],[\"CA\",\"San Bernardino (County)\",61],[\"CA\",\"Ventura (County)\",52],[\"CA\",\"San Diego (County)\",51],[\"FL\",\"Collier (County)\",54],[\"FL\",\"Manatee (County)\",50],[\"FL\",\"Bay (County)\",49],[\"FL\",\"Sarasota (County)\",48],[\"FL\",\"Gulf (County)\",47],[\"GA\",\"Ware (County)\",24],[\"GA\",\"Brantley (County)\",22],[\"GA\",\"Lumpkin (County)\",22],[\"GA\",\"McIntosh (County)\",22],[\"GA\",\"Tattnall (County)\",22],[\"IN\",\"Jefferson (County)\",22],[\"IN\",\"Gibson (County)\",21],[\"IN\",\"Lake (County)\",21],[\"IN\",\"Benton (County)\",20],[\"IN\",\"Franklin (County)\",20],[\"KS\",\"Butler (County)\",27],[\"KS\",\"Pawnee (County)\",27],[\"KS\",\"Barton (County)\",26],[\"KS\",\"Lyon (County)\",26],[\"KS\",\"Cherokee (County)\",25],[\"KY\",\"Lawrence (County)\",44],[\"KY\",\"Magoffin (County)\",44],[\"KY\",\"Breathitt (County)\",43],[\"KY\",\"Floyd (County)\",43],[\"KY\",\"Johnson (County)\",43],[\"LA\",\"St. Martin (Parish)\",53],[\"LA\",\"Lafourche (Parish)\",52],[\"LA\",\"Livingston (Parish)\",51],[\"LA\",\"Terrebonne (Parish)\",51],[\"LA\",\"St. Charles (Parish)\",50],[\"MO\",\"Ray (County)\",33],[\"MO\",\"St. Louis (County)\",32],[\"MO\",\"Andrew (County)\",31],[\"MO\",\"Ste. Genevieve (County)\",30],[\"MO\",\"Jefferson (County)\",29],[\"NC\",\"Brunswick (County)\",33],[\"NC\",\"Beaufort (County)\",31],[\"NC\",\"Craven (County)\",31],[\"NC\",\"Hyde (County)\",31],[\"NC\",\"New Hanover (County)\",31],[\"SC\",\"Horry (County)\",32],[\"SC\",\"Orangeburg (County)\",30],[\"SC\",\"Berkeley (County)\",29],[\"SC\",\"Calhoun (County)\",29],[\"SC\",\"Georgetown (County)\",29],[\"TN\",\"Jackson (County)\",32],[\"TN\",\"Davidson (County)\",24],[\"TN\",\"Decatur (County)\",24],[\"TN\",\"Gibson (County)\",24],[\"TN\",\"Hardin (County)\",24],[\"TX\",\"Statewide\",103],[\"TX\",\"Harris (County)\",41],[\"TX\",\"Walker (County)\",39],[\"TX\",\"Liberty (County)\",38],[\"TX\",\"Montgomery (County)\",38],[\"VA\",\"Nelson (County)\",27],[\"VA\",\"Bedford (County)\",26],[\"VA\",\"Essex (County)\",26],[\"VA\",\"King George (County)\",26],[\"VA\",\"Buchanan (County)\",25]],\"geo\":\"geo\",\"hovertemplate\":\"\\u003cb\\u003e%{hovertext}\\u003c\\u002fb\\u003e\\u003cbr\\u003e\\u003cbr\\u003edisasterNumber=%{customdata[2]}\\u003cbr\\u003elatitude=%{lat}\\u003cbr\\u003elongitude=%{lon}\\u003cbr\\u003efacility_state=%{customdata[0]}\\u003cbr\\u003edesignatedArea=%{customdata[1]}\\u003cextra\\u003e\\u003c\\u002fextra\\u003e\",\"hovertext\":[\"Los Angeles (County)\",\"Riverside (County)\",\"San Bernardino (County)\",\"Ventura (County)\",\"San Diego (County)\",\"Collier (County)\",\"Manatee (County)\",\"Bay (County)\",\"Sarasota (County)\",\"Gulf (County)\",\"Ware (County)\",\"Brantley (County)\",\"Lumpkin (County)\",\"McIntosh (County)\",\"Tattnall (County)\",\"Jefferson (County)\",\"Gibson (County)\",\"Lake (County)\",\"Benton (County)\",\"Franklin (County)\",\"Butler (County)\",\"Pawnee (County)\",\"Barton (County)\",\"Lyon (County)\",\"Cherokee (County)\",\"Lawrence (County)\",\"Magoffin (County)\",\"Breathitt (County)\",\"Floyd (County)\",\"Johnson (County)\",\"St. Martin (Parish)\",\"Lafourche (Parish)\",\"Livingston (Parish)\",\"Terrebonne (Parish)\",\"St. Charles (Parish)\",\"Ray (County)\",\"St. Louis (County)\",\"Andrew (County)\",\"Ste. Genevieve (County)\",\"Jefferson (County)\",\"Brunswick (County)\",\"Beaufort (County)\",\"Craven (County)\",\"Hyde (County)\",\"New Hanover (County)\",\"Horry (County)\",\"Orangeburg (County)\",\"Berkeley (County)\",\"Calhoun (County)\",\"Georgetown (County)\",\"Jackson (County)\",\"Davidson (County)\",\"Decatur (County)\",\"Gibson (County)\",\"Hardin (County)\",\"Statewide\",\"Harris (County)\",\"Walker (County)\",\"Liberty (County)\",\"Montgomery (County)\",\"Nelson (County)\",\"Bedford (County)\",\"Essex (County)\",\"King George (County)\",\"Buchanan (County)\"],\"lat\":[34.3155072,33.7219991,34.8253019,34.4458248,32.9637838,26.087964,27.5213933,30.2481693,27.1813609,29.9665252,31.1727229,31.1928547,34.5546076,31.4979689,32.0252793,38.8166724,38.3079744,41.4193829,40.6034281,39.4149034,37.77924,38.1858758,38.4683432,38.4573987,37.1718068,38.0601807,37.6859873,37.5248869,37.5473459,37.8397984,30.1811426,29.5820155,30.4158699,29.4616211,29.8883177,39.3661726,38.6398744,39.9845508,37.88958,38.267166,34.0718195,35.469331,35.0808574,35.3935017,34.2751052,33.9204504,33.4054944,33.1595951,33.6567769,33.4392245,36.362299,36.189724,35.6067875,35.9745692,35.1946569,30.3501915,29.8119769,30.6795741,30.0856736,30.301949,37.7755351,37.3123905,37.9140592,38.2786312,37.2600448],\"legendgroup\":\"\",\"lon\":[-118.209681,-116.0372472,-116.0833144,-119.0779359,-116.7706277,-81.3794941,-82.3801566,-85.6593633,-82.3609195,-85.2175889,-82.4829338,-81.9943569,-83.9926806,-81.3921575,-82.0580692,-85.4299489,-87.5775949,-87.3692227,-87.3235164,-85.0563234,-96.8456342,-99.240825,-98.776234,-96.1683124,-94.8482069,-82.7316588,-83.039044,-83.2943551,-82.7645621,-82.8159642,-91.6081116,-90.3964889,-90.7189344,-90.8705871,-90.3794968,-93.9888262,-90.5188128,-94.8090258,-90.1856637,-90.5721889,-78.1914215,-76.8927522,-77.0439978,-76.1253302,-77.8818627,-78.9578973,-80.778429,-79.9070461,-80.7603948,-79.3343041,-85.6654772,-86.7857862,-88.1083982,-88.932729,-88.1857563,-97.494516,-95.3741247,-95.5522823,-94.7856262,-95.5065944,-78.8973622,-79.5399003,-76.9326385,-77.175356,-82.0320334],\"marker\":{\"color\":\"#636efa\",\"size\":[87,65,61,52,51,54,50,49,48,47,24,22,22,22,22,22,21,21,20,20,27,27,26,26,25,44,44,43,43,43,53,52,51,51,50,33,32,31,30,29,33,31,31,31,31,32,30,29,29,29,32,24,24,24,24,103,41,39,38,38,27,26,26,26,25],\"sizemode\":\"area\",\"sizeref\":0.2575,\"symbol\":\"circle\"},\"mode\":\"markers\",\"name\":\"\",\"showlegend\":false,\"type\":\"scattergeo\"}],                        {\"template\":{\"data\":{\"histogram2dcontour\":[{\"type\":\"histogram2dcontour\",\"colorbar\":{\"outlinewidth\":0,\"ticks\":\"\"},\"colorscale\":[[0.0,\"#0d0887\"],[0.1111111111111111,\"#46039f\"],[0.2222222222222222,\"#7201a8\"],[0.3333333333333333,\"#9c179e\"],[0.4444444444444444,\"#bd3786\"],[0.5555555555555556,\"#d8576b\"],[0.6666666666666666,\"#ed7953\"],[0.7777777777777778,\"#fb9f3a\"],[0.8888888888888888,\"#fdca26\"],[1.0,\"#f0f921\"]]}],\"choropleth\":[{\"type\":\"choropleth\",\"colorbar\":{\"outlinewidth\":0,\"ticks\":\"\"}}],\"histogram2d\":[{\"type\":\"histogram2d\",\"colorbar\":{\"outlinewidth\":0,\"ticks\":\"\"},\"colorscale\":[[0.0,\"#0d0887\"],[0.1111111111111111,\"#46039f\"],[0.2222222222222222,\"#7201a8\"],[0.3333333333333333,\"#9c179e\"],[0.4444444444444444,\"#bd3786\"],[0.5555555555555556,\"#d8576b\"],[0.6666666666666666,\"#ed7953\"],[0.7777777777777778,\"#fb9f3a\"],[0.8888888888888888,\"#fdca26\"],[1.0,\"#f0f921\"]]}],\"heatmap\":[{\"type\":\"heatmap\",\"colorbar\":{\"outlinewidth\":0,\"ticks\":\"\"},\"colorscale\":[[0.0,\"#0d0887\"],[0.1111111111111111,\"#46039f\"],[0.2222222222222222,\"#7201a8\"],[0.3333333333333333,\"#9c179e\"],[0.4444444444444444,\"#bd3786\"],[0.5555555555555556,\"#d8576b\"],[0.6666666666666666,\"#ed7953\"],[0.7777777777777778,\"#fb9f3a\"],[0.8888888888888888,\"#fdca26\"],[1.0,\"#f0f921\"]]}],\"heatmapgl\":[{\"type\":\"heatmapgl\",\"colorbar\":{\"outlinewidth\":0,\"ticks\":\"\"},\"colorscale\":[[0.0,\"#0d0887\"],[0.1111111111111111,\"#46039f\"],[0.2222222222222222,\"#7201a8\"],[0.3333333333333333,\"#9c179e\"],[0.4444444444444444,\"#bd3786\"],[0.5555555555555556,\"#d8576b\"],[0.6666666666666666,\"#ed7953\"],[0.7777777777777778,\"#fb9f3a\"],[0.8888888888888888,\"#fdca26\"],[1.0,\"#f0f921\"]]}],\"contourcarpet\":[{\"type\":\"contourcarpet\",\"colorbar\":{\"outlinewidth\":0,\"ticks\":\"\"}}],\"contour\":[{\"type\":\"contour\",\"colorbar\":{\"outlinewidth\":0,\"ticks\":\"\"},\"colorscale\":[[0.0,\"#0d0887\"],[0.1111111111111111,\"#46039f\"],[0.2222222222222222,\"#7201a8\"],[0.3333333333333333,\"#9c179e\"],[0.4444444444444444,\"#bd3786\"],[0.5555555555555556,\"#d8576b\"],[0.6666666666666666,\"#ed7953\"],[0.7777777777777778,\"#fb9f3a\"],[0.8888888888888888,\"#fdca26\"],[1.0,\"#f0f921\"]]}],\"surface\":[{\"type\":\"surface\",\"colorbar\":{\"outlinewidth\":0,\"ticks\":\"\"},\"colorscale\":[[0.0,\"#0d0887\"],[0.1111111111111111,\"#46039f\"],[0.2222222222222222,\"#7201a8\"],[0.3333333333333333,\"#9c179e\"],[0.4444444444444444,\"#bd3786\"],[0.5555555555555556,\"#d8576b\"],[0.6666666666666666,\"#ed7953\"],[0.7777777777777778,\"#fb9f3a\"],[0.8888888888888888,\"#fdca26\"],[1.0,\"#f0f921\"]]}],\"mesh3d\":[{\"type\":\"mesh3d\",\"colorbar\":{\"outlinewidth\":0,\"ticks\":\"\"}}],\"scatter\":[{\"fillpattern\":{\"fillmode\":\"overlay\",\"size\":10,\"solidity\":0.2},\"type\":\"scatter\"}],\"parcoords\":[{\"type\":\"parcoords\",\"line\":{\"colorbar\":{\"outlinewidth\":0,\"ticks\":\"\"}}}],\"scatterpolargl\":[{\"type\":\"scatterpolargl\",\"marker\":{\"colorbar\":{\"outlinewidth\":0,\"ticks\":\"\"}}}],\"bar\":[{\"error_x\":{\"color\":\"#2a3f5f\"},\"error_y\":{\"color\":\"#2a3f5f\"},\"marker\":{\"line\":{\"color\":\"#E5ECF6\",\"width\":0.5},\"pattern\":{\"fillmode\":\"overlay\",\"size\":10,\"solidity\":0.2}},\"type\":\"bar\"}],\"scattergeo\":[{\"type\":\"scattergeo\",\"marker\":{\"colorbar\":{\"outlinewidth\":0,\"ticks\":\"\"}}}],\"scatterpolar\":[{\"type\":\"scatterpolar\",\"marker\":{\"colorbar\":{\"outlinewidth\":0,\"ticks\":\"\"}}}],\"histogram\":[{\"marker\":{\"pattern\":{\"fillmode\":\"overlay\",\"size\":10,\"solidity\":0.2}},\"type\":\"histogram\"}],\"scattergl\":[{\"type\":\"scattergl\",\"marker\":{\"colorbar\":{\"outlinewidth\":0,\"ticks\":\"\"}}}],\"scatter3d\":[{\"type\":\"scatter3d\",\"line\":{\"colorbar\":{\"outlinewidth\":0,\"ticks\":\"\"}},\"marker\":{\"colorbar\":{\"outlinewidth\":0,\"ticks\":\"\"}}}],\"scattermapbox\":[{\"type\":\"scattermapbox\",\"marker\":{\"colorbar\":{\"outlinewidth\":0,\"ticks\":\"\"}}}],\"scatterternary\":[{\"type\":\"scatterternary\",\"marker\":{\"colorbar\":{\"outlinewidth\":0,\"ticks\":\"\"}}}],\"scattercarpet\":[{\"type\":\"scattercarpet\",\"marker\":{\"colorbar\":{\"outlinewidth\":0,\"ticks\":\"\"}}}],\"carpet\":[{\"aaxis\":{\"endlinecolor\":\"#2a3f5f\",\"gridcolor\":\"white\",\"linecolor\":\"white\",\"minorgridcolor\":\"white\",\"startlinecolor\":\"#2a3f5f\"},\"baxis\":{\"endlinecolor\":\"#2a3f5f\",\"gridcolor\":\"white\",\"linecolor\":\"white\",\"minorgridcolor\":\"white\",\"startlinecolor\":\"#2a3f5f\"},\"type\":\"carpet\"}],\"table\":[{\"cells\":{\"fill\":{\"color\":\"#EBF0F8\"},\"line\":{\"color\":\"white\"}},\"header\":{\"fill\":{\"color\":\"#C8D4E3\"},\"line\":{\"color\":\"white\"}},\"type\":\"table\"}],\"barpolar\":[{\"marker\":{\"line\":{\"color\":\"#E5ECF6\",\"width\":0.5},\"pattern\":{\"fillmode\":\"overlay\",\"size\":10,\"solidity\":0.2}},\"type\":\"barpolar\"}],\"pie\":[{\"automargin\":true,\"type\":\"pie\"}]},\"layout\":{\"autotypenumbers\":\"strict\",\"colorway\":[\"#636efa\",\"#EF553B\",\"#00cc96\",\"#ab63fa\",\"#FFA15A\",\"#19d3f3\",\"#FF6692\",\"#B6E880\",\"#FF97FF\",\"#FECB52\"],\"font\":{\"color\":\"#2a3f5f\"},\"hovermode\":\"closest\",\"hoverlabel\":{\"align\":\"left\"},\"paper_bgcolor\":\"white\",\"plot_bgcolor\":\"#E5ECF6\",\"polar\":{\"bgcolor\":\"#E5ECF6\",\"angularaxis\":{\"gridcolor\":\"white\",\"linecolor\":\"white\",\"ticks\":\"\"},\"radialaxis\":{\"gridcolor\":\"white\",\"linecolor\":\"white\",\"ticks\":\"\"}},\"ternary\":{\"bgcolor\":\"#E5ECF6\",\"aaxis\":{\"gridcolor\":\"white\",\"linecolor\":\"white\",\"ticks\":\"\"},\"baxis\":{\"gridcolor\":\"white\",\"linecolor\":\"white\",\"ticks\":\"\"},\"caxis\":{\"gridcolor\":\"white\",\"linecolor\":\"white\",\"ticks\":\"\"}},\"coloraxis\":{\"colorbar\":{\"outlinewidth\":0,\"ticks\":\"\"}},\"colorscale\":{\"sequential\":[[0.0,\"#0d0887\"],[0.1111111111111111,\"#46039f\"],[0.2222222222222222,\"#7201a8\"],[0.3333333333333333,\"#9c179e\"],[0.4444444444444444,\"#bd3786\"],[0.5555555555555556,\"#d8576b\"],[0.6666666666666666,\"#ed7953\"],[0.7777777777777778,\"#fb9f3a\"],[0.8888888888888888,\"#fdca26\"],[1.0,\"#f0f921\"]],\"sequentialminus\":[[0.0,\"#0d0887\"],[0.1111111111111111,\"#46039f\"],[0.2222222222222222,\"#7201a8\"],[0.3333333333333333,\"#9c179e\"],[0.4444444444444444,\"#bd3786\"],[0.5555555555555556,\"#d8576b\"],[0.6666666666666666,\"#ed7953\"],[0.7777777777777778,\"#fb9f3a\"],[0.8888888888888888,\"#fdca26\"],[1.0,\"#f0f921\"]],\"diverging\":[[0,\"#8e0152\"],[0.1,\"#c51b7d\"],[0.2,\"#de77ae\"],[0.3,\"#f1b6da\"],[0.4,\"#fde0ef\"],[0.5,\"#f7f7f7\"],[0.6,\"#e6f5d0\"],[0.7,\"#b8e186\"],[0.8,\"#7fbc41\"],[0.9,\"#4d9221\"],[1,\"#276419\"]]},\"xaxis\":{\"gridcolor\":\"white\",\"linecolor\":\"white\",\"ticks\":\"\",\"title\":{\"standoff\":15},\"zerolinecolor\":\"white\",\"automargin\":true,\"zerolinewidth\":2},\"yaxis\":{\"gridcolor\":\"white\",\"linecolor\":\"white\",\"ticks\":\"\",\"title\":{\"standoff\":15},\"zerolinecolor\":\"white\",\"automargin\":true,\"zerolinewidth\":2},\"scene\":{\"xaxis\":{\"backgroundcolor\":\"#E5ECF6\",\"gridcolor\":\"white\",\"linecolor\":\"white\",\"showbackground\":true,\"ticks\":\"\",\"zerolinecolor\":\"white\",\"gridwidth\":2},\"yaxis\":{\"backgroundcolor\":\"#E5ECF6\",\"gridcolor\":\"white\",\"linecolor\":\"white\",\"showbackground\":true,\"ticks\":\"\",\"zerolinecolor\":\"white\",\"gridwidth\":2},\"zaxis\":{\"backgroundcolor\":\"#E5ECF6\",\"gridcolor\":\"white\",\"linecolor\":\"white\",\"showbackground\":true,\"ticks\":\"\",\"zerolinecolor\":\"white\",\"gridwidth\":2}},\"shapedefaults\":{\"line\":{\"color\":\"#2a3f5f\"}},\"annotationdefaults\":{\"arrowcolor\":\"#2a3f5f\",\"arrowhead\":0,\"arrowwidth\":1},\"geo\":{\"bgcolor\":\"white\",\"landcolor\":\"#E5ECF6\",\"subunitcolor\":\"white\",\"showland\":true,\"showlakes\":true,\"lakecolor\":\"white\"},\"title\":{\"x\":0.05},\"mapbox\":{\"style\":\"light\"}}},\"geo\":{\"domain\":{\"x\":[0.0,1.0],\"y\":[0.0,1.0]},\"center\":{},\"scope\":\"usa\"},\"legend\":{\"tracegroupgap\":0,\"itemsizing\":\"constant\"},\"title\":{\"text\":\"Top 5 Disaster-Prone Areas in HCA States with Over 1,000 Disasters\"}},                        {\"responsive\": true}                    ).then(function(){\n",
       "                            \n",
       "var gd = document.getElementById('886457d5-de54-4ee1-9c3c-4516c4fc302c');\n",
       "var x = new MutationObserver(function (mutations, observer) {{\n",
       "        var display = window.getComputedStyle(gd).display;\n",
       "        if (!display || display === 'none') {{\n",
       "            console.log([gd, 'removed!']);\n",
       "            Plotly.purge(gd);\n",
       "            observer.disconnect();\n",
       "        }}\n",
       "}});\n",
       "\n",
       "// Listen for the removal of the full notebook cells\n",
       "var notebookContainer = gd.closest('#notebook-container');\n",
       "if (notebookContainer) {{\n",
       "    x.observe(notebookContainer, {childList: true});\n",
       "}}\n",
       "\n",
       "// Listen for the clearing of the current output cell\n",
       "var outputEl = gd.closest('.output');\n",
       "if (outputEl) {{\n",
       "    x.observe(outputEl, {childList: true});\n",
       "}}\n",
       "\n",
       "                        })                };                });            </script>        </div>"
      ]
     },
     "metadata": {},
     "output_type": "display_data"
    }
   ],
   "source": [
    "import plotly.express as px\n",
    "\n",
    "state_dcount_over1k = [\"CA\", \"FL\", \"GA\", \"IN\", \"KS\", \"KY\", \"LA\", \"MO\", \"NC\", \"SC\", \"TN\", \"TX\", \"VA\"]\n",
    "\n",
    "# only 5 areas for states with over 1,000 disasters\n",
    "filtered_disaster_areas = top_5_disaster_areas[top_5_disaster_areas[\"facility_state\"].isin(state_dcount_over1k)]\n",
    "\n",
    "top5area = px.scatter_geo(\n",
    "    filtered_disaster_areas,\n",
    "    lat=\"latitude\",\n",
    "    lon=\"longitude\",\n",
    "    size=\"disasterNumber\",  \n",
    "    title=\"Top 5 Disaster-Prone Areas in HCA States with Over 1,000 Disasters\",\n",
    "    scope=\"usa\",\n",
    "    hover_name=\"designatedArea\",  \n",
    "    hover_data={\"facility_state\": True, \"designatedArea\": True, \"disasterNumber\": True},  \n",
    ")\n",
    "\n",
    "top5area.show()\n"
   ]
  },
  {
   "cell_type": "code",
   "execution_count": 202,
   "id": "6911353c-94d0-446d-aebc-f99b3391be75",
   "metadata": {},
   "outputs": [
    {
     "data": {
      "text/html": [
       "<div>\n",
       "<style scoped>\n",
       "    .dataframe tbody tr th:only-of-type {\n",
       "        vertical-align: middle;\n",
       "    }\n",
       "\n",
       "    .dataframe tbody tr th {\n",
       "        vertical-align: top;\n",
       "    }\n",
       "\n",
       "    .dataframe thead th {\n",
       "        text-align: right;\n",
       "    }\n",
       "</style>\n",
       "<table border=\"1\" class=\"dataframe\">\n",
       "  <thead>\n",
       "    <tr style=\"text-align: right;\">\n",
       "      <th></th>\n",
       "      <th>facility_state</th>\n",
       "      <th>disasterNumber</th>\n",
       "      <th>incidentType</th>\n",
       "    </tr>\n",
       "  </thead>\n",
       "  <tbody>\n",
       "    <tr>\n",
       "      <th>4</th>\n",
       "      <td>ID</td>\n",
       "      <td>5520</td>\n",
       "      <td>Fire</td>\n",
       "    </tr>\n",
       "    <tr>\n",
       "      <th>5</th>\n",
       "      <td>ID</td>\n",
       "      <td>5520</td>\n",
       "      <td>Fire</td>\n",
       "    </tr>\n",
       "    <tr>\n",
       "      <th>6</th>\n",
       "      <td>ID</td>\n",
       "      <td>5520</td>\n",
       "      <td>Fire</td>\n",
       "    </tr>\n",
       "    <tr>\n",
       "      <th>23</th>\n",
       "      <td>ID</td>\n",
       "      <td>5510</td>\n",
       "      <td>Fire</td>\n",
       "    </tr>\n",
       "    <tr>\n",
       "      <th>24</th>\n",
       "      <td>ID</td>\n",
       "      <td>5510</td>\n",
       "      <td>Fire</td>\n",
       "    </tr>\n",
       "    <tr>\n",
       "      <th>45</th>\n",
       "      <td>TX</td>\n",
       "      <td>5488</td>\n",
       "      <td>Fire</td>\n",
       "    </tr>\n",
       "    <tr>\n",
       "      <th>46</th>\n",
       "      <td>TX</td>\n",
       "      <td>5488</td>\n",
       "      <td>Fire</td>\n",
       "    </tr>\n",
       "    <tr>\n",
       "      <th>47</th>\n",
       "      <td>TX</td>\n",
       "      <td>5488</td>\n",
       "      <td>Fire</td>\n",
       "    </tr>\n",
       "    <tr>\n",
       "      <th>48</th>\n",
       "      <td>TX</td>\n",
       "      <td>5487</td>\n",
       "      <td>Fire</td>\n",
       "    </tr>\n",
       "    <tr>\n",
       "      <th>49</th>\n",
       "      <td>LA</td>\n",
       "      <td>5486</td>\n",
       "      <td>Fire</td>\n",
       "    </tr>\n",
       "    <tr>\n",
       "      <th>50</th>\n",
       "      <td>LA</td>\n",
       "      <td>5486</td>\n",
       "      <td>Fire</td>\n",
       "    </tr>\n",
       "    <tr>\n",
       "      <th>51</th>\n",
       "      <td>LA</td>\n",
       "      <td>5485</td>\n",
       "      <td>Fire</td>\n",
       "    </tr>\n",
       "    <tr>\n",
       "      <th>52</th>\n",
       "      <td>LA</td>\n",
       "      <td>5484</td>\n",
       "      <td>Fire</td>\n",
       "    </tr>\n",
       "    <tr>\n",
       "      <th>54</th>\n",
       "      <td>LA</td>\n",
       "      <td>5482</td>\n",
       "      <td>Fire</td>\n",
       "    </tr>\n",
       "    <tr>\n",
       "      <th>63</th>\n",
       "      <td>AK</td>\n",
       "      <td>5473</td>\n",
       "      <td>Fire</td>\n",
       "    </tr>\n",
       "    <tr>\n",
       "      <th>74</th>\n",
       "      <td>KS</td>\n",
       "      <td>5463</td>\n",
       "      <td>Fire</td>\n",
       "    </tr>\n",
       "    <tr>\n",
       "      <th>86</th>\n",
       "      <td>CA</td>\n",
       "      <td>5453</td>\n",
       "      <td>Fire</td>\n",
       "    </tr>\n",
       "    <tr>\n",
       "      <th>87</th>\n",
       "      <td>CA</td>\n",
       "      <td>5453</td>\n",
       "      <td>Fire</td>\n",
       "    </tr>\n",
       "    <tr>\n",
       "      <th>88</th>\n",
       "      <td>ID</td>\n",
       "      <td>5452</td>\n",
       "      <td>Fire</td>\n",
       "    </tr>\n",
       "    <tr>\n",
       "      <th>89</th>\n",
       "      <td>CA</td>\n",
       "      <td>5451</td>\n",
       "      <td>Fire</td>\n",
       "    </tr>\n",
       "  </tbody>\n",
       "</table>\n",
       "</div>"
      ],
      "text/plain": [
       "   facility_state  disasterNumber incidentType\n",
       "4              ID            5520         Fire\n",
       "5              ID            5520         Fire\n",
       "6              ID            5520         Fire\n",
       "23             ID            5510         Fire\n",
       "24             ID            5510         Fire\n",
       "45             TX            5488         Fire\n",
       "46             TX            5488         Fire\n",
       "47             TX            5488         Fire\n",
       "48             TX            5487         Fire\n",
       "49             LA            5486         Fire\n",
       "50             LA            5486         Fire\n",
       "51             LA            5485         Fire\n",
       "52             LA            5484         Fire\n",
       "54             LA            5482         Fire\n",
       "63             AK            5473         Fire\n",
       "74             KS            5463         Fire\n",
       "86             CA            5453         Fire\n",
       "87             CA            5453         Fire\n",
       "88             ID            5452         Fire\n",
       "89             CA            5451         Fire"
      ]
     },
     "metadata": {},
     "output_type": "display_data"
    }
   ],
   "source": [
    "import pandas as pd\n",
    "import matplotlib.pyplot as plt\n",
    "import seaborn as sns\n",
    "\n",
    "table_data = fema_filtered[[\"facility_state\", \"disasterNumber\", \"incidentType\",]]\n",
    "\n",
    "import pandas as pd\n",
    "from IPython.display import display\n",
    "\n",
    "display(table_data.head(20))  \n"
   ]
  },
  {
   "cell_type": "code",
   "execution_count": null,
   "id": "51deaf73-b17f-476c-888f-e01c8a43fa93",
   "metadata": {},
   "outputs": [],
   "source": []
  }
 ],
 "metadata": {
  "kernelspec": {
   "display_name": "Python 3 (ipykernel)",
   "language": "python",
   "name": "python3"
  },
  "language_info": {
   "codemirror_mode": {
    "name": "ipython",
    "version": 3
   },
   "file_extension": ".py",
   "mimetype": "text/x-python",
   "name": "python",
   "nbconvert_exporter": "python",
   "pygments_lexer": "ipython3",
   "version": "3.12.2"
  }
 },
 "nbformat": 4,
 "nbformat_minor": 5
}
